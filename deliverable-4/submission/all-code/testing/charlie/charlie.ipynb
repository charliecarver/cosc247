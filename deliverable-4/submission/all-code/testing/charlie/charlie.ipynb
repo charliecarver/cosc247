{
 "cells": [
  {
   "cell_type": "code",
   "execution_count": 6,
   "outputs": [],
   "source": [
    "# Load CSV files from remote repo\n",
    "import requests\n",
    "import zipfile\n",
    "import io\n",
    "r = requests.get('https://github.com/charliecarver/cosc247/blob/master/datasets.zip?raw=true')\n",
    "z = zipfile.ZipFile(io.BytesIO(r.content))\n",
    "z.extractall()\n",
    "testPath = 'Test.csv'\n",
    "trainPath = 'Train.csv'"
   ],
   "metadata": {
    "collapsed": false,
    "pycharm": {
     "name": "#%%\n"
    }
   }
  },
  {
   "cell_type": "code",
   "execution_count": 67,
   "outputs": [],
   "source": [
    "# Import required libraries\n",
    "import pandas as pd\n",
    "import numpy as np\n",
    "from ast import literal_eval"
   ],
   "metadata": {
    "collapsed": false,
    "pycharm": {
     "name": "#%%\n"
    }
   }
  },
  {
   "cell_type": "code",
   "execution_count": 8,
   "outputs": [],
   "source": [
    "# Load CSV data\n",
    "trainRaw = pd.read_csv(trainPath)\n",
    "testRaw = pd.read_csv(testPath)"
   ],
   "metadata": {
    "collapsed": false,
    "pycharm": {
     "name": "#%%\n"
    }
   }
  },
  {
   "cell_type": "code",
   "source": [
    "# trainRaw.info()\n",
    "raw = trainRaw\n",
    "proc = raw\n",
    "dropped = proc.drop(columns=['reviewText','reviewTime','summary','categories','songs','related','helpful','root-genre','label'])\n",
    "\n",
    "# # Compute percent helpful\n",
    "# h = np.array([literal_eval(i) for i in proc['helpful']])\n",
    "# percentHelpful = h[:,0]/h[:,1]\n",
    "#\n",
    "# # Map genre to numbers\n",
    "# g = np.array(proc['root-genre'].unique(), dtype=str)\n",
    "# genreNumerical = np.array([np.where(i==g)[0][0] for i in proc['root-genre']])\n",
    "\n",
    "# Map label to numbers\n",
    "l = np.array(proc['label'].unique())\n",
    "labelNumerical = np.array([np.where(i==l)[0] for i in proc['label']])\n",
    "# for j,i in enumerate(labelNumerical):\n",
    "#     print(j,i[0])\n",
    "proc['label'][28882]\n",
    "\n",
    "# labelNumerical\n",
    "# # dropped.head()"
   ],
   "metadata": {
    "collapsed": false,
    "pycharm": {
     "name": "#%%\n"
    }
   },
   "execution_count": 199,
   "outputs": [
    {
     "data": {
      "text/plain": "'E Squared'"
     },
     "execution_count": 199,
     "metadata": {},
     "output_type": "execute_result"
    }
   ]
  }
 ],
 "metadata": {
  "kernelspec": {
   "display_name": "Python 3",
   "language": "python",
   "name": "python3"
  },
  "language_info": {
   "codemirror_mode": {
    "name": "ipython",
    "version": 2
   },
   "file_extension": ".py",
   "mimetype": "text/x-python",
   "name": "python",
   "nbconvert_exporter": "python",
   "pygments_lexer": "ipython2",
   "version": "2.7.6"
  }
 },
 "nbformat": 4,
 "nbformat_minor": 0
}