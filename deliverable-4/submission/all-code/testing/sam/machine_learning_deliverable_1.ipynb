{
 "nbformat": 4,
 "nbformat_minor": 0,
 "metadata": {
  "colab": {
   "name": "Machine learning deliverable 1",
   "provenance": [],
   "collapsed_sections": [
    "PqTt62AFUQFp",
    "bWTO6xGnUBNN"
   ]
  },
  "kernelspec": {
   "name": "python3",
   "language": "python",
   "display_name": "Python 3"
  }
 },
 "cells": [
  {
   "cell_type": "markdown",
   "metadata": {
    "id": "PqTt62AFUQFp"
   },
   "source": [
    "# Prerequisites"
   ]
  },
  {
   "cell_type": "code",
   "metadata": {
    "id": "6oO8YRJnNpk5"
   },
   "source": [
    "# Load dataset from Github\n",
    "import requests, zipfile, io\n",
    "r = requests.get('https://github.com/charliecarver/cosc247/blob/master/datasets.zip?raw=true') \n",
    "z = zipfile.ZipFile(io.BytesIO(r.content))\n",
    "z.extractall()\n",
    "testPath = 'Test.csv'\n",
    "trainPath = 'Train.csv'"
   ],
   "execution_count": 4,
   "outputs": []
  },
  {
   "cell_type": "code",
   "metadata": {
    "colab": {
     "base_uri": "https://localhost:8080/"
    },
    "id": "a1XomPFOUaWZ",
    "outputId": "03cd241f-73a6-46ac-c834-f5f9a21e1c1d"
   },
   "source": [
    "# Import required libraries\n",
    "import pandas as pd\n",
    "import numpy as np\n",
    "import nltk\n",
    "import nltk.tokenize\n",
    "import math\n",
    "from nltk.corpus import stopwords\n",
    "from collections import defaultdict\n",
    "import sklearn.model_selection\n",
    "import sklearn.metrics\n",
    "import sklearn.naive_bayes\n",
    "import sklearn.tree\n",
    "nltk.download('stopwords')\n",
    "nltk.download('punkt')"
   ],
   "execution_count": 5,
   "outputs": [
    {
     "name": "stderr",
     "output_type": "stream",
     "text": [
      "[nltk_data] Downloading package stopwords to\n",
      "[nltk_data]     /Users/charlescarver/nltk_data...\n",
      "[nltk_data]   Package stopwords is already up-to-date!\n",
      "[nltk_data] Downloading package punkt to\n",
      "[nltk_data]     /Users/charlescarver/nltk_data...\n",
      "[nltk_data]   Package punkt is already up-to-date!\n"
     ]
    },
    {
     "data": {
      "text/plain": "True"
     },
     "execution_count": 5,
     "metadata": {},
     "output_type": "execute_result"
    }
   ]
  },
  {
   "cell_type": "markdown",
   "metadata": {
    "id": "Y_NdLgnWUngL"
   },
   "source": [
    "# Preprocessing"
   ]
  },
  {
   "cell_type": "code",
   "metadata": {
    "colab": {
     "base_uri": "https://localhost:8080/"
    },
    "id": "cMX-GeK0EKhH",
    "outputId": "ec811cbd-e68b-47f6-b2dc-e7e9865766b7"
   },
   "source": [
    "def tokenize_without_stopwords(review, stop_words):\n",
    "    if type(review) == str:\n",
    "        tokenized = nltk.tokenize.word_tokenize(review)\n",
    "\n",
    "        return [word for word in tokenized if word not in stop_words]\n",
    "    else:\n",
    "        return []\n",
    "\n",
    "# a product is awesome if the average of its reviews is awesome\n",
    "# lets try and find whether a review is awesome\n",
    "# so that looks like... what?\n",
    "\n",
    "# get a list of all unique non-stop words and the frequency count in this database for that\n",
    "# and a list of all unique non-stop 2-grams\n",
    "training_data = pd.read_csv(trainPath)\n",
    "print(training_data.columns)\n",
    "print(training_data.iloc[0]['overall'])\n",
    "\n",
    "# get all words in all of the reviews\n",
    "print(\"Mapping reviews to lower case\")\n",
    "training_data['reviewText'] = training_data['reviewText'].apply(lambda x: x.lower() if not type(x) == float else x)\n",
    "\n",
    "# load a numpy array with each word being a feature w/ a frequency in the whole setup\n",
    "# get the count of each unique word then order them in a list then make a matrix with rows being the data points and columns being\n",
    "# the words. So first step is a list of all words\n",
    "\n",
    "word_frequency = defaultdict(lambda: 0)\n",
    "\n",
    "stop_words_set = set(stopwords.words('english'))\n",
    "\n",
    "print(\"Building word frequency dictionary...\")\n",
    "for review in training_data['reviewText']:\n",
    "    review_words = tokenize_without_stopwords(review, stop_words_set)\n",
    "\n",
    "    for word in review_words:\n",
    "        word_frequency[word] = word_frequency[word] + 1\n",
    "\n",
    "filter_count = 400\n",
    "common_words = [word for word, freq in word_frequency.items() if freq > filter_count]\n",
    "common_words.sort(key=lambda word: word_frequency[word], reverse=True)\n",
    "\n",
    "print(common_words)\n",
    "\n",
    "print(\"Number of unique words\", len(word_frequency))\n",
    "print(\"Number words that appear more than {} times\".format(filter_count), len(\n",
    "    common_words\n",
    "))\n",
    "\n",
    "print(\"Getting unique id for each word...\")\n",
    "index_by_word = {}\n",
    "\n",
    "for index, word in enumerate(common_words):\n",
    "    index_by_word[word] = index\n",
    "\n",
    "predicted_variable = np.zeros(len(training_data), dtype=np.int8)\n",
    "\n",
    "print(\"Creating traning matrix\")\n",
    "data = np.zeros((len(training_data), len(common_words)), dtype=float)\n",
    "for row_idx, data_row in training_data.iterrows():\n",
    "    review_words = tokenize_without_stopwords(data_row['reviewText'], stop_words_set)\n",
    "    if data_row['overall'] >= 4:\n",
    "        predicted_variable[row_idx] = 1\n",
    "\n",
    "    for word in review_words:\n",
    "        if word in index_by_word:\n",
    "            word_idx = index_by_word[word]\n",
    "            data[row_idx][word_idx] = data[row_idx][word_idx] + 1\n",
    "print(\"Done!\")"
   ],
   "execution_count": 6,
   "outputs": [
    {
     "name": "stdout",
     "output_type": "stream",
     "text": [
      "Index(['reviewerID', 'amazon-id', 'helpful', 'unixReviewTime', 'reviewText',\n",
      "       'overall', 'reviewTime', 'summary', 'price', 'categories', 'root-genre',\n",
      "       'title', 'artist', 'label', 'first-release-year', 'songs', 'salesRank',\n",
      "       'related'],\n",
      "      dtype='object')\n",
      "4\n",
      "Mapping reviews to lower case\n",
      "Building word frequency dictionary...\n",
      "[',', '.', \"'s\", ';', '&', \"''\", '``', '!', 'album', ')', 'cd', 'music', 'quot', '(', 'one', \"n't\", 'songs', 'like', 'song', 'great', 'love', 'good', '-', \"'\", 'best', '...', 'would', 'time', 'first', 'really', ':', 'sound', 'get', 'well', '?', 'much', '#', 'listen', 'even', 'new', 'also', 'beatles', 'voice', 'track', 'still', 'many', \"'m\", 'heard', 'better', 'think', 'albums', 'tracks', 'band', 'way', 'two', 'could', \"'ve\", 'back', 'years', 'never', 'ever', 'movie', 'every', 'know', 'work', '--', 'fan', 'say', 'recording', '34', 'listening', 'favorite', 'buy', 'hear', 'rock', 'sounds', 'version', 'beautiful', 'original', 'another', 'lyrics', 'little', 'soundtrack', 'make', 'got', 'christmas', 'find', 'see', 'want', 'go', 'always', 'ca', 'people', 'old', 'collection', 'since', 'something', 'long', 'wonderful', \"'ll\", 'made', 'guitar', 'musical', 'last', 'different', \"'re\", 'though', 'bought', 'score', 'feel', 'enjoy', 'live', 'let', 'set', 'us', 'come', 'amazing', 'day', 'life', 'makes', 'must', 'record', 'world', '*', 'pop', 'singing', 'recommend', 'john', 'classic', 'excellent', 'quality', 'lot', 'release', 'worth', 'vocals', 'may', 'fans', 'right', 'film', 'give', 'nice', 'show', 'play', 'playing', 'yet', 'without', 'put', 'de', 'bit', 'quite', 'times', 'however', '2', 'disc', 'released', 'end', 'style', 'take', 'bad', 'almost', 'hard', 'sing', 'thing', 'far', 'going', 'part', 'done', 'recorded', 'big', 'man', 'found', 'especially', 'anyone', 'single', 'fun', 'played', 'probably', 'perfect', 'real', 'year', 'loved', 'recordings', 'second', 'three', 'along', 'whole', 'said', 'enough', 'together', 'came', 'performance', 'sure', 'actually', 'true', 'highly', 'listened', 'away', 'heart', 'group', 'pretty', 'early', 'thought', 'definitely', 'la', 'although', 'need', 'stars', 'used', 'truly', 'nothing', 'theme', 'title', '..', 'awesome', 'next', 'solo', 'piano', 'comes', 'around', 'god', \"'d\", 'top', '3', 'paul', 'full', 'cds', 'others', 'dance', 'seems', 'greatest', '5', 'piece', 'floyd', 'yes', 'fact', '....', 'anything', 'side', 'looking', 'soul', 'might', '1', 'hit', 'george', 'works', 'simply', 'artist', '4', 'cover', 'wish', 'things', 'written', 'least', 'rest', 'singer', 'review', 'kind', 'high', 'hope', 'britney', 'vocal', 'orchestra', 'night', 'already', 'believe', 'tunes', 'course', 'mind', 'story', 'today', 'later', 'several', 'everything', 'production', 'artists', 'days', 'stuff', 'amazon', 'jazz', 'words', 'pink', 'enjoyed', 'road', 'country', 'saw', 'everyone', 'rather', 'happy', 'material', 'look', 'shows', 'less', 'mix', 'talent', 'absolutely', 'four', 'fine', 'hits', 'maybe', 'disappointed', 'young', 'keep', 'radio', 'fantastic', 'bass', 'catchy', 'point', 'wo', 'star', 'metal', 'start', 'seen', 'money', 'liked', 'ago', 'place', 'sings', 'tell', 'getting', 'dark', 'gets', 'opinion', 'past', 'interesting', 'hearing', 'overall', 'studio', 'often', 'que', 'price', 'beat', 'else', 'versions', 'dvd', 'purchase', 'vinyl', 'entire', 'records', 'home', 'number', 'favorites', 'girl', 'reason', 'someone', 'making', 'takes', 'please', 'lp', 'tune', 'use', 'wanted', 'certainly', 'job', 'short', 'strong', 'powerful', 'previous', 'unique', 'perhaps', 'remember', 'christian', 'help', 'couple', 'concert', 'white', 'performances', 'wall', 'stereo', 'car', 'purchased', 'name', 'bands', 'complete', 'experience', 'pieces', 'guys', 'incredible', 'voices', 'notes', 'american', 'loves', 'el', 'final', 'able', 'finally', 'try', 'reviews', 'wrong', 'cut', 'seem', 'lennon', 'wait', 'late', 'goes', 'available', 'cool', 'either', 'brilliant', 'included', 'singers', 'feeling', 'box', 'buying', 'instead', 'glad', 'become', '`', 'ones', 'known', 'sense', 'sung', 'special', 'went', 'slow', 'left', 'copy', 'modern', 'kids', ']', '[', 'chorus', 'blues', 'musicians', 'power', 'personal', 'throughout', 'lost', 'close', 'note', 'gift', 'background', 'including', 'brings', 'understand', 'ballad', 'case', 'minutes', 'heavy', 'classical', 'huge', 'lead', 'given', 'five', 'clay', 'called', 'half', 'player', 'line', 'trying', 'sometimes', 'melody', 'easy', '10', 'career', 'gives', 'beginning', 'plays', 'baby', 'produced', 'roll', 'thank', 'waters', 'took', 'mean', 'n', 'opening', 'alone', 'read', 'arrangements', 'boys', 'david', 'clear', 'add', 'check', 'composer', 'instrumental', 'age', 'melodies', 'death', 'features', 'woman', 'recommended', 'writing', 'gave', 'black', 'matter', 'art', 'earlier', 'son', 'popular', 'talented', 'funny', 'pure', 'guy', 'simple', 'stand', 'en', 'michael', 'totally', 'debut', 'light', 'completely', 'series', 'among', 'mood', 'knew', 'children', 'word', 'enjoyable', 'order', 'traditional', 'masterpiece', 'listener', 'na', 'contains', 'themes', 'bring', 'sweet', 'coming', 'family', 'opera', 'b', 'head', 'instruments', 'punk', 'expect', 'deep', 'friends', 'fast', 'change', 'familiar', 'symphony', 'performed', 'sounding', 'example', 'house', 'include', 'etc', 'moments', 'abbey', 'eacute', 'cast', 'friend', 'upbeat', 'range', 'superb', 'susan', 'wrote', 'main', 'call', 'oh', 'perfectly', 'drums', 'amp', 'ballads', 'king', 'worship', 'knows', 'dream', '$', 'thanks', 'mccartney', 'appreciate', 'mr.', 'started', 'parts', 'similar', 'beats', 'effort', 'particular', 'history', 'stop', 'bonus', 'book', 'miss', 'lovely', 'chance', 'eyes', 'video', 'forward', '/', 'moving', 'era', 'celtic', 'type', 'scene', 'releases', 'blue', 'form', 'solid', 'plus', 'tone', 'outstanding', 'beauty', 'addition', 'tour', 'fresh', 'person', 'es', 'write', 'pick', 'acoustic', 'soon', 'easily', 'touch', 'run', 'turn', 'strings', 'felt', 'third', 'melodic', 'message', 'somewhat', 'scores', 'joy', 'salsa', 'classics', 'famous', 'emotional', 'guess', 'across', 'broadway', 'doubt', 'williams', 'starts', 'mostly', 'genre', 'memories', 'particularly', 'beautifully', 'exactly', 'movement', 'compilation', 'los', 'revolver', 'except', 'missing', 'anyway', 'sad', 'period', 'gone', 'variety', 'energy', 'roger', '6', 'taken', 'harrison', 'attention', 'u', 'hand', 'mono', 'list', 'saying', 'clearly', 'rich', 'emotion', 'problem', 'includes', 'singles', 'boy', 'ok', 'wonder', 'idea', 'r', 'haunting', 'brought', 'major', 'martin', 'reading', 'beyond', 'school', 'usually', 'remastered', 'daughter', 'james', 'passion', 'moment', 'received', 'stage', 'forever', 'care', 'became', 'future', 'product', 'fire', 'label', 'behind', 'guitars', 'genius', 'dylan', 'disco', 'sounded', 'giving', 'recently', 'sort', 'crazy', 'hold', 'soundtracks', 'beethoven', 'indeed', 'face', 'decided', 'ringo', 'english', 'within', 'pepper', 'moon', 'finest', 'choice', 'romantic', 'originally', 'child', 'needs', 'jesus', 'spirit', 'kiss', 'agree', 'surprised', '80', 'lord', 'present', 'orchestral', 'wow', 'extremely', 'reminds', 'expected', 'despite', 'hey', 'upon', 'nearly', 'tv', 'rap', 'middle', 'styles', 'movies', 'level', 'audience', 'musically', 'says', 'tape', 'seeing', 'mother', 'important', 'mine', 'un', 'imagine', 'follow', 'fit', 'recent', 'bob', 'added', 'covers', 'contemporary', 'based', 'slightly', 'rhythm', '8', 'older', 'project', 'compared', 'holiday', 'ears', 'likes', '9', 'due', 'sgt', 'whether', 'rare', 'rubber', 'admit', 'none', 'fall', '7', '20', 'small', 'game', 'creative', 'french', 'taking', 'usual', 'ordered', 'selection', 'leave', 'boring', 'watch', 'daft', 'beatle', 'longer', 'unfortunately', 'shine', 'thinking', 'audio', 'mozart', 'success', 'personally', 'violin', 'consider', 'smooth', 'certain', 'master', 'free', 'taste', 'party', 'unlike', 'prefer', '.....', 'sorry', 'room', 'war', 'deal', 'memorable', 'means', 'various', 'girls', 'al', 'tired', 'quickly', 'hot', 'surprise', 'dont', 'volume', 'magic', 'created', 'epic', '12', 'solos', 'featuring', 'move', 'immediately', 'feels', 'character', 'cry', 'waiting', 'mixed', 'praise', 'harmonies', 'open', 'minute', 'act', 'string', 'create', 'lots', 'journey', 'spanish', 'role', 'latin', 'compositions', 'serious', 'edition', 'sets', 'gorgeous', 'watching', '70', 'return', 'folk', 'driving', 'inspired', 'obviously', 'sun', 'loud', 'magical', 'bill', 'mark', 'hands', 'josh', 'lucky', 'concerto', 'songwriting', 'musician', 'whatever', 'straight', 'needed', 'deserves', 'living', 'boyle', 'listeners', 'female', 'electronic', 'worst', '8217', 'cuts', 'hell', 'standard', 'hate', 'soft', 'reviewer', 'using', 'lines', 'tempo', 'bach', 'section', 'discs', 'changed', 'talking', 'members', 'oacute', 'exciting', 'turned', 'duet', 'ability', 'low', 'season', 'con', 'stands', 'decent', 'okay', 'picture', 'featured', 'wife', 'exception', 'lo', 'difficult', 'concept', 'relaxing', 'forget', 'following', 'approach', 'possible', 'rendition', 'lyrical', 'composed', 'green', 'choir', 'impressed', 'club', 'century', 'dancing', 'double', 'arrived', 'sang', 'date', 'terrific', 'warm', 'general', 'action', 'compare', 'followed', 'depth', 'ends', 'america', 'ways', 'break', 'booklet', 'mention', 'working', 'nature', 'typical', 'flow', 'lack', 'direction', 'skip', 'wants', 'week', 'changes', 'percussion', 'seemed', 'months', 'reviewers', 'grew', 'rate', 'impressive', 'gilmour', 'summer', 'welcome', 'phil', 'shame', 'eric', '60', 'soothing', 'result', 'talk', 'kid', 'fabulous', 'church', 'mystery', 'aacute', 'continues', 'filled', 'drive', 'spears', 'numbers', 'speak', 'digital', 'minor', 'ten', 'condition', 'puts', 'faith', 'meaning', 'drum', 'composers', 'eminem', 'hip', 'remains', 'earth', 'electric', 'keeps', 'stay', 'favourite', 'absolute', '50', 'extra', 'husband', 'front', 'latest', 'near', 'effect', 'space', 'fell', 'este', 'raw', 'arrangement', 'dead', 'weak', 'uk', 'basically', 'interpretation', 'selections', 'obvious', 'remix', 'gon', 'producer', 'blend', 'liner', 'tears', 'pleasure', 'stunning', 'dramatic', '30', 'elements', 'animals', 'maiden', 'pleased', 'british', 'difference', 'whose', 'tribute', 'fly', 'considered', 'standards', 'instrument', 'lady', 'clean', 'alot', 'drama', 'wan', 'suggest', 'lover', 'continue', 'possibly', 'six', 'rating', 'honestly', 'influence', 'grace', 'steve', 'red', 'father', 'interested', 'women', 'otherwise', 'honest', 'una', 'se', 'iacute', 'enya', 'essential', '40', '15', 'individual', 'gem', 'chris', 'city', 'riffs', 'machine', 'dave', 'perform', 'everybody', 'groups', 'grow', 'lives', 'human', 'highlights', 'mentioned', 'company', 'elton', 'organ', 'ask', 'die', 'composition', 'rocks', 'wild', 'actual', 'mature', 'realize', 'effects', 'uplifting', 'poor', 'yellow', 'adds', 'combination', 'magnificent', 'peter', 'cassette', 'timeless', 'strange', 'worthy', 'spector', 'listens', 'expecting', 'inside', 'progressive', 'generation', 'current', 'como', 'men', 'missed', 'starting', 'hours', 'told', 'biggest', 'las', 'pleasant', 'describe', 'richard', 'born', 'yeah', 'players', \"'the\", 'sessions', 'alive', 'happened', 'worked', 'total', 'download', 'begins', 'excited', 'ride', 'incredibly', 'edge', 'fully', 'ending', 'regret', '11', 'emotions', 'previously', 'kept', 'mp3', 'ahead', 'del', 'finish', 'pass', 'barbra', 'tried', 'joe', '2nd', 'humor', 'pay', 'heaven', 'funky', 'roots', 'sleep', 'dig', 'masters', 'hop', 'delivery', 'air', 'vocalist', 'weeks', 'funk', 'quartet', 'ready', 'submarine', 'frank', 'comedy', 'uses', 'somehow', 'likely', 'store', 'annoying', 'robert', '13', 'london', 'noise', 'fits', 'guitarist', 'enjoying', 'truth', 'feature', 'lovers', 'question', 'offer', 'introduction', 'quiet', 'copies', 'respect', 'sit', 'somewhere', 'plenty', 'item', 'putting', 'step', 'appeal', 'delivers', 'save', 'discovered', 'leaves', 'intro', 'captures', 'led', 'disney', 'begin', 'dear', 'idol', 'ii', 'industry', 'johnny', 'wonderfully', 'considering', 'christ', 'mellow', 'zimmer', 'treat', 'terms', '%', 'key', 'films', 'keyboard', 'seriously', 'cold', 'places', 'karajan', 'filler', 'remarkable', 'super', 'grown', 'sonic', 'growing', 'packaging', 'horn', 'class', 'complex', 'share', 'stronger', 'ray', 'harmony', '100', 'wide', 'beach', 'hoping', 'drummer', 'por', 'large', 'meant', 'looks', 'language', 'began', 'ms.', 'running', 'atmosphere', 'york', 'characters', 'equally', 'comparison', 'becomes', 'emi', 'conductor', 'brian', 'average', 'jeff', 'angel', 'bridge', 'laugh', 'tight', 'learn', 'content', 'appears', 'groove', 'apart', 'william', 'originals', 'problems', 'unless', 'trip', 'carry', 'interest', 'morning', 'mixes', 'control', 'peace', 'successful', 'scenes', 'rod', 'grand', 'twice', 'sold', 'soulful', 'howard', 'watched', 'nicely', 'smile', 'trio', 'bunch', 'supposed', 'tony', 'ensemble', 'onto', 'picked', 'provides', 'proves', 'talents', 'notice', 'aside', 'package', 'inspiring', 'latter', 'superior', 'revolution', 'irish', 'oops', 'disk', 'public', 'closer', 'gospel', 'turns', 'slower', 'weird', 'symphonies', 'jessica', 'efforts', 'jack', 'intense', 'rhythms', 'charts', 'towards', 'state', 'view', 'walk', 'positive', 'hall', 'outside', 'brass', 'commercial', 'generally', 'purchasing', 'ring', 'im', 'finale', 'anymore', 'format', 'wind', 'legendary', 'tells', 'value', '14', 'highlight', 'shore', 'folks', 'shines', 'water', 'amy', 'attempt', 'worse', 'feelings', 'match', 'presence', 'street', 'moved', 'glass', 'lyrically', 'repeat', 'system', 'kinda', 'subtle', 'ya', 'birthday', 'samples', 'nobody', 'refreshing', 'stories', 'younger', 'town', 'winter', 'support', 'jon', 'west', 'reasons', 'greater', 'duran', 'issue', 'streisand', 'harry', 'sexy', 'su', 'holy', 'happen', 'keyboards', 'cause', 'brothers', 'local', 'davis', 'disappointment', 'terrible', 'loving', 'backing', 'hearts', '8220', 'universe', 'para', 'plain', '8221', 'jimmy', 'rolling', 'natural', 'gold', 'aiken', 'wilson', 'bird', 'musicianship', 'former', 'entertaining', 'mi', 'lindsay', 'wanting', 'naked', 'disappoint', 'produce', 'lonely', 'waste', 'parents', 'ep', 'fairly', 'critics', 'odd', 'mom', 'inspiration', 'opens', 'titles', 'producers', 'performers', 'jones', 'tenor', 'sale', 'credit', 'looked', 'sadly', 'sea', 'hardly', 'points', 'instrumentation', 'fair', 'page', 'decades', 'rain', 'broken', 'sister', 'appear', 'hour', 'member', 'anywhere', 'lush', 'sarah', 'helps', 'balance', 'mainly', 'exceptional', 'amount', 'hooked', 'apparently', 'intended', 'ai', 'surely', 'besides', 'favor', 'jerry', 'expectations', 'reminiscent', 'glory', 'legacy', 'higher', 'helped', '1st', 'golden', 'rocker', 'dynamic', 'suite', 'touching', 'goodbye', 'buddy', 'yesterday', 'body', 'dogs', 'nowhere', 'japanese', 'definately', 'technical', 'spent', 'issues', 'dreams', 'stones', 'ear', 'choral', 'anybody', 'vibe', 'brother', 'clarity', 'riff', 'prince', 'gentle', 'rocking', 'computer', 'standout', 'disappointing', 'e', 'gotten', 'psychedelic', 'german', 'stuck', 'thus', 'ntilde', 'mary', 'italian', 'business', 'telling', 'force', 'tom', 'capitol', 'stewart', 'theater', 'remastering', 'silly', 'self', 'thats', 'service', '80s', 'mainstream', 'knowing', 'memory', 'spectacular', 'performing', 'measure', 'jam', 'underrated', 'session', 'blown', '90', 'lacks', 'perfection', 'culture', 'repeated', 'stone', 'twilight', 'gems', 'catalog', 'jackson', 'orchestration', 'glorious', 'print', 'introduced', 'creating', 'rarely', 'ideas', 'choose', 'lose', 'diamond', 'stick', '1970', 'spiritual', 'offers', '.the', 'everywhere', 'hopefully', 'hilarious', 'reissue', 'entirely', 'anderson', 'leads', 'fame', 'owned', 'pull', 'lee', 'lyric', 'focus', 'c', 'eventually', 'celine', 'verse', 'u.s.', 'limited', 'finding', 'seven', 'bright', 'tomorrow', 'soprano', 'tapes', 'leon', 'river', 'rose', 'closing', 'winding', 'sheer', 'lacking', 'sell', 'showing', 'opportunity', 'presented', 'impossible', 'breath', 'influences', 'treasure', 'smith', 'credits', 'pianist', 'artistic', 'reach', 'trumpet', 'pigs', 'decade', 'horrible', 'ta', 'hip-hop', 'groban', 'library', 'monster', 'seconds', 'complaint', 'concertos', 'abba', 'offering', 'awful', 'eight', 'perry', 'caught', 'quick', 'brown', 'heartfelt', 'scott', 'sinatra', 'moves', 'remaster', 'becoming', 'common', 'honey', 'deeply', 'length', 'asked', 'clever', 'cant', 'penny', 'movements', 'drumming', 'appeared', 'ended', 'titled', 'queen', 'comments', 'le', 'te', 'sky', 'march', 'standing', 'cute', 'strongly', 'sitting', 'flat', 'appropriate', 'selling', 'passionate', 'provide', 'listed', 'medley', 'tend', 'setting', 'holds', 'thoroughly', 'twist', 'strength', 'horner', 'all-time', 'synth', 'follows', 'influenced', '~', 'billy', 'falling', 'teen', 'remind', 'signature', 'neither', 'speed', 'month', 'states', 'energetic', 'hans', 'relate', 'delightful', 'afraid', 'literally', 'stupid', 'eye', 'winner', 'adding', 'pace', 'passages', 'blood', '2009', 'lets', '16', 'hung', 'fab', 'pain', 'ages', 'jazzy', 'learned', 'trance', 'legend', 'tradition', 'majority', 'anthology', 'silver', 'songwriter', 'adult', 'instantly', 'proud', '25', 'thrilled', 'miles', 'noticed', 'team', 'horns', 'market', 'performer', 'choices', 'ambient', 'bringing', 'meet', 'hendrix', 'brand', 'paid', 'forgotten', 'mistake', 'realized', 'keeping', 'duets', 'speaking', 'image', 'prior', 'named', '70s', 'van', 'relax', 'justice', 'brief', 'flute', 'chicago', '10/10', 'variations', 'remixes', 'arranged', 'bottom', 'crap', 'shot', 'enjoys', 'techno', 'impact', 'fourth', 'delight', 'combined', 'catch', 'swing', 'alternative', 'negative', 'chose', 'dad', 'taylor', 'hill', 'potential', 'surprisingly', 'touches', 'repetitive', 'flavor', 'genres', 'grant', 'stellar', 'amazon.com', 'contain', 'duo', 'seller', 'experimental', 'gun', 'bells', 'delivered', 'relationship', 'equal', 'iron', 'involved', 'interpretations', 'sent', 'sonatas', 'speakers', 'everyday', 'falls', 'diverse', 'killer', 'aware', 'battle', 'round', 'center', 'concerts', 'slave', 'ground', 'canciones', 'amazed', 'managed', 'garden', 'male', 'deeper', 'hymns', 'mas', 'regular', 'inspirational', 'intensity', 'faster', 'baroque', 'therefore', 'trust', 'itunes', 'captured', 'loss', 'theatre', 'marvelous', 'broke', 'uacute', 'guest', 'maria', '......', 'figure', 'flawless', 'esta', 'chords', 'instrumentals', 'ultimate', 'sax', 'unusual', 'damn', 'searching', 'leading', 'impression', 'rick', 'runs', 'process', 'door', 'sondheim', 'capture', 'cheesy', 'dj', 'deliver', 'kick', '5/5', 'collector', 'technique', 'subject', '3rd', 'alan', 'cello', 'extended', 'comment', 'bear', 'barry', 'manages', 'spend', 'gently', 'danny', 'remain', '17', 'anthem', 'creativity', 'elfman', 'sample', 'showed', 'stated', 'childhood', 'evident', 'whenever', 'passed', 'wright', '18', 'writer', 'send', 'books', 'fill', 'cheap', 'website', 'philharmonic', 'speaks', 'spot', 'western', 'mike', 'syd', 'covered', 'peak', 'rings', 'deserve', 'pictures', 'fields', 'breaking', 'contrast', 'bobby', 'merengue', 'college', 'gifted', 'brahms', 'videos', 'thrown', 'met', 'beck', 'nick', '2.', 'nevertheless', 'thunder', 'elvis', 'yo', 'constantly', 'station', 'midnight', 'renditions', 'blessed', 'leaving', 'casting', 'pressing', 'lps', 'notch', 'lived', 'multiple', 'effective', '.i', 'opened', 'described', 'prog', 'symphonic', 'search', 'happens', 'rough', 'remembered', 'mediocre', 'amor', 'si', 'extraordinary', 'clapton', 'till', 'program', 'melancholy', 'manner', 'creates', 'simon', 'bits', 'jim', 'barely', 'throw', 'satisfying', 'crowd', 'skills', 'highest', 'cross', 'bar', 'grab', 'phantom', 'youth', 'phenomenal', 'bernstein', 'strongest', 'died', 'meaningful', 'additional', 'simpson', 'da', 'fool', '2000', 'somebody', 'lane', 'chord', 'context', 'accompaniment', 'hide', 'detail', 'requiem', 'angels', 'collections', 'tommy', 'vision', 'information', 'improvement', 'nine', 'regardless', 'remake', 'merry', 'must-have', 'promise', 'artwork', 'issued', 'capable', 'import', 'island', 'gifts', 'south', 'dated', 'count', 'cycle', 'replaced', 'appreciated', 'listing', 'chosen', 'biggie', 'secret', 'arguably', 'mixing', 'greatly', 'c.d', 'sections', 'unknown', 'verses', 'tu', 'moore', 'land', 'turning', 'statement', 'genuine', 'bruce', 'bless', 'hammer', 'sublime', 'vocalists', 'reminded', 'feet', 'social', 'toward', 'answer', 'shipping', 'flying', 'hidden', 'television', 'finds', 'mid', 'rca', 'silent', 'mahler', '60s', 'fusion', 'evil', 'thoughts', 'held', 'sides', 'berlin', 'billboard', 'tremendous', 'win', 'showcase', 'hello', 'paris', 'thomas', 'muy', 'tones', 'sick', 'hook', 'reality', 'poetry', 'headphones', 'fight', 'newer', 'results', 'hardcore', 'fear', 'charm', 'political', 'million', 'nonetheless', 'suppose', '1980', 'structure', 'santa', 'carter', 'relatively', 'innovative', 'brilliance', 'park', 'crisp', 'floor', 'g', 'thin', 'harder', 'consistent', 'sacd', 'hair', 'religious', 'youtube', 'improved', 'recognize', 'professional', 'tree', 'polished', 'definitive', 'perspective', 'color', 'blake', 'amazingly', 'buble', 'nicki', 'shape', 'masterpieces', 'soaring', 'lively', 'conducting', 'dean', 'site', 'christina', 'max', 'lohan', 'poignant', 'calling', 'collaboration', 'tonight', 'slight', 'par', 'essence', 'sin', 'showcases', 'compelling', 'sleeping', 'allow', 'varied', 'technology', 'elsewhere', 'exquisite', 'masterful', 'cost', 'sir', 'batman', 'tim', 'greatness', 'soloists', 'hooks', 'goldsmith', 'trouble', 'kings', '1987', 'normal', 'dog', 'numerous', 'phrasing', 'mad', 'kevin', 'news', 'surprising', 'represents', 'allows', 'infectious', 'discover', 'provided', 'storm', 'orchestrations', 'driven', 'pero', 'holidays', 'flows', 'and/or', 'heavily', 'acts', 'dialogue', 'channel', 'sonata', 'screaming', 'presents', 'changing', 'slowly', 'lower', 'calm', 'atmospheric', 'wood', 'understanding', 'pie', 'potter', 'et', 'charlie', 'director', 'marc', 'talks', '1.', 'plan', 'lewis', 'rhythmic', 'definite', 'basic', 'screen', 'intimate', 'naturally', 'details', 'weight', 'attack', 'chamber', 'mixture', 'award', 'agnetha', 'opener', 'instance', 'acting', 'proof', 'brilliantly', 'prove', 'dull', 'remasters', 'lullaby', 'rigby', 'excitement', 'contained', 'ultimately', 'imagination', 'concerned', 'rush', 'op', 'unreleased', 'core', 'currently', 'hype', 'em', 'les', 'kicks', 'planet', 'crafted', 'laughing', 'anthrax', 'instant', '20th', 'contributions', 'bell', 'ladies', 'producing', 'emotionally', 'occasionally', 'loose', 'display', 'wondering', 'express', 'normally', 'joke', 'builds', 'distinct', 'personality', 'prime', 'frankly', 'f', 'inner', 'sheep', 'musica', 'names', 'test', 'gene', 'neil', 'sex', 'disagree', 'russell', 'compilations', 'train', 'finished', 'noted', 'ipod', 'overture', 'peaceful', 'messages', 'blow', 'entertainment', 'experienced', 'darker', 'lesser', 'correct', 'attitude', 'fantasy', 'rocky', 'repertoire', 'historical', 'miller', 'dreamed', 'per', 'explain', 'safe', 'allowed', 'alternate', 'laid', 'tender', 'plant', 'overlooked', 'fascinating', 'shout', 'authentic', 'entitled', 'photos', 'pbs', 'notable', 'reached', 'carefully', 'happiness', 'brick', 'hurt', 'jay', 'hollywood', 'accompanied', 'images', 'cases', 'crystal', 'revival', 'satisfaction', 'online']\n",
      "Number of unique words 249223\n",
      "Number words that appear more than 400 times 2311\n",
      "Getting unique id for each word...\n",
      "Creating traning matrix\n",
      "Done!\n"
     ]
    }
   ]
  },
  {
   "cell_type": "markdown",
   "metadata": {
    "id": "bWTO6xGnUBNN"
   },
   "source": [
    "# Training + Modals"
   ]
  },
  {
   "cell_type": "code",
   "metadata": {
    "colab": {
     "base_uri": "https://localhost:8080/"
    },
    "id": "lZSejBQzU3TE",
    "outputId": "50a81331-eaa1-4bc4-9435-a90d6f8a6d83"
   },
   "source": [
    "# Train data\n",
    "print(\"Doing some machine learning...\")\n",
    "X_train, X_test, y_train, y_test = sklearn.model_selection.train_test_split(data, predicted_variable, test_size=0.4)"
   ],
   "execution_count": 7,
   "outputs": [
    {
     "name": "stdout",
     "output_type": "stream",
     "text": [
      "Doing some machine learning...\n"
     ]
    }
   ]
  },
  {
   "cell_type": "code",
   "metadata": {
    "colab": {
     "base_uri": "https://localhost:8080/"
    },
    "id": "QabgbHUwT9Iv",
    "outputId": "170c2468-2d43-44b0-ccc1-6daefe9b9a6f"
   },
   "source": [
    "# GNB\n",
    "print(\"Trying gaussian naive bayes\")\n",
    "gnb = sklearn.naive_bayes.GaussianNB()\n",
    "y_pred = gnb.fit(X_train, y_train).predict(X_test)\n",
    "print(\"F1 score: {}\".format(sklearn.metrics.f1_score(y_test, y_pred)))\n",
    "print(\"accuracy score: {}\".format(sklearn.metrics.accuracy_score(y_test, y_pred)))"
   ],
   "execution_count": 8,
   "outputs": [
    {
     "name": "stdout",
     "output_type": "stream",
     "text": [
      "Trying gaussian naive bayes\n",
      "F1 score: 0.8779837568195248\n",
      "accuracy score: 0.8002025202520252\n"
     ]
    }
   ]
  },
  {
   "cell_type": "code",
   "metadata": {
    "colab": {
     "base_uri": "https://localhost:8080/"
    },
    "id": "Su3GntrDT00q",
    "outputId": "ae2438df-1c87-48c2-da63-eccef10b399f"
   },
   "source": [
    "# Decision tree\n",
    "print(\"Trying a decision tree\")\n",
    "clf = sklearn.tree.DecisionTreeClassifier(max_depth=4)\n",
    "y_pred = clf.fit(X_train, y_train).predict(X_test)\n",
    "print(\"F1 score: {}\".format(sklearn.metrics.f1_score(y_test, y_pred)))                                                                                                                                                                                                                                                                                                                                                                                                                                                                                                                                                                                         \n",
    "print(\"accuracy score: {}\".format(sklearn.metrics.accuracy_score(y_test, y_pred)))"
   ],
   "execution_count": 9,
   "outputs": [
    {
     "name": "stdout",
     "output_type": "stream",
     "text": [
      "Trying a decision tree\n",
      "F1 score: 0.9306502375657711\n",
      "accuracy score: 0.8715796579657966\n"
     ]
    }
   ]
  }
 ]
}