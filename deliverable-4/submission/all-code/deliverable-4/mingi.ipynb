{
 "cells": [
  {
   "cell_type": "code",
   "execution_count": null,
   "metadata": {
    "collapsed": true
   },
   "outputs": [],
   "source": []
  },
  {
   "cell_type": "markdown",
   "source": [
    "<a href=\"https://colab.research.google.com/github/charliecarver/cosc247/blob/master/deliverable-3/deliverable-3.ipynb\" target=\"_parent\"><img src=\"https://colab.research.google.com/assets/colab-badge.svg\" alt=\"Open In Colab\"/></a>"
   ],
   "metadata": {
    "collapsed": false
   }
  },
  {
   "cell_type": "markdown",
   "source": [
    "## Load Data"
   ],
   "metadata": {
    "collapsed": false
   }
  },
  {
   "cell_type": "code",
   "execution_count": null,
   "outputs": [],
   "source": [
    "# Load CSV files from remote repo\n",
    "import requests\n",
    "import zipfile\n",
    "import io\n",
    "\n",
    "r = requests.get('https://github.com/charliecarver/cosc247/blob/master/datasets.zip?raw=true')\n",
    "z = zipfile.ZipFile(io.BytesIO(r.content))\n",
    "z.extractall()\n",
    "testPath = 'Test.csv'\n",
    "trainPath = 'Train.csv'"
   ],
   "metadata": {
    "collapsed": false,
    "pycharm": {
     "name": "#%%\n"
    }
   }
  },
  {
   "cell_type": "markdown",
   "source": [
    "## Single-File Deliverable"
   ],
   "metadata": {
    "collapsed": false
   }
  },
  {
   "cell_type": "code",
   "execution_count": null,
   "outputs": [],
   "source": [
    "# Import required libraries\n",
    "import pandas as pd\n",
    "import numpy as np\n",
    "import scipy.sparse\n",
    "import string\n",
    "from ast import literal_eval\n",
    "import nltk.tokenize\n",
    "import nltk.stem.porter\n",
    "import math\n",
    "from nltk.corpus import stopwords\n",
    "import sklearn.metrics\n",
    "import statistics\n",
    "import sklearn.naive_bayes\n",
    "import sklearn.feature_extraction.text\n",
    "from sklearn import model_selection\n",
    "from sklearn.preprocessing import OneHotEncoder\n",
    "from sklearn import preprocessing\n",
    "from sklearn import datasets\n",
    "from sklearn.pipeline import Pipeline\n",
    "from sklearn.svm import SVC\n",
    "import sklearn.model_selection\n",
    "import sklearn.metrics\n",
    "import sklearn.naive_bayes\n",
    "import sklearn.tree\n",
    "import sklearn.linear_model\n",
    "from sklearn.metrics import classification_report, confusion_matrix\n",
    "from timeit import default_timer as timer\n",
    "from matplotlib import pyplot as plt\n",
    "from matplotlib import ticker\n",
    "from sklearn.tree import export_graphviz\n",
    "import graphviz\n",
    "from collections import defaultdict\n",
    "from sklearn.model_selection import StratifiedKFold\n",
    "from sklearn.neighbors import KNeighborsClassifier\n",
    "from sklearn.naive_bayes import MultinomialNB\n",
    "from sklearn.model_selection import train_test_split, GridSearchCV\n",
    "from sklearn.ensemble import RandomForestClassifier, VotingClassifier, BaggingClassifier\n",
    "import sklearn.linear_model\n",
    "import sklearn.model_selection\n",
    "import statistics\n",
    "import nltk\n",
    "import sklearn.feature_selection\n",
    "nltk.download('stopwords')\n",
    "nltk.download('wordnet')\n",
    "nltk.download('punkt')\n",
    "nltk.download('averaged_perceptron_tagger')\n",
    "\n",
    "# Flags\n",
    "useTestCSV = False\n",
    "#NGRAM_SIZE = 2\n",
    "NGRAM_SIZE = 4\n",
    "#COMMON_WORD_THRESHOLD = 10\n",
    "COMMON_WORD_THRESHOLD = 4\n",
    "stemmer = nltk.stem.porter.PorterStemmer()\n",
    "\n",
    "def preprocessForTextClassification(df):\n",
    "    df['reviewText'] = df['reviewText'].fillna(\"\")\n",
    "    df['summary'] = df['summary'].fillna(\"\")\n",
    "\n",
    "    P = df.groupby('amazon-id').agg({\n",
    "        'reviewText': ' '.join,\n",
    "        'summary': ' '.join,\n",
    "    })\n",
    "\n",
    "    P['reviewText'] = P['reviewText'] + \" \" + P['summary']\n",
    "\n",
    "    return P\n",
    "\n",
    "\n",
    "# Train text classifier\n",
    "def trainTextFrequency(df):\n",
    "    P = preprocessForTextClassification(df)\n",
    "\n",
    "    #vectorizer = sklearn.feature_extraction.text.TfidfVectorizer(ngram_range=(1,NGRAM_SIZE))\n",
    "    vectorizer = sklearn.feature_extraction.text.TfidfVectorizer(ngram_range=(1,NGRAM_SIZE), min_df=COMMON_WORD_THRESHOLD, preprocessor=lambda token: stemmer.stem(token))\n",
    "    X1 = vectorizer.fit_transform(P['reviewText'])\n",
    "\n",
    "    return X1, vectorizer\n",
    "\n",
    "def getTextMatrix(df, word_indices):\n",
    "    P = preprocessForTextClassification(df)\n",
    "\n",
    "    X1 = word_indices.transform(P['reviewText'])\n",
    "    return X1\n",
    "\n",
    "# function for normalization\n",
    "def normalize_column_data(input_data):\n",
    "    for feature in input_data:\n",
    "        input_data[feature] = (input_data[feature]-input_data[feature].min())/(input_data[feature].max()-input_data[feature].min())\n",
    "\n",
    "# Process numerical data\n",
    "def processNumerical(df):\n",
    "\n",
    "    # Drop text data\n",
    "    df = df.drop(columns=['title', 'categories', 'songs', 'related', 'reviewTime'])\n",
    "\n",
    "    # Drop columns that need more time to process\n",
    "    #df = df.drop(columns=['label', 'first-release-year'])\n",
    "    df = df.drop(columns=['label'])\n",
    "    df['first-release-year'].fillna((df['first-release-year'].median()), inplace=True)\n",
    "    df['first-release-year'] = df['first-release-year'].apply(lambda x: 1 if x > 1990 else 0)\n",
    "\n",
    "    # Transform helpful into \"ratio\" of being helpful\n",
    "    df['helpful'] = df['helpful'].apply(lambda x: np.nan if literal_eval(x)[1]== 0 else literal_eval(x)[0]/literal_eval(x)[1])\n",
    "    df['helpful'].fillna((df['helpful'].median()), inplace=True)\n",
    "\n",
    "    # review counter for each review\n",
    "    df['review_count'] = 1\n",
    "\n",
    "    # Convert categorical data to their own features\n",
    "    # df = df.join(pd.get_dummies(df['root-genre']))\n",
    "    df = df.drop(columns=['root-genre'])\n",
    "\n",
    "    # Return processed data\n",
    "    return df"
   ],
   "metadata": {
    "collapsed": false,
    "pycharm": {
     "name": "#%%\n"
    }
   }
  },
  {
   "cell_type": "code",
   "execution_count": null,
   "outputs": [],
   "source": [
    "# Load data\n",
    "try:\n",
    "    testPath\n",
    "except NameError:\n",
    "    # Default paths of CSV files\n",
    "    print('Loading files from default locations')\n",
    "    testPath = 'Test.csv'\n",
    "    trainPath = 'Train.csv'\n",
    "\n",
    "# Load dataframes\n",
    "dfTrain = pd.read_csv(trainPath)\n",
    "if useTestCSV: dfTest = pd.read_csv(testPath)\n",
    "\n",
    "# Train text classifier on training data\n",
    "trainingTextMatrix, wordIndices = trainTextFrequency(dfTrain)\n",
    "\n",
    "# Process textual data\n",
    "if useTestCSV:\n",
    "    testTextMatrix = getTextMatrix(dfTest, wordIndices)\n",
    "\n",
    "# Process numerical data\n",
    "dfTrain = processNumerical(dfTrain)\n",
    "if useTestCSV: dfTest = processNumerical(dfTest)"
   ],
   "metadata": {
    "collapsed": false,
    "pycharm": {
     "name": "#%%\n"
    }
   }
  },
  {
   "cell_type": "code",
   "execution_count": null,
   "outputs": [],
   "source": [
    "dfTrain"
   ],
   "metadata": {
    "collapsed": false,
    "pycharm": {
     "name": "#%%\n"
    }
   }
  },
  {
   "cell_type": "code",
   "execution_count": null,
   "outputs": [],
   "source": [
    "# Aggregate training\n",
    "isAwesome = lambda x: 1 if np.mean(x) > 4.5 else 0\n",
    "trainData = dfTrain.groupby('amazon-id').agg({\n",
    "    'unixReviewTime': 'mean',\n",
    "    'price': 'mean',\n",
    "    'overall': isAwesome,\n",
    "    'salesRank': 'mean',\n",
    "    'helpful': 'mean',\n",
    "    'first-release-year': 'mean',\n",
    "    'review_count': 'sum'\n",
    "})\n",
    "\n",
    "# normalization for numerical features\n",
    "normalize_column_data(trainData)\n",
    "\n",
    "# Aggregate testing data and split into dependent/independent vars\n",
    "if useTestCSV:\n",
    "    testData = dfTest.groupby('amazon-id').agg({\n",
    "        'unixReviewTime': 'mean',\n",
    "        'price': 'mean',\n",
    "        'salesRank': 'mean',\n",
    "        'helpful': 'mean',\n",
    "\n",
    "        # TODO first release year\n",
    "    })\n",
    "    normalize_column_data(testData)\n",
    "\n",
    "    ytrain = trainData['overall'].to_numpy()\n",
    "    # Todo here using review time, price and others. Let's make consistenet with \"else\" part for 'helpful only'\n",
    "    Xtrain = scipy.sparse.hstack(\n",
    "        (trainingTextMatrix, scipy.sparse.csr_matrix(trainData.drop(columns='overall').to_numpy()))\n",
    "    )\n",
    "    Xtrain = scipy.sparse.csr_matrix(Xtrain)\n",
    "    testIndex = testData.index\n",
    "    Xtest = scipy.sparse.hstack(\n",
    "        (testTextMatrix, scipy.sparse.csr_matrix(testData.to_numpy()))\n",
    "    )\n",
    "    Xtest = scipy.sparse.csr_matrix(Xtest)\n",
    "else:\n",
    "\n",
    "    ablation_columns = ['unixReviewTime', 'price', 'salesRank', 'helpful', 'first-release-year', 'review_count']\n",
    "    Xtrain = scipy.sparse.csr_matrix(scipy.sparse.hstack(\n",
    "        (trainingTextMatrix, scipy.sparse.csr_matrix(trainData[ablation_columns].to_numpy()))\n",
    "    ))\n",
    "\n",
    "    ytrain = trainData['overall'].to_numpy()\n",
    "    selector = sklearn.feature_selection.SelectKBest(sklearn.feature_selection.chi2, k=10000)\n",
    "    Xtrain = selector.fit_transform(Xtrain, ytrain)\n",
    "    Xtrain, Xtest, ytrain, ytest = sklearn.model_selection.train_test_split(Xtrain, trainData['overall'].to_numpy(), test_size=0.3, shuffle=True)"
   ],
   "metadata": {
    "collapsed": false,
    "pycharm": {
     "name": "#%%\n"
    }
   }
  },
  {
   "cell_type": "markdown",
   "source": [
    "## Voting"
   ],
   "metadata": {
    "collapsed": false
   }
  },
  {
   "cell_type": "code",
   "execution_count": 9,
   "outputs": [
    {
     "name": "stdout",
     "output_type": "stream",
     "text": [
      "F1 0.7753359448376416\n",
      "F1 0.7397688171764085\n",
      "F1 0.7645731221068192\n",
      "F1 0.7523254770522712\n",
      "F1 0.7579087696251389\n",
      "F1 0.773240265094886\n",
      "F1 0.7353427192808513\n",
      "F1 0.7645025005682047\n",
      "F1 0.737904417153558\n",
      "F1 0.7589015659520509\n",
      "Mean F1 LR:  0.755980359884783\n"
     ]
    }
   ],
   "source": [
    "voting_flag = False\n",
    "\n",
    "# Testing\n",
    "if not useTestCSV:\n",
    "    # Run ML\n",
    "    kf = sklearn.model_selection.KFold(n_splits=10, random_state=42, shuffle=True)\n",
    "    #kf = sklearn.model_selection.KFold(n_splits=10, shuffle=True)\n",
    "    f1_vals_log = []\n",
    "    f1_vals_rnd = []\n",
    "    f1_vals_svm = []\n",
    "    f1_vals_gnb = []\n",
    "    f1_vals_voting = []\n",
    "\n",
    "    #log_clf = sklearn.linear_model.LogisticRegression(max_iter=100000, class_weight='balanced')\n",
    "    log_clf = sklearn.linear_model.LogisticRegression(max_iter=100000, multi_class='multinomial', C=1.0, class_weight='balanced', penalty='l2')\n",
    "    # for soft\n",
    "    #svm_rbf_clf = SVC(kernel='linear', probability=True)\n",
    "    # for hard\n",
    "    #svm_rbf_clf = SVC(kernel='linear')\n",
    "    svm_rbf_clf = SVC(C=1.1, class_weight='balanced', kernel='linear', max_iter=5000000)\n",
    "    rnd_clf = RandomForestClassifier(n_estimators=300, n_jobs=-1)\n",
    "    MNBclf = MultinomialNB()\n",
    "    gnb_clf = sklearn.naive_bayes.GaussianNB()\n",
    "    #voting_clf = VotingClassifier(estimators=[('lr', log_clf), ('rf', rnd_clf), ('svm', svm_rbf_clf)], voting='hard')\n",
    "    voting_clf = VotingClassifier(estimators=[('lr', log_clf), ('svm', svm_rbf_clf)], voting='hard')\n",
    "\n",
    "    # ('gnb', gnb_clf)\n",
    "    #clf_list = [log_clf, rnd_clf, svm_rbf_clf, voting_clf]\n",
    "    clf_list = [log_clf, svm_rbf_clf, voting_clf]\n",
    "\n",
    "    for train_index, test_index in kf.split(Xtrain):\n",
    "        x_train, x_test = Xtrain[train_index], Xtrain[test_index]\n",
    "        y_train, y_test = ytrain[train_index], ytrain[test_index]\n",
    "\n",
    "        if voting_flag:\n",
    "            print(\"==================================================\")\n",
    "            for clf in clf_list:\n",
    "                clt = clf.fit(x_train, y_train)\n",
    "                f1 = sklearn.metrics.f1_score(y_test, clt.predict(x_test), average='weighted')\n",
    "\n",
    "                if clf == log_clf:\n",
    "                    print(\"logistic regression\")\n",
    "                    f1_vals_log.append(f1)\n",
    "                elif clf == rnd_clf:\n",
    "                    print(\"random forest\")\n",
    "                    f1_vals_rnd.append(f1)\n",
    "                elif clf == gnb_clf:\n",
    "                    print(\"Gaussian Naive\")\n",
    "                    f1_vals_gnb.append(f1)\n",
    "                elif clf == svm_rbf_clf:\n",
    "                    print(\"SVM\")\n",
    "                    f1_vals_svm.append(f1)\n",
    "                else:\n",
    "                    print(\"voting\")\n",
    "                    f1_vals_voting.append(f1)\n",
    "                print(\"F1 {}\".format(f1))\n",
    "\n",
    "        else:\n",
    "            clt = log_clf.fit(x_train, y_train)\n",
    "            f1 = sklearn.metrics.f1_score(y_test, clt.predict(x_test), average='weighted')\n",
    "            f1_vals_log.append(f1)\n",
    "            print(\"F1 {}\".format(f1))\n",
    "\n",
    "    if voting_flag:\n",
    "        print(\"Mean F1 LR: \", statistics.mean(f1_vals_log))\n",
    "        #print(\"Mean F1 RF: \", statistics.mean(f1_vals_rnd))\n",
    "        print(\"Mean F1 SVM: \", statistics.mean(f1_vals_svm))\n",
    "        print(\"Mean F1 voting: \", statistics.mean(f1_vals_voting))\n",
    "    else:\n",
    "        print(\"Mean F1 LR: \", statistics.mean(f1_vals_log))\n",
    "    # print(sklearn.metrics.f1_score(ytest, ypreds, average='weighted'))\n",
    "\n",
    "# Output CSV file with predictions\n",
    "if useTestCSV:\n",
    "\n",
    "    LR = sklearn.linear_model.LogisticRegression(max_iter=100000, class_weight='balanced')\n",
    "    LRTrained = LR.fit(Xtrain, ytrain)\n",
    "    ypreds = LRTrained.predict(Xtest)\n",
    "    # Output predictions for deliverable\n",
    "    output = pd.DataFrame({'amazon-id': testIndex, 'Awesome': ypreds})\n",
    "    output.to_csv('./Product_Predictions.csv')\n",
    "    print(\"Output to ./Product_Predictions.csv\")"
   ],
   "metadata": {
    "collapsed": false,
    "pycharm": {
     "name": "#%%\n"
    }
   }
  },
  {
   "cell_type": "markdown",
   "source": [
    "### Bagging"
   ],
   "metadata": {
    "collapsed": false
   }
  },
  {
   "cell_type": "code",
   "execution_count": null,
   "outputs": [],
   "source": [
    "\"\"\"\n",
    "# Testing\n",
    "if not useTestCSV:\n",
    "    # Run ML\n",
    "    kf = sklearn.model_selection.KFold(n_splits=10, random_state=42, shuffle=True)\n",
    "    #kf = sklearn.model_selection.KFold(n_splits=10, shuffle=True)\n",
    "    f1_vals_log = []\n",
    "    f1_vals_rnd = []\n",
    "    f1_vals_svm = []\n",
    "    f1_vals_gnb = []\n",
    "    f1_vals_voting = []\n",
    "    f1_vals_bagging = []\n",
    "\n",
    "    log_clf = sklearn.linear_model.LogisticRegression(max_iter=100000, class_weight='balanced')\n",
    "    # for soft\n",
    "    #svm_rbf_clf = SVC(kernel='linear', probability=True)\n",
    "    # for hard\n",
    "    svm_rbf_clf = SVC(kernel='linear')\n",
    "    rnd_clf = RandomForestClassifier(n_estimators=300, n_jobs=-1)\n",
    "    MNBclf = MultinomialNB()\n",
    "    gnb_clf = sklearn.naive_bayes.GaussianNB()\n",
    "    #voting_clf = VotingClassifier(estimators=[('lr', log_clf), ('rf', rnd_clf), ('svm', svm_rbf_clf)], voting='hard')\n",
    "    voting_clf = VotingClassifier(estimators=[('lr', log_clf), ('rf', rnd_clf), ('svm', svm_rbf_clf)], voting='hard')\n",
    "\n",
    "    # Bagging classifier\n",
    "    bag_clf = BaggingClassifier(\n",
    "        rnd_clf, n_estimators=500, max_samples=3000, bootstrap=True, n_jobs=-1)\n",
    "\n",
    "    for train_index, test_index in kf.split(Xtrain):\n",
    "        x_train, x_test = Xtrain[train_index], Xtrain[test_index]\n",
    "        y_train, y_test = ytrain[train_index], ytrain[test_index]\n",
    "\n",
    "        print(\"==================================================\")\n",
    "        bag_clf.fit(x_train, y_train)\n",
    "        f1 = sklearn.metrics.f1_score(y_test, bag_clf.predict(x_test), average='weighted')\n",
    "        f1_vals_bagging.append(f1)\n",
    "        print(\"F1 {}\".format(f1))\n",
    "\n",
    "    print(\"Mean F1 bagging: \", statistics.mean(f1_vals_bagging))\n",
    "    #print(\"Mean F1 LR: \", statistics.mean(f1_vals_log))\n",
    "    #print(\"Mean F1 RF: \", statistics.mean(f1_vals_rnd))\n",
    "    #print(\"Mean F1 SVM: \", statistics.mean(f1_vals_svm))\n",
    "    #print(\"Mean F1 voting: \", statistics.mean(f1_vals_voting))\n",
    "\"\"\""
   ],
   "metadata": {
    "collapsed": false,
    "pycharm": {
     "name": "#%%\n"
    }
   }
  },
  {
   "cell_type": "code",
   "execution_count": null,
   "outputs": [],
   "source": [
    "# 2000 year: 0.718\n",
    "# only helpful: 0.720\n",
    "\n",
    "# hard: increase\n",
    "# soft: decrease\n",
    "# without estimation decrease 0.726"
   ],
   "metadata": {
    "collapsed": false,
    "pycharm": {
     "name": "#%%\n"
    }
   }
  }
 ],
 "metadata": {
  "kernelspec": {
   "display_name": "Python 3",
   "language": "python",
   "name": "python3"
  },
  "language_info": {
   "codemirror_mode": {
    "name": "ipython",
    "version": 2
   },
   "file_extension": ".py",
   "mimetype": "text/x-python",
   "name": "python",
   "nbconvert_exporter": "python",
   "pygments_lexer": "ipython2",
   "version": "2.7.6"
  }
 },
 "nbformat": 4,
 "nbformat_minor": 0
}