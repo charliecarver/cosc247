{
 "cells": [
  {
   "cell_type": "code",
   "execution_count": null,
   "metadata": {},
   "outputs": [],
   "source": [
    "import pandas as pd\n",
    "import numpy as np\n",
    "%config IPCompleter.greedy=True # Allows rudimentary intellisense, you have to press <tab>"
   ]
  },
  {
   "cell_type": "code",
   "execution_count": null,
   "metadata": {},
   "outputs": [],
   "source": [
    "train_raw = pd.read_csv('./datasets/Train.csv')\n",
    "test_raw = pd.read_csv('./datasets/Test.csv')"
   ]
  },
  {
   "cell_type": "code",
   "execution_count": null,
   "metadata": {},
   "outputs": [],
   "source": [
    "# \"Process\" data\n",
    "is_awesome = lambda x: 1 if np.mean(x) > 4.5 else 0\n",
    "train_data = train_raw.groupby('amazon-id').agg({'unixReviewTime': 'mean', 'price': 'mean', 'overall': is_awesome})\n",
    "test_data = test_raw.groupby('amazon-id').agg({'unixReviewTime': 'mean', 'price': 'mean'})"
   ]
  },
  {
   "cell_type": "code",
   "execution_count": null,
   "metadata": {},
   "outputs": [],
   "source": [
    "X_train, y_train = train_data[['unixReviewTime', 'price']], train_data['overall']\n",
    "X_test = train_data[['unixReviewTime', 'price']]"
   ]
  },
  {
   "cell_type": "code",
   "execution_count": null,
   "metadata": {},
   "outputs": [],
   "source": [
    "from sklearn.linear_model import RidgeClassifier\n",
    "\n",
    "# Fit model\n",
    "model = RidgeClassifier()\n",
    "model.fit(X_train, y_train)"
   ]
  },
  {
   "cell_type": "code",
   "execution_count": null,
   "metadata": {},
   "outputs": [],
   "source": [
    "# Generate and output predictions\n",
    "preds = model.predict(X_test)\n",
    "output = pd.DataFrame({'amazon-id': X_test.index, 'Awesome': preds})\n",
    "output.to_csv('./Product_Predictions.csv')"
   ]
  },
  {
   "cell_type": "code",
   "execution_count": null,
   "metadata": {},
   "outputs": [],
   "source": []
  }
 ],
 "metadata": {
  "kernelspec": {
   "display_name": "Python 3",
   "language": "python",
   "name": "python3"
  },
  "language_info": {
   "codemirror_mode": {
    "name": "ipython",
    "version": 3
   },
   "file_extension": ".py",
   "mimetype": "text/x-python",
   "name": "python",
   "nbconvert_exporter": "python",
   "pygments_lexer": "ipython3",
   "version": "3.8.6"
  }
 },
 "nbformat": 4,
 "nbformat_minor": 4
}