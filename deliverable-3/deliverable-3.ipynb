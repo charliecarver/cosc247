{
 "nbformat": 4,
 "nbformat_minor": 0,
 "metadata": {
  "colab": {
   "name": "deliverable-3.ipynb",
   "provenance": [],
   "toc_visible": true,
   "include_colab_link": true
  },
  "kernelspec": {
   "display_name": "Python 3",
   "language": "python",
   "name": "python3"
  },
  "language_info": {
   "codemirror_mode": {
    "name": "ipython",
    "version": 3
   },
   "file_extension": ".py",
   "mimetype": "text/x-python",
   "name": "python",
   "nbconvert_exporter": "python",
   "pygments_lexer": "ipython3",
   "version": "3.6.10"
  }
 },
 "cells": [
  {
   "cell_type": "markdown",
   "metadata": {
    "id": "view-in-github",
    "colab_type": "text"
   },
   "source": [
    "<a href=\"https://colab.research.google.com/github/charliecarver/cosc247/blob/master/deliverable-3/deliverable-3.ipynb\" target=\"_parent\"><img src=\"https://colab.research.google.com/assets/colab-badge.svg\" alt=\"Open In Colab\"/></a>"
   ]
  },
  {
   "cell_type": "markdown",
   "metadata": {
    "id": "yYRuPMqIMD8l",
    "pycharm": {
     "name": "#%% md\n"
    }
   },
   "source": [
    "## Load Data"
   ]
  },
  {
   "cell_type": "code",
   "metadata": {
    "colab": {
     "base_uri": "https://localhost:8080/"
    },
    "id": "OYIr7Z6djAq1",
    "pycharm": {
     "name": "#%%\n"
    },
    "outputId": "8865c6b2-95fd-48e1-9784-ca2e87bfa5c9"
   },
   "source": [
    "# Load CSV files from remote repo\n",
    "import requests\n",
    "import zipfile\n",
    "import io\n",
    "\n",
    "r = requests.get('https://github.com/charliecarver/cosc247/blob/master/datasets.zip?raw=true')\n",
    "z = zipfile.ZipFile(io.BytesIO(r.content))\n",
    "z.extractall()\n",
    "testPath = 'Test.csv'\n",
    "trainPath = 'Train.csv'"
   ],
   "execution_count": 2,
   "outputs": []
  },
  {
   "cell_type": "markdown",
   "metadata": {
    "id": "lOxV2DdNMD8v"
   },
   "source": [
    "## Single-File Deliverable"
   ]
  },
  {
   "cell_type": "code",
   "metadata": {
    "id": "tkgyQiZ9MD8v",
    "pycharm": {
     "name": "#%%\n"
    }
   },
   "source": [
    "# Import required libraries\n",
    "import pandas as pd\n",
    "import numpy as np\n",
    "import scipy.sparse\n",
    "import string\n",
    "from ast import literal_eval\n",
    "import nltk.tokenize\n",
    "import nltk.stem.porter\n",
    "import math\n",
    "from nltk.corpus import stopwords\n",
    "import sklearn.metrics\n",
    "import statistics\n",
    "import sklearn.naive_bayes\n",
    "import sklearn.feature_extraction.text\n",
    "from sklearn import model_selection\n",
    "from sklearn.preprocessing import OneHotEncoder\n",
    "from sklearn import preprocessing\n",
    "from sklearn import datasets\n",
    "from sklearn.pipeline import Pipeline\n",
    "from sklearn.svm import SVC\n",
    "import sklearn.model_selection\n",
    "import sklearn.metrics\n",
    "import sklearn.naive_bayes\n",
    "import sklearn.tree\n",
    "import sklearn.linear_model\n",
    "from sklearn.metrics import classification_report, confusion_matrix\n",
    "from timeit import default_timer as timer\n",
    "from matplotlib import pyplot as plt\n",
    "from matplotlib import ticker\n",
    "from sklearn.tree import export_graphviz\n",
    "import graphviz\n",
    "from collections import defaultdict\n",
    "from sklearn.model_selection import StratifiedKFold\n",
    "from sklearn.neighbors import KNeighborsClassifier\n",
    "from sklearn.ensemble import RandomForestClassifier\n",
    "import sklearn.linear_model\n",
    "import sklearn.model_selection\n",
    "import statistics\n",
    "import nltk\n",
    "nltk.download('stopwords')\n",
    "nltk.download('wordnet')\n",
    "nltk.download('punkt')\n",
    "nltk.download('averaged_perceptron_tagger')\n",
    "\n",
    "# Flags\n",
    "useTestCSV = False\n",
    "NGRAM_SIZE = 2\n",
    "COMMON_WORD_THRESHOLD = 10\n",
    "stemmer = nltk.stem.porter.PorterStemmer()\n",
    "\n",
    "def preprocessForTextClassification(df):\n",
    "    df['reviewText'] = df['reviewText'].fillna(\"\")\n",
    "    df['summary'] = df['summary'].fillna(\"\")\n",
    "\n",
    "    P = df.groupby('amazon-id').agg({\n",
    "        'reviewText': ' '.join,\n",
    "        'summary': ' '.join,\n",
    "    })\n",
    "\n",
    "    P['reviewText'] = P['reviewText'] + \" \" + P['summary']\n",
    "\n",
    "    return P\n",
    "\n",
    "\n",
    "# Train text classifier\n",
    "def trainTextFrequency(df):\n",
    "    P = preprocessForTextClassification(df)\n",
    "\n",
    "    vectorizer = sklearn.feature_extraction.text.TfidfVectorizer(ngram_range=(1,NGRAM_SIZE))\n",
    "    X1 = vectorizer.fit_transform(P['reviewText'])\n",
    "\n",
    "    return X1, vectorizer\n",
    "\n",
    "def getTextMatrix(df, word_indices):\n",
    "    P = preprocessForTextClassification(df)\n",
    "\n",
    "    X1 = word_indices.transform(P['reviewText'])\n",
    "    return X1\n",
    "\n",
    "# function for normalization\n",
    "def normalize_column_data(input_data):\n",
    "    for feature in input_data:    \n",
    "        input_data[feature] = (input_data[feature]-input_data[feature].min())/(input_data[feature].max()-input_data[feature].min())\n",
    "\n",
    "# Process numerical data\n",
    "def processNumerical(df):\n",
    "\n",
    "    # Drop text data\n",
    "    df = df.drop(columns=['title', 'categories', 'songs', 'related', 'reviewTime'])\n",
    "\n",
    "    # Drop columns that need more time to process\n",
    "    df = df.drop(columns=['label', 'first-release-year'])\n",
    "\n",
    "    # Transform helpful into \"ratio\" of being helpful\n",
    "    df['helpful'] = df['helpful'].apply(lambda x: np.nan if literal_eval(x)[1]== 0 else literal_eval(x)[0]/literal_eval(x)[1])\n",
    "    df['helpful'].fillna((df['helpful'].median()), inplace=True)\n",
    "\n",
    "    # Convert categorical data to their own features\n",
    "    # df = df.join(pd.get_dummies(df['root-genre']))\n",
    "    df = df.drop(columns=['root-genre'])\n",
    "\n",
    "    # Return processed data\n",
    "    return df\n",
    "\n",
    "# Load data\n",
    "try:\n",
    "    testPath\n",
    "except NameError:\n",
    "    # Default paths of CSV files\n",
    "    print('Loading files from default locations')\n",
    "    testPath = 'Test.csv'\n",
    "    trainPath = 'Train.csv'\n",
    "\n",
    "# Load dataframes\n",
    "dfTrain = pd.read_csv(trainPath)\n",
    "if useTestCSV: dfTest = pd.read_csv(testPath)\n",
    "\n",
    "# Train text classifier on training data\n",
    "trainingTextMatrix, wordIndices = trainTextFrequency(dfTrain)\n",
    "\n",
    "# Process textual data\n",
    "if useTestCSV:\n",
    "    testTextMatrix = getTextMatrix(dfTest, wordIndices)\n",
    "\n",
    "# Process numerical data\n",
    "dfTrain = processNumerical(dfTrain)\n",
    "if useTestCSV: dfTest = processNumerical(dfTest)"
   ],
   "execution_count": 6,
   "outputs": [
    {
     "name": "stderr",
     "output_type": "stream",
     "text": [
      "[nltk_data] Downloading package stopwords to\n",
      "[nltk_data]     /Users/charlescarver/nltk_data...\n",
      "[nltk_data]   Package stopwords is already up-to-date!\n",
      "[nltk_data] Downloading package wordnet to\n",
      "[nltk_data]     /Users/charlescarver/nltk_data...\n",
      "[nltk_data]   Package wordnet is already up-to-date!\n",
      "[nltk_data] Downloading package punkt to\n",
      "[nltk_data]     /Users/charlescarver/nltk_data...\n",
      "[nltk_data]   Package punkt is already up-to-date!\n",
      "[nltk_data] Downloading package averaged_perceptron_tagger to\n",
      "[nltk_data]     /Users/charlescarver/nltk_data...\n",
      "[nltk_data]   Package averaged_perceptron_tagger is already up-to-\n",
      "[nltk_data]       date!\n"
     ]
    }
   ]
  },
  {
   "cell_type": "code",
   "metadata": {
    "id": "Utz6SL_dRxrk"
   },
   "source": [
    "# Aggregate training\n",
    "isAwesome = lambda x: 1 if np.mean(x) > 4.5 else 0\n",
    "trainData = dfTrain.groupby('amazon-id').agg({\n",
    "    'unixReviewTime': 'mean',\n",
    "    'price': 'mean',\n",
    "    'overall': isAwesome,\n",
    "    'salesRank': 'mean',\n",
    "    'helpful': 'mean',\n",
    "})\n",
    "\n",
    "# normalization for numerical features\n",
    "normalize_column_data(trainData)\n",
    "\n",
    "# Aggregate testing data and split into dependent/independent vars\n",
    "if useTestCSV:\n",
    "    testData = dfTest.groupby('amazon-id').agg({\n",
    "        'unixReviewTime': 'mean',\n",
    "        'price': 'mean',\n",
    "        'salesRank': 'mean',\n",
    "        'helpful': 'mean',\n",
    "    })\n",
    "    normalize_column_data(testData)\n",
    "\n",
    "    ytrain = trainData['overall'].to_numpy()\n",
    "    Xtrain = scipy.sparse.hstack(\n",
    "        (trainingTextMatrix, scipy.sparse.csr_matrix(trainData.drop(columns='overall').to_numpy()))\n",
    "    )\n",
    "    Xtrain = scipy.sparse.csr_matrix(Xtrain)\n",
    "    testIndex = testData.index\n",
    "    Xtest = scipy.sparse.hstack(\n",
    "        (testTextMatrix, scipy.sparse.csr_matrix(testData.to_numpy()))\n",
    "    )\n",
    "    Xtest = scipy.sparse.csr_matrix(Xtest)\n",
    "else:\n",
    "    #Xtrain = scipy.sparse.csr_matrix(scipy.sparse.hstack(\n",
    "    #    (trainingTextMatrix, scipy.sparse.csr_matrix(trainData.drop(columns='overall').to_numpy()))\n",
    "    #))\n",
    "    Xtrain = scipy.sparse.csr_matrix(scipy.sparse.hstack(\n",
    "        (trainingTextMatrix, scipy.sparse.csr_matrix(trainData['helpful'].to_numpy().reshape(-1,1)))\n",
    "    ))\n",
    "\n",
    "    ytrain = trainData['overall'].to_numpy()\n",
    "    #Xtrain, Xtest, ytrain, ytest = sklearn.model_selection.train_test_split(Xtrain, trainData['overall'].to_numpy(), test_size=0.3, shuffle=True)"
   ],
   "execution_count": 7,
   "outputs": []
  },
  {
   "cell_type": "code",
   "metadata": {
    "colab": {
     "base_uri": "https://localhost:8080/"
    },
    "id": "I_JlvVY9yDVg",
    "outputId": "649deefa-008f-4efe-8e6c-302084edc84f"
   },
   "source": [
    "# Run ML\n",
    "kf = sklearn.model_selection.KFold(n_splits=10, random_state=42, shuffle=True)\n",
    "f1_vals = []\n",
    "\n",
    "for train_index, test_index in kf.split(Xtrain):\n",
    "    x_train, x_test = Xtrain[train_index], Xtrain[test_index]\n",
    "    y_train, y_test = ytrain[train_index], ytrain[test_index]\n",
    "\n",
    "    #clf = sklearn.naive_bayes.MultinomialNB()\n",
    "    #clf = sklearn.tree.DecisionTreeClassifier(max_depth=10)\n",
    "    clf = sklearn.linear_model.LogisticRegression(max_iter=100000, class_weight='balanced')\n",
    "    clt = clf.fit(x_train, y_train)\n",
    "\n",
    "    f1 = sklearn.metrics.f1_score(y_test, clt.predict(x_test), average='weighted')\n",
    "    print(\"F1 {}\".format(f1))\n",
    "    f1_vals.append(f1)\n",
    " \n",
    "print(\"Mean F1: \", statistics.mean(f1_vals))\n",
    "gnb = sklearn.linear_model.LogisticRegression(max_iter=100000, class_weight='balanced')\n",
    "gnbTrained = gnb.fit(Xtrain, ytrain)\n",
    "ypreds = gnbTrained.predict(Xtest)\n",
    "\n",
    "# only for numerical data best model\n",
    "\n",
    "# Testing\n",
    "if not useTestCSV:\n",
    "    print(sklearn.metrics.f1_score(ytest, ypreds, average='weighted'))\n",
    "\n",
    "# Output CSV file with predictions\n",
    "if useTestCSV:\n",
    "\n",
    "    # Output predictions for deliverable\n",
    "    output = pd.DataFrame({'amazon-id': testIndex, 'Awesome': ypreds})\n",
    "    output.to_csv('./Product_Predictions.csv')"
   ],
   "execution_count": 8,
   "outputs": [
    {
     "name": "stdout",
     "output_type": "stream",
     "text": [
      "F1 0.7372399933059709\n",
      "F1 0.7196273026611997\n",
      "F1 0.7402843601895734\n",
      "F1 0.7211360935906432\n",
      "F1 0.7290402235615303\n",
      "F1 0.7084146943000765\n",
      "F1 0.7248576850094877\n",
      "F1 0.7522457382915118\n",
      "F1 0.7317060620394247\n",
      "F1 0.731465443313517\n",
      "Mean F1:  0.7296017596262935\n"
     ]
    },
    {
     "ename": "ValueError",
     "evalue": "X has 2576580 features per sample; expecting 2576577",
     "output_type": "error",
     "traceback": [
      "\u001B[0;31m---------------------------------------------------------------------------\u001B[0m",
      "\u001B[0;31mValueError\u001B[0m                                Traceback (most recent call last)",
      "\u001B[0;32m<ipython-input-8-2558a71cf2ef>\u001B[0m in \u001B[0;36m<module>\u001B[0;34m\u001B[0m\n\u001B[1;32m     19\u001B[0m \u001B[0mgnb\u001B[0m \u001B[0;34m=\u001B[0m \u001B[0msklearn\u001B[0m\u001B[0;34m.\u001B[0m\u001B[0mlinear_model\u001B[0m\u001B[0;34m.\u001B[0m\u001B[0mLogisticRegression\u001B[0m\u001B[0;34m(\u001B[0m\u001B[0mmax_iter\u001B[0m\u001B[0;34m=\u001B[0m\u001B[0;36m100000\u001B[0m\u001B[0;34m,\u001B[0m \u001B[0mclass_weight\u001B[0m\u001B[0;34m=\u001B[0m\u001B[0;34m'balanced'\u001B[0m\u001B[0;34m)\u001B[0m\u001B[0;34m\u001B[0m\u001B[0;34m\u001B[0m\u001B[0m\n\u001B[1;32m     20\u001B[0m \u001B[0mgnbTrained\u001B[0m \u001B[0;34m=\u001B[0m \u001B[0mgnb\u001B[0m\u001B[0;34m.\u001B[0m\u001B[0mfit\u001B[0m\u001B[0;34m(\u001B[0m\u001B[0mXtrain\u001B[0m\u001B[0;34m,\u001B[0m \u001B[0mytrain\u001B[0m\u001B[0;34m)\u001B[0m\u001B[0;34m\u001B[0m\u001B[0;34m\u001B[0m\u001B[0m\n\u001B[0;32m---> 21\u001B[0;31m \u001B[0mypreds\u001B[0m \u001B[0;34m=\u001B[0m \u001B[0mgnbTrained\u001B[0m\u001B[0;34m.\u001B[0m\u001B[0mpredict\u001B[0m\u001B[0;34m(\u001B[0m\u001B[0mXtest\u001B[0m\u001B[0;34m)\u001B[0m\u001B[0;34m\u001B[0m\u001B[0;34m\u001B[0m\u001B[0m\n\u001B[0m\u001B[1;32m     22\u001B[0m \u001B[0;34m\u001B[0m\u001B[0m\n\u001B[1;32m     23\u001B[0m \u001B[0;31m# only for numerical data best model\u001B[0m\u001B[0;34m\u001B[0m\u001B[0;34m\u001B[0m\u001B[0;34m\u001B[0m\u001B[0m\n",
      "\u001B[0;32m/Library/Frameworks/Python.framework/Versions/3.8/lib/python3.8/site-packages/sklearn/linear_model/_base.py\u001B[0m in \u001B[0;36mpredict\u001B[0;34m(self, X)\u001B[0m\n\u001B[1;32m    307\u001B[0m             \u001B[0mPredicted\u001B[0m \u001B[0;32mclass\u001B[0m \u001B[0mlabel\u001B[0m \u001B[0mper\u001B[0m \u001B[0msample\u001B[0m\u001B[0;34m.\u001B[0m\u001B[0;34m\u001B[0m\u001B[0;34m\u001B[0m\u001B[0m\n\u001B[1;32m    308\u001B[0m         \"\"\"\n\u001B[0;32m--> 309\u001B[0;31m         \u001B[0mscores\u001B[0m \u001B[0;34m=\u001B[0m \u001B[0mself\u001B[0m\u001B[0;34m.\u001B[0m\u001B[0mdecision_function\u001B[0m\u001B[0;34m(\u001B[0m\u001B[0mX\u001B[0m\u001B[0;34m)\u001B[0m\u001B[0;34m\u001B[0m\u001B[0;34m\u001B[0m\u001B[0m\n\u001B[0m\u001B[1;32m    310\u001B[0m         \u001B[0;32mif\u001B[0m \u001B[0mlen\u001B[0m\u001B[0;34m(\u001B[0m\u001B[0mscores\u001B[0m\u001B[0;34m.\u001B[0m\u001B[0mshape\u001B[0m\u001B[0;34m)\u001B[0m \u001B[0;34m==\u001B[0m \u001B[0;36m1\u001B[0m\u001B[0;34m:\u001B[0m\u001B[0;34m\u001B[0m\u001B[0;34m\u001B[0m\u001B[0m\n\u001B[1;32m    311\u001B[0m             \u001B[0mindices\u001B[0m \u001B[0;34m=\u001B[0m \u001B[0;34m(\u001B[0m\u001B[0mscores\u001B[0m \u001B[0;34m>\u001B[0m \u001B[0;36m0\u001B[0m\u001B[0;34m)\u001B[0m\u001B[0;34m.\u001B[0m\u001B[0mastype\u001B[0m\u001B[0;34m(\u001B[0m\u001B[0mint\u001B[0m\u001B[0;34m)\u001B[0m\u001B[0;34m\u001B[0m\u001B[0;34m\u001B[0m\u001B[0m\n",
      "\u001B[0;32m/Library/Frameworks/Python.framework/Versions/3.8/lib/python3.8/site-packages/sklearn/linear_model/_base.py\u001B[0m in \u001B[0;36mdecision_function\u001B[0;34m(self, X)\u001B[0m\n\u001B[1;32m    286\u001B[0m         \u001B[0mn_features\u001B[0m \u001B[0;34m=\u001B[0m \u001B[0mself\u001B[0m\u001B[0;34m.\u001B[0m\u001B[0mcoef_\u001B[0m\u001B[0;34m.\u001B[0m\u001B[0mshape\u001B[0m\u001B[0;34m[\u001B[0m\u001B[0;36m1\u001B[0m\u001B[0;34m]\u001B[0m\u001B[0;34m\u001B[0m\u001B[0;34m\u001B[0m\u001B[0m\n\u001B[1;32m    287\u001B[0m         \u001B[0;32mif\u001B[0m \u001B[0mX\u001B[0m\u001B[0;34m.\u001B[0m\u001B[0mshape\u001B[0m\u001B[0;34m[\u001B[0m\u001B[0;36m1\u001B[0m\u001B[0;34m]\u001B[0m \u001B[0;34m!=\u001B[0m \u001B[0mn_features\u001B[0m\u001B[0;34m:\u001B[0m\u001B[0;34m\u001B[0m\u001B[0;34m\u001B[0m\u001B[0m\n\u001B[0;32m--> 288\u001B[0;31m             raise ValueError(\"X has %d features per sample; expecting %d\"\n\u001B[0m\u001B[1;32m    289\u001B[0m                              % (X.shape[1], n_features))\n\u001B[1;32m    290\u001B[0m \u001B[0;34m\u001B[0m\u001B[0m\n",
      "\u001B[0;31mValueError\u001B[0m: X has 2576580 features per sample; expecting 2576577"
     ]
    }
   ]
  },
  {
   "cell_type": "code",
   "metadata": {
    "id": "7f2c2M3TMD85"
   },
   "source": [
    ""
   ],
   "execution_count": null,
   "outputs": []
  }
 ]
}