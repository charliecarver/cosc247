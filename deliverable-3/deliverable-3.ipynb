{
  "nbformat": 4,
  "nbformat_minor": 0,
  "metadata": {
    "colab": {
      "name": "deliverable-3.ipynb",
      "provenance": [],
      "toc_visible": true,
      "include_colab_link": true
    },
    "kernelspec": {
      "display_name": "Python 3",
      "language": "python",
      "name": "python3"
    },
    "language_info": {
      "codemirror_mode": {
        "name": "ipython",
        "version": 3
      },
      "file_extension": ".py",
      "mimetype": "text/x-python",
      "name": "python",
      "nbconvert_exporter": "python",
      "pygments_lexer": "ipython3",
      "version": "3.6.10"
    }
  },
  "cells": [
    {
      "cell_type": "markdown",
      "metadata": {
        "id": "view-in-github",
        "colab_type": "text"
      },
      "source": [
        "<a href=\"https://colab.research.google.com/github/charliecarver/cosc247/blob/master/deliverable-3/deliverable-3.ipynb\" target=\"_parent\"><img src=\"https://colab.research.google.com/assets/colab-badge.svg\" alt=\"Open In Colab\"/></a>"
      ]
    },
    {
      "cell_type": "markdown",
      "metadata": {
        "pycharm": {
          "name": "#%% md\n"
        },
        "id": "yYRuPMqIMD8l"
      },
      "source": [
        "## Load Data"
      ]
    },
    {
      "cell_type": "code",
      "metadata": {
        "id": "OYIr7Z6djAq1",
        "pycharm": {
          "name": "#%%\n"
        },
        "outputId": "7d1058ff-90d2-4362-851e-059cc023061c",
        "colab": {
          "base_uri": "https://localhost:8080/"
        }
      },
      "source": [
        "# Load CSV files from remote repo\n",
        "import requests\n",
        "import zipfile\n",
        "import io\n",
        "\n",
        "import nltk\n",
        "nltk.download('stopwords')\n",
        "nltk.download('wordnet')\n",
        "nltk.download('punkt')\n",
        "nltk.download('averaged_perceptron_tagger') \n",
        "\n",
        "r = requests.get('https://github.com/charliecarver/cosc247/blob/master/datasets.zip?raw=true')\n",
        "z = zipfile.ZipFile(io.BytesIO(r.content))\n",
        "z.extractall()\n",
        "testPath = 'Test.csv'\n",
        "trainPath = 'Train.csv'"
      ],
      "execution_count": 2,
      "outputs": [
        {
          "output_type": "stream",
          "text": [
            "[nltk_data] Downloading package stopwords to /root/nltk_data...\n",
            "[nltk_data]   Unzipping corpora/stopwords.zip.\n",
            "[nltk_data] Downloading package wordnet to /root/nltk_data...\n",
            "[nltk_data]   Unzipping corpora/wordnet.zip.\n",
            "[nltk_data] Downloading package punkt to /root/nltk_data...\n",
            "[nltk_data]   Unzipping tokenizers/punkt.zip.\n",
            "[nltk_data] Downloading package averaged_perceptron_tagger to\n",
            "[nltk_data]     /root/nltk_data...\n",
            "[nltk_data]   Unzipping taggers/averaged_perceptron_tagger.zip.\n"
          ],
          "name": "stdout"
        }
      ]
    },
    {
      "cell_type": "markdown",
      "metadata": {
        "id": "lOxV2DdNMD8v"
      },
      "source": [
        "## Single-File Deliverable"
      ]
    },
    {
      "cell_type": "code",
      "metadata": {
        "pycharm": {
          "name": "#%%\n"
        },
        "id": "tkgyQiZ9MD8v",
        "outputId": "b3be7af5-4b12-432c-e84c-06ae244adc64",
        "colab": {
          "base_uri": "https://localhost:8080/"
        }
      },
      "source": [
        "# Import required libraries\n",
        "import pandas as pd\n",
        "import numpy as np\n",
        "import scipy.sparse\n",
        "import string\n",
        "from ast import literal_eval\n",
        "import nltk.tokenize\n",
        "import math\n",
        "from nltk.corpus import stopwords\n",
        "import sklearn.metrics\n",
        "import statistics\n",
        "import sklearn.naive_bayes\n",
        "from sklearn import model_selection\n",
        "from sklearn.preprocessing import OneHotEncoder\n",
        "from sklearn import preprocessing\n",
        "from sklearn import datasets\n",
        "from sklearn.pipeline import Pipeline\n",
        "from sklearn.svm import SVC\n",
        "import sklearn.model_selection\n",
        "import sklearn.metrics\n",
        "import sklearn.naive_bayes\n",
        "import sklearn.tree\n",
        "import sklearn.linear_model\n",
        "from sklearn.metrics import classification_report, confusion_matrix\n",
        "from timeit import default_timer as timer\n",
        "from matplotlib import pyplot as plt\n",
        "from matplotlib import ticker\n",
        "from sklearn.tree import export_graphviz\n",
        "import graphviz\n",
        "from collections import defaultdict\n",
        "\n",
        "NGRAM_SIZE = 1\n",
        "COMMON_WORD_THRESHOLD = 10\n",
        "\n",
        "def tokenize_without_stopwords(review, stop_words, ngram_size):\n",
        "    if type(review) == str:\n",
        "        tokenized = nltk.tokenize.word_tokenize(review)\n",
        "\n",
        "        return nltk.ngrams([word for word in tokenized if (word not in string.punctuation) and (word not in stop_words) and (word != 'quot') and (word != \"''\") and (word != \"``\") and (word != '---')], ngram_size)\n",
        "    else:\n",
        "        return []\n",
        "\n",
        "def format_data_for_review_sentiment_classification(dataframe, index_by_word, ngram_size, column_name):\n",
        "    stop_words_set = set(stopwords.words('english'))\n",
        "    common_words = [key for key in index_by_word.keys()]\n",
        "\n",
        "    print(\"Creating traning matrix\")\n",
        "    data = np.zeros(shape=(len(dataframe), len(common_words)), dtype=np.float64)\n",
        "    print(\"Data shape:\", data.shape)\n",
        "    row_number = 0\n",
        "    for _, data_row in dataframe.iterrows():\n",
        "        review_words = tokenize_without_stopwords(data_row[column_name], stop_words_set, ngram_size)\n",
        "\n",
        "        for word in review_words:\n",
        "            if word in index_by_word:\n",
        "                word_idx = index_by_word[word]\n",
        "                data[row_number, word_idx] = np.float64(data[row_number, word_idx] + 1)\n",
        "        row_number = row_number + 1\n",
        "\n",
        "    return scipy.sparse.csr_matrix(data, dtype=np.float64)\n",
        "\n",
        "\n",
        "def get_common_word_indices(training_data, column_name, ngram_size, common_word_threshold):\n",
        "    training_data[column_name] = training_data[column_name].apply(\n",
        "        lambda x: x.lower() if not type(x) == float else x\n",
        "    )\n",
        "    word_frequency = defaultdict(lambda: 0)\n",
        "\n",
        "    stop_words_set = set(stopwords.words('english'))\n",
        "\n",
        "    print(\"Building word frequency dictionary...\")\n",
        "    for review in training_data[column_name]:\n",
        "        review_words = tokenize_without_stopwords(review, stop_words_set, ngram_size)\n",
        "\n",
        "        for word in review_words:\n",
        "            word_frequency[word] = word_frequency[word] + 1\n",
        "\n",
        "    common_words = [\n",
        "        word for word, freq in word_frequency.items() if freq > common_word_threshold\n",
        "    ]\n",
        "\n",
        "    common_words.sort(key=lambda word: word_frequency[word], reverse=True)\n",
        "\n",
        "    print(\"Common words: \", common_words[0:50])\n",
        "\n",
        "    print(\"Number of unique words\", len(word_frequency))\n",
        "    print(\"Number words that appear more than {} times\".format(common_word_threshold), len(\n",
        "        common_words\n",
        "    ))\n",
        "\n",
        "    print(\"Getting unique id for each word...\")\n",
        "    index_by_word = {}\n",
        "\n",
        "    for index, word in enumerate(common_words):\n",
        "        index_by_word[word] = index\n",
        "\n",
        "    return index_by_word\n",
        "\n",
        "# Train text classifier\n",
        "def trainTextFrequency(df):\n",
        "    df['reviewText'] = df['reviewText'].fillna(\"\")\n",
        "    df['summary'] = df['summary'].fillna(\"\")\n",
        "\n",
        "    P = df.groupby('amazon-id').agg({\n",
        "        'reviewText': ' '.join,\n",
        "        'summary': ' '.join,\n",
        "        'overall': 'mean',\n",
        "    })\n",
        "\n",
        "    P['awesome'] = np.where(P['overall'] >= 4.5, True, False)\n",
        "    P['reviewText'] = P['reviewText'] + \" \" + P['summary']\n",
        "\n",
        "    word_index1 = get_common_word_indices(P, 'reviewText', NGRAM_SIZE, COMMON_WORD_THRESHOLD)\n",
        "    X1 = format_data_for_review_sentiment_classification(P, word_index1, NGRAM_SIZE, 'reviewText')\n",
        "\n",
        "    return X1, word_index1\n",
        "\n",
        "def getTextMatrix(df, word_indices):\n",
        "    df['reviewText'] = df['reviewText'].fillna(\"\")\n",
        "    df['summary'] = df['summary'].fillna(\"\")\n",
        "\n",
        "    P = df.groupby('amazon-id').agg({\n",
        "        'reviewText': ' '.join,\n",
        "        'summary': ' '.join\n",
        "    })\n",
        "\n",
        "    P['reviewText'] = P['reviewText'] + \" \" + P['summary']\n",
        "\n",
        "    X1 = format_data_for_review_sentiment_classification(P, word_index1, NGRAM_SIZE, 'reviewText')\n",
        "\n",
        "    return X1\n",
        "\n",
        "# function for normalization\n",
        "def normalize_column_data(input_data):\n",
        "    numerical_feautures = ['unixReviewTime','price', 'salesRank', 'helpful']\n",
        "    for feature in numerical_feautures:    \n",
        "        input_data[feature] = (input_data[feature]-input_data[feature].min())/(input_data[feature].max()-input_data[feature].min())\n",
        "\n",
        "# Process numerical data\n",
        "def processNumerical(df):\n",
        "\n",
        "    # Drop text data\n",
        "    df = df.drop(columns=['title', 'categories', 'songs', 'related', 'reviewTime'])\n",
        "\n",
        "    # Drop columns that need more time to process\n",
        "    df = df.drop(columns=['label', 'first-release-year'])\n",
        "\n",
        "    # Transform helpful into \"ratio\" of being helpful\n",
        "    df['helpful'] = df['helpful'].apply(lambda x: np.nan if literal_eval(x)[1]== 0 else literal_eval(x)[0]/literal_eval(x)[1])\n",
        "    df['helpful'].fillna((df['helpful'].median()), inplace=True)\n",
        "\n",
        "    # Convert categorical data to their own features\n",
        "    # df = df.join(pd.get_dummies(df['root-genre']))\n",
        "    df = df.drop(columns=['root-genre'])\n",
        "\n",
        "    # Return processed data\n",
        "    return df\n",
        "\n",
        "# Flag to set mode\n",
        "useTestCSV = False\n",
        "\n",
        "# Load data\n",
        "try:\n",
        "    testPath\n",
        "except NameError:\n",
        "    # Default paths of CSV files\n",
        "    print('Loading files from default locations')\n",
        "    testPath = 'Test.csv'\n",
        "    trainPath = 'Train.csv'\n",
        "\n",
        "# Load dataframes\n",
        "dfTrain = pd.read_csv(trainPath)\n",
        "if useTestCSV: dfTest = pd.read_csv(testPath)\n",
        "\n",
        "# Train text classifier on training data\n",
        "trainingTextMatrix, wordIndices = trainTextFrequency(dfTrain)\n",
        "\n",
        "# Process textual data\n",
        "if useTestCSV:\n",
        "    testTextMatrix = getTextMatrix(dfTest, wordIndices)\n",
        "\n",
        "# Process numerical data\n",
        "dfTrain = processNumerical(dfTrain)\n",
        "if useTestCSV: dfTest = processNumerical(dfTest)"
      ],
      "execution_count": 6,
      "outputs": [
        {
          "output_type": "stream",
          "text": [
            "Building word frequency dictionary...\n",
            "Common words:  [(\"'s\",), ('album',), ('cd',), ('music',), ('one',), (\"n't\",), ('great',), ('songs',), ('like',), ('song',), ('...',), ('love',), ('good',), ('best',), ('time',), ('would',), ('first',), ('really',), ('sound',), ('get',), ('well',), ('much',), ('new',), ('listen',), ('even',), ('also',), ('beatles',), ('voice',), ('still',), ('track',), ('better',), ('many',), ('albums',), ('heard',), (\"'m\",), ('think',), ('tracks',), ('band',), ('ever',), ('way',), ('two',), ('could',), ('back',), (\"'ve\",), ('movie',), ('years',), ('never',), ('--',), ('work',), ('fan',)]\n",
            "Number of unique words 260749\n",
            "Number words that appear more than 10 times 26380\n",
            "Getting unique id for each word...\n",
            "Creating traning matrix\n",
            "Data shape: (10543, 26380)\n"
          ],
          "name": "stdout"
        }
      ]
    },
    {
      "cell_type": "code",
      "metadata": {
        "id": "Utz6SL_dRxrk",
        "outputId": "80048380-bd14-49f2-a209-b14a32d8ff5b",
        "colab": {
          "base_uri": "https://localhost:8080/"
        }
      },
      "source": [
        "\n",
        "# Aggregate training\n",
        "isAwesome = lambda x: 1 if np.mean(x) > 4.5 else 0\n",
        "trainData = dfTrain.groupby('amazon-id').agg({\n",
        "    'unixReviewTime': 'mean',\n",
        "    'price': 'mean',\n",
        "    'overall': isAwesome,\n",
        "    'salesRank': 'mean',\n",
        "    'helpful': 'mean',\n",
        "})\n",
        "\n",
        "# normalization for numerical features\n",
        "normalize_column_data(trainData)\n",
        "\n",
        "# Aggregate testing data and split into dependent/independent vars\n",
        "if useTestCSV:\n",
        "    testData = dfTest.groupby('amazon-id').agg({\n",
        "        'unixReviewTime': 'mean',\n",
        "        'price': 'mean',\n",
        "        'salesRank': 'mean',\n",
        "        'helpful': 'mean',\n",
        "    })\n",
        "    normalize_column_data(testData)\n",
        "\n",
        "    ytrain = trainData['overall'].to_numpy()\n",
        "    Xtrain = scipy.sparse.hstack(\n",
        "        (trainingTextMatrix, scipy.sparse.csr_matrix(trainData.drop(columns='overall').to_numpy()))\n",
        "    )\n",
        "    Xtrain = scipy.sparse.csr_matrix(Xtrain)\n",
        "    Xtest = scipy.sparse.hstack(\n",
        "        (testTextMatrix, scipy.sparse.csr_matrix(testData.to_numpy()))\n",
        "    )\n",
        "    Xtest = scipy.sparse.csr_matrix(Xtest)\n",
        "else:\n",
        "    Xtrain = scipy.sparse.hstack(\n",
        "        (trainingTextMatrix, scipy.sparse.csr_matrix(trainData.drop(columns='overall').to_numpy()))\n",
        "    )\n",
        "    Xtrain, Xtest, ytrain, ytest = sklearn.model_selection.train_test_split(Xtrain, trainData['overall'].to_numpy(), test_size=0.3, shuffle=True)\n",
        "\n",
        "# Run ML\n",
        "gnb = sklearn.naive_bayes.MultinomialNB()\n",
        "gnbTrained = gnb.fit(Xtrain, ytrain)\n",
        "ypreds = gnbTrained.predict(Xtest)\n",
        "\n",
        "\n",
        "# only for numerical data best model\n",
        "\n",
        "# Testing\n",
        "if not useTestCSV:\n",
        "    print(sklearn.metrics.f1_score(ytest, ypreds, average='weighted'))\n",
        "\n",
        "# Output CSV file with predictions\n",
        "if useTestCSV:\n",
        "\n",
        "    # Output predictions for deliverable\n",
        "    output = pd.DataFrame({'amazon-id': Xtest.index, 'Awesome': preds})\n",
        "    output.to_csv('./Product_Predictions.csv')"
      ],
      "execution_count": 8,
      "outputs": [
        {
          "output_type": "stream",
          "text": [
            "0.6550323045689311\n"
          ],
          "name": "stdout"
        }
      ]
    },
    {
      "cell_type": "code",
      "metadata": {
        "id": "KqCIWXSEMD8x",
        "outputId": "f84dccee-b661-4448-c8b1-fe78aa5c9f16"
      },
      "source": [
        "# Decision Tree with K fold for numerical data performance only\n",
        "Xnumerical_best_train = Xtrain['helpful']\n",
        "Xnumerical_best_train = Xnumerical_best_train.to_numpy().reshape(-1,1)\n",
        "kfold = model_selection.KFold(n_splits=5, shuffle=True)\n",
        "tree_clf = sklearn.tree.DecisionTreeClassifier(max_depth=4)\n",
        "cv_results_acc = model_selection.cross_val_score(tree_clf, Xtrain, ytrain.values.ravel(), cv=kfold, scoring='accuracy')\n",
        "cv_results_f1 = model_selection.cross_val_score(tree_clf, Xtrain, ytrain.values.ravel(), cv=kfold, scoring='f1_weighted')\n",
        "print(\"f1_weighted score list: {}\".format(cv_results_f1))\n",
        "print(\"f1_weighted score average: {}\".format(np.mean(cv_results_f1)))  \n",
        "print(\"accuracy score list: {}\".format(cv_results_acc))\n",
        "print(\"accuracy score average: {}\".format(np.mean(cv_results_acc)))"
      ],
      "execution_count": null,
      "outputs": [
        {
          "output_type": "stream",
          "text": [
            "f1_weighted score list: [0.60724904 0.59836392 0.64437124 0.62662451 0.62482607]\n",
            "f1_weighted score average: 0.6202869571318353\n",
            "accuracy score list: [0.63550136 0.61517615 0.63685637 0.62940379 0.64701897]\n",
            "accuracy score average: 0.6327913279132791\n"
          ],
          "name": "stdout"
        }
      ]
    },
    {
      "cell_type": "code",
      "metadata": {
        "id": "7f2c2M3TMD85"
      },
      "source": [
        ""
      ],
      "execution_count": null,
      "outputs": []
    }
  ]
}