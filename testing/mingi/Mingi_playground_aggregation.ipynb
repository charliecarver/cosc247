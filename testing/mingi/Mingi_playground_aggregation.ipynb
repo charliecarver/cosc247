{
  "nbformat": 4,
  "nbformat_minor": 0,
  "metadata": {
    "colab": {
      "name": "Mingi_playground-aggregation.ipynb",
      "provenance": [],
      "include_colab_link": true
    },
    "kernelspec": {
      "display_name": "Python 3",
      "language": "python",
      "name": "python3"
    },
    "language_info": {
      "codemirror_mode": {
        "name": "ipython",
        "version": 3
      },
      "file_extension": ".py",
      "mimetype": "text/x-python",
      "name": "python",
      "nbconvert_exporter": "python",
      "pygments_lexer": "ipython3",
      "version": "3.6.10"
    }
  },
  "cells": [
    {
      "cell_type": "markdown",
      "metadata": {
        "id": "view-in-github",
        "colab_type": "text"
      },
      "source": [
        "<a href=\"https://colab.research.google.com/github/charliecarver/cosc247/blob/master/testing/mingi/Mingi_playground_aggregation.ipynb\" target=\"_parent\"><img src=\"https://colab.research.google.com/assets/colab-badge.svg\" alt=\"Open In Colab\"/></a>"
      ]
    },
    {
      "cell_type": "markdown",
      "metadata": {
        "id": "3RURteE_ka9c"
      },
      "source": [
        "## Goal of the project Binary Classification\n",
        "\n",
        "* only use Binary Classification Problems.\n",
        "* Recall that we are using amazon review data to predict album ratings. More specifically, we want to see if a product review is over or under a certain threshold. For this problem, we say that an album is \"awesome\" if its average rating is over 4.5 (not inclusive). Otherwise, the product is \"not awesome\". The data is not given to us with a binary 1(over)/0(under) column.\n",
        "Many products in the training file will have more than one review. \n",
        "* Thus, we need to find the average overall score for a product.\n",
        "Groupby aggregates columns with the same values for you to then perform an operation on the aggregated columns."
      ]
    },
    {
      "cell_type": "code",
      "metadata": {
        "id": "MKwAtfoUlFrm"
      },
      "source": [
        "# Load dataset from Github\n",
        "import requests, zipfile, io\n",
        "r = requests.get('https://github.com/charliecarver/cosc247/blob/master/datasets.zip?raw=true') \n",
        "z = zipfile.ZipFile(io.BytesIO(r.content))\n",
        "z.extractall()\n",
        "testPath = 'Test.csv'\n",
        "trainPath = 'Train.csv'"
      ],
      "execution_count": 1,
      "outputs": []
    },
    {
      "cell_type": "code",
      "metadata": {
        "id": "YMTQcR8wk4zf"
      },
      "source": [
        "# import of libraries\n",
        "import copy\n",
        "import pandas as pd\n",
        "import numpy as np\n",
        "import matplotlib.pyplot as plt\n",
        "from ast import literal_eval\n",
        "from sklearn.preprocessing import OneHotEncoder\n",
        "from sklearn import preprocessing\n",
        "from sklearn import datasets\n",
        "from sklearn.pipeline import Pipeline\n",
        "from sklearn.svm import SVC\n",
        "import sklearn.model_selection\n",
        "import sklearn.metrics\n",
        "import sklearn.naive_bayes\n",
        "import sklearn.tree\n",
        "import sklearn.linear_model\n",
        "from sklearn.metrics import classification_report, confusion_matrix\n"
      ],
      "execution_count": 2,
      "outputs": []
    },
    {
      "cell_type": "code",
      "metadata": {
        "id": "ddL7u2Tcnkc7"
      },
      "source": [
        "# function define for normalization and standardization\n",
        "def normalize_column_data(column):\n",
        "    return (column-column.min())/(column.max()-column.min())\n",
        "\n",
        "def standardize_column_data(column):\n",
        "    return (column-column.mean())/column.std()"
      ],
      "execution_count": 3,
      "outputs": []
    },
    {
      "cell_type": "markdown",
      "metadata": {
        "id": "CdyPebx7mQdn"
      },
      "source": [
        "## Data load"
      ]
    },
    {
      "cell_type": "code",
      "metadata": {
        "colab": {
          "base_uri": "https://localhost:8080/"
        },
        "id": "oYnXCv93k5eg",
        "outputId": "07b84c2f-c36c-46aa-ad69-4f5ed9ad16d0"
      },
      "source": [
        "# load data and see what data type has\n",
        "df = pd.read_csv(trainPath)\n",
        "backup_df = df.copy()\n",
        "df.dtypes"
      ],
      "execution_count": 4,
      "outputs": [
        {
          "output_type": "execute_result",
          "data": {
            "text/plain": [
              "reviewerID              int64\n",
              "amazon-id               int64\n",
              "helpful                object\n",
              "unixReviewTime          int64\n",
              "reviewText             object\n",
              "overall                 int64\n",
              "reviewTime             object\n",
              "summary                object\n",
              "price                 float64\n",
              "categories             object\n",
              "root-genre             object\n",
              "title                   int64\n",
              "artist                  int64\n",
              "label                  object\n",
              "first-release-year    float64\n",
              "songs                  object\n",
              "salesRank               int64\n",
              "related                object\n",
              "dtype: object"
            ]
          },
          "metadata": {
            "tags": []
          },
          "execution_count": 4
        }
      ]
    },
    {
      "cell_type": "code",
      "metadata": {
        "colab": {
          "base_uri": "https://localhost:8080/"
        },
        "id": "6y3eTtU4lzfG",
        "outputId": "7510e19c-ee44-4987-b097-6c6127b00811"
      },
      "source": [
        "df.info()"
      ],
      "execution_count": 5,
      "outputs": [
        {
          "output_type": "stream",
          "text": [
            "<class 'pandas.core.frame.DataFrame'>\n",
            "RangeIndex: 111098 entries, 0 to 111097\n",
            "Data columns (total 18 columns):\n",
            " #   Column              Non-Null Count   Dtype  \n",
            "---  ------              --------------   -----  \n",
            " 0   reviewerID          111098 non-null  int64  \n",
            " 1   amazon-id           111098 non-null  int64  \n",
            " 2   helpful             111098 non-null  object \n",
            " 3   unixReviewTime      111098 non-null  int64  \n",
            " 4   reviewText          111093 non-null  object \n",
            " 5   overall             111098 non-null  int64  \n",
            " 6   reviewTime          111098 non-null  object \n",
            " 7   summary             111094 non-null  object \n",
            " 8   price               111098 non-null  float64\n",
            " 9   categories          111098 non-null  object \n",
            " 10  root-genre          111098 non-null  object \n",
            " 11  title               111098 non-null  int64  \n",
            " 12  artist              111098 non-null  int64  \n",
            " 13  label               111062 non-null  object \n",
            " 14  first-release-year  99826 non-null   float64\n",
            " 15  songs               111098 non-null  object \n",
            " 16  salesRank           111098 non-null  int64  \n",
            " 17  related             111098 non-null  object \n",
            "dtypes: float64(2), int64(7), object(9)\n",
            "memory usage: 15.3+ MB\n"
          ],
          "name": "stdout"
        }
      ]
    },
    {
      "cell_type": "code",
      "metadata": {
        "id": "2i3adRoMlb4g"
      },
      "source": [
        "# helpful feature mapped into float number by transforming the fraction\n",
        "# this changes denominator 0 case into NaN\n",
        "df['helpful_transformed'] = df['helpful'].apply(lambda x: np.nan if literal_eval(x)[1]== 0 else literal_eval(x)[0]/literal_eval(x)[1])"
      ],
      "execution_count": 6,
      "outputs": []
    },
    {
      "cell_type": "code",
      "metadata": {
        "colab": {
          "base_uri": "https://localhost:8080/"
        },
        "id": "vDRvR3vBluJc",
        "outputId": "3dcf64f5-914c-4a62-d1a5-6da54cacfd57"
      },
      "source": [
        "# before root-genre encoding\n",
        "df['root-genre'].value_counts()"
      ],
      "execution_count": 7,
      "outputs": [
        {
          "output_type": "execute_result",
          "data": {
            "text/plain": [
              "Pop                   47313\n",
              "Rock                  21874\n",
              "Classical              6879\n",
              "Latin Music            6867\n",
              "Country                4454\n",
              "Jazz                   4021\n",
              "Dance & Electronic     4020\n",
              "Alternative Rock       2797\n",
              "New Age                2693\n",
              "Rap & Hip-Hop          2423\n",
              "Folk                   2260\n",
              "Metal                  2258\n",
              "R&B                    1709\n",
              "Blues                   630\n",
              "Gospel                  600\n",
              "Reggae                  300\n",
              "Name: root-genre, dtype: int64"
            ]
          },
          "metadata": {
            "tags": []
          },
          "execution_count": 7
        }
      ]
    },
    {
      "cell_type": "markdown",
      "metadata": {
        "id": "9IdHId_wmKDj"
      },
      "source": [
        "## Data distribution found"
      ]
    },
    {
      "cell_type": "code",
      "metadata": {
        "colab": {
          "base_uri": "https://localhost:8080/",
          "height": 1000
        },
        "id": "p2ouaFDzl37U",
        "outputId": "6fbf9b5f-42b4-4df7-89b3-47ed2a1e482f"
      },
      "source": [
        "# histogram\n",
        "df.hist(bins=50,figsize=(20,15))"
      ],
      "execution_count": 8,
      "outputs": [
        {
          "output_type": "execute_result",
          "data": {
            "text/plain": [
              "array([[<matplotlib.axes._subplots.AxesSubplot object at 0x7f430e594438>,\n",
              "        <matplotlib.axes._subplots.AxesSubplot object at 0x7f430e4bd6a0>,\n",
              "        <matplotlib.axes._subplots.AxesSubplot object at 0x7f430e501908>],\n",
              "       [<matplotlib.axes._subplots.AxesSubplot object at 0x7f430e54fb70>,\n",
              "        <matplotlib.axes._subplots.AxesSubplot object at 0x7f430e47fdd8>,\n",
              "        <matplotlib.axes._subplots.AxesSubplot object at 0x7f430e442080>],\n",
              "       [<matplotlib.axes._subplots.AxesSubplot object at 0x7f430e3f22e8>,\n",
              "        <matplotlib.axes._subplots.AxesSubplot object at 0x7f430e425518>,\n",
              "        <matplotlib.axes._subplots.AxesSubplot object at 0x7f430e425588>],\n",
              "       [<matplotlib.axes._subplots.AxesSubplot object at 0x7f430e38da20>,\n",
              "        <matplotlib.axes._subplots.AxesSubplot object at 0x7f430e340c88>,\n",
              "        <matplotlib.axes._subplots.AxesSubplot object at 0x7f430e2f3ef0>]],\n",
              "      dtype=object)"
            ]
          },
          "metadata": {
            "tags": []
          },
          "execution_count": 8
        },
        {
          "output_type": "display_data",
          "data": {
            "image/png": "[encoded data removed]",
            "text/plain": [
              "<Figure size 1440x1080 with 12 Axes>"
            ]
          },
          "metadata": {
            "tags": [],
            "needs_background": "light"
          }
        }
      ]
    },
    {
      "cell_type": "code",
      "metadata": {
        "colab": {
          "base_uri": "https://localhost:8080/",
          "height": 357
        },
        "id": "O5M4iQnTmc_N",
        "outputId": "3e4f3897-6093-48e2-a738-c7580fe26e7b"
      },
      "source": [
        "# Pearson correlation for overall and other (entire)\n",
        "corr_matrix = df.corr()\n",
        "corr_matrix"
      ],
      "execution_count": 9,
      "outputs": [
        {
          "output_type": "execute_result",
          "data": {
            "text/html": [
              "<div>\n",
              "<style scoped>\n",
              "    .dataframe tbody tr th:only-of-type {\n",
              "        vertical-align: middle;\n",
              "    }\n",
              "\n",
              "    .dataframe tbody tr th {\n",
              "        vertical-align: top;\n",
              "    }\n",
              "\n",
              "    .dataframe thead th {\n",
              "        text-align: right;\n",
              "    }\n",
              "</style>\n",
              "<table border=\"1\" class=\"dataframe\">\n",
              "  <thead>\n",
              "    <tr style=\"text-align: right;\">\n",
              "      <th></th>\n",
              "      <th>reviewerID</th>\n",
              "      <th>amazon-id</th>\n",
              "      <th>unixReviewTime</th>\n",
              "      <th>overall</th>\n",
              "      <th>price</th>\n",
              "      <th>title</th>\n",
              "      <th>artist</th>\n",
              "      <th>first-release-year</th>\n",
              "      <th>salesRank</th>\n",
              "      <th>helpful_transformed</th>\n",
              "    </tr>\n",
              "  </thead>\n",
              "  <tbody>\n",
              "    <tr>\n",
              "      <th>reviewerID</th>\n",
              "      <td>1.000000</td>\n",
              "      <td>0.002610</td>\n",
              "      <td>0.001351</td>\n",
              "      <td>0.003343</td>\n",
              "      <td>0.001911</td>\n",
              "      <td>0.000288</td>\n",
              "      <td>0.003953</td>\n",
              "      <td>0.012399</td>\n",
              "      <td>-0.005065</td>\n",
              "      <td>-0.002795</td>\n",
              "    </tr>\n",
              "    <tr>\n",
              "      <th>amazon-id</th>\n",
              "      <td>0.002610</td>\n",
              "      <td>1.000000</td>\n",
              "      <td>0.074785</td>\n",
              "      <td>0.014093</td>\n",
              "      <td>0.025946</td>\n",
              "      <td>-0.067795</td>\n",
              "      <td>-0.037234</td>\n",
              "      <td>0.048373</td>\n",
              "      <td>0.004721</td>\n",
              "      <td>0.024789</td>\n",
              "    </tr>\n",
              "    <tr>\n",
              "      <th>unixReviewTime</th>\n",
              "      <td>0.001351</td>\n",
              "      <td>0.074785</td>\n",
              "      <td>1.000000</td>\n",
              "      <td>0.049034</td>\n",
              "      <td>0.130343</td>\n",
              "      <td>-0.019658</td>\n",
              "      <td>-0.040846</td>\n",
              "      <td>0.272933</td>\n",
              "      <td>-0.161860</td>\n",
              "      <td>-0.095477</td>\n",
              "    </tr>\n",
              "    <tr>\n",
              "      <th>overall</th>\n",
              "      <td>0.003343</td>\n",
              "      <td>0.014093</td>\n",
              "      <td>0.049034</td>\n",
              "      <td>1.000000</td>\n",
              "      <td>-0.013251</td>\n",
              "      <td>0.009592</td>\n",
              "      <td>-0.026578</td>\n",
              "      <td>-0.019243</td>\n",
              "      <td>-0.014595</td>\n",
              "      <td>0.334707</td>\n",
              "    </tr>\n",
              "    <tr>\n",
              "      <th>price</th>\n",
              "      <td>0.001911</td>\n",
              "      <td>0.025946</td>\n",
              "      <td>0.130343</td>\n",
              "      <td>-0.013251</td>\n",
              "      <td>1.000000</td>\n",
              "      <td>-0.012641</td>\n",
              "      <td>0.029146</td>\n",
              "      <td>0.227156</td>\n",
              "      <td>-0.088962</td>\n",
              "      <td>-0.057499</td>\n",
              "    </tr>\n",
              "    <tr>\n",
              "      <th>title</th>\n",
              "      <td>0.000288</td>\n",
              "      <td>-0.067795</td>\n",
              "      <td>-0.019658</td>\n",
              "      <td>0.009592</td>\n",
              "      <td>-0.012641</td>\n",
              "      <td>1.000000</td>\n",
              "      <td>0.044103</td>\n",
              "      <td>-0.058757</td>\n",
              "      <td>-0.015224</td>\n",
              "      <td>-0.016366</td>\n",
              "    </tr>\n",
              "    <tr>\n",
              "      <th>artist</th>\n",
              "      <td>0.003953</td>\n",
              "      <td>-0.037234</td>\n",
              "      <td>-0.040846</td>\n",
              "      <td>-0.026578</td>\n",
              "      <td>0.029146</td>\n",
              "      <td>0.044103</td>\n",
              "      <td>1.000000</td>\n",
              "      <td>-0.017663</td>\n",
              "      <td>0.026994</td>\n",
              "      <td>-0.026382</td>\n",
              "    </tr>\n",
              "    <tr>\n",
              "      <th>first-release-year</th>\n",
              "      <td>0.012399</td>\n",
              "      <td>0.048373</td>\n",
              "      <td>0.272933</td>\n",
              "      <td>-0.019243</td>\n",
              "      <td>0.227156</td>\n",
              "      <td>-0.058757</td>\n",
              "      <td>-0.017663</td>\n",
              "      <td>1.000000</td>\n",
              "      <td>-0.160669</td>\n",
              "      <td>-0.048142</td>\n",
              "    </tr>\n",
              "    <tr>\n",
              "      <th>salesRank</th>\n",
              "      <td>-0.005065</td>\n",
              "      <td>0.004721</td>\n",
              "      <td>-0.161860</td>\n",
              "      <td>-0.014595</td>\n",
              "      <td>-0.088962</td>\n",
              "      <td>-0.015224</td>\n",
              "      <td>0.026994</td>\n",
              "      <td>-0.160669</td>\n",
              "      <td>1.000000</td>\n",
              "      <td>0.068343</td>\n",
              "    </tr>\n",
              "    <tr>\n",
              "      <th>helpful_transformed</th>\n",
              "      <td>-0.002795</td>\n",
              "      <td>0.024789</td>\n",
              "      <td>-0.095477</td>\n",
              "      <td>0.334707</td>\n",
              "      <td>-0.057499</td>\n",
              "      <td>-0.016366</td>\n",
              "      <td>-0.026382</td>\n",
              "      <td>-0.048142</td>\n",
              "      <td>0.068343</td>\n",
              "      <td>1.000000</td>\n",
              "    </tr>\n",
              "  </tbody>\n",
              "</table>\n",
              "</div>"
            ],
            "text/plain": [
              "                     reviewerID  amazon-id  ...  salesRank  helpful_transformed\n",
              "reviewerID             1.000000   0.002610  ...  -0.005065            -0.002795\n",
              "amazon-id              0.002610   1.000000  ...   0.004721             0.024789\n",
              "unixReviewTime         0.001351   0.074785  ...  -0.161860            -0.095477\n",
              "overall                0.003343   0.014093  ...  -0.014595             0.334707\n",
              "price                  0.001911   0.025946  ...  -0.088962            -0.057499\n",
              "title                  0.000288  -0.067795  ...  -0.015224            -0.016366\n",
              "artist                 0.003953  -0.037234  ...   0.026994            -0.026382\n",
              "first-release-year     0.012399   0.048373  ...  -0.160669            -0.048142\n",
              "salesRank             -0.005065   0.004721  ...   1.000000             0.068343\n",
              "helpful_transformed   -0.002795   0.024789  ...   0.068343             1.000000\n",
              "\n",
              "[10 rows x 10 columns]"
            ]
          },
          "metadata": {
            "tags": []
          },
          "execution_count": 9
        }
      ]
    },
    {
      "cell_type": "code",
      "metadata": {
        "colab": {
          "base_uri": "https://localhost:8080/",
          "height": 293
        },
        "id": "Dlj3W038UD7g",
        "outputId": "6bd933b5-0202-4db5-c019-dafea4e4dc34"
      },
      "source": [
        "# regular correlation matrix by visualization\n",
        "plt.matshow(corr_matrix)"
      ],
      "execution_count": 10,
      "outputs": [
        {
          "output_type": "execute_result",
          "data": {
            "text/plain": [
              "<matplotlib.image.AxesImage at 0x7f430d740668>"
            ]
          },
          "metadata": {
            "tags": []
          },
          "execution_count": 10
        },
        {
          "output_type": "display_data",
          "data": {
            "image/png": "[encoded data removed]",
            "text/plain": [
              "<Figure size 288x288 with 1 Axes>"
            ]
          },
          "metadata": {
            "tags": [],
            "needs_background": "light"
          }
        }
      ]
    },
    {
      "cell_type": "code",
      "metadata": {
        "colab": {
          "base_uri": "https://localhost:8080/",
          "height": 293
        },
        "id": "BQi-E5sxUMGA",
        "outputId": "db025c43-6a0b-4730-beba-9f5d9734eeb7"
      },
      "source": [
        "# by replacing diagonal values as 0, we visualized correlation matrix again to see the relationship. \n",
        "# it is noted that column 3 (overall rating) is a bit correlated to row 9 (helpful transformed)\n",
        "corr_matrix_for_color = copy.deepcopy(corr_matrix.to_numpy())\n",
        "np.fill_diagonal(corr_matrix_for_color, 0)\n",
        "plt.matshow(corr_matrix_for_color)\n",
        "\n",
        "\n",
        "## note:\n",
        "# it seems that column 2 (unixReviewtime) is correlated to some feature like first realease year. "
      ],
      "execution_count": 11,
      "outputs": [
        {
          "output_type": "execute_result",
          "data": {
            "text/plain": [
              "<matplotlib.image.AxesImage at 0x7f430d68b128>"
            ]
          },
          "metadata": {
            "tags": []
          },
          "execution_count": 11
        },
        {
          "output_type": "display_data",
          "data": {
            "image/png": "[encoded data removed]",
            "text/plain": [
              "<Figure size 288x288 with 1 Axes>"
            ]
          },
          "metadata": {
            "tags": [],
            "needs_background": "light"
          }
        }
      ]
    },
    {
      "cell_type": "code",
      "metadata": {
        "colab": {
          "base_uri": "https://localhost:8080/"
        },
        "id": "6hhZ27Q6UA6b",
        "outputId": "8fa8e578-e595-4dc6-b3f6-e1b89b4fcbd5"
      },
      "source": [
        "corr_matrix['overall'].sort_values(ascending=False)"
      ],
      "execution_count": 12,
      "outputs": [
        {
          "output_type": "execute_result",
          "data": {
            "text/plain": [
              "overall                1.000000\n",
              "helpful_transformed    0.334707\n",
              "unixReviewTime         0.049034\n",
              "amazon-id              0.014093\n",
              "title                  0.009592\n",
              "reviewerID             0.003343\n",
              "price                 -0.013251\n",
              "salesRank             -0.014595\n",
              "first-release-year    -0.019243\n",
              "artist                -0.026578\n",
              "Name: overall, dtype: float64"
            ]
          },
          "metadata": {
            "tags": []
          },
          "execution_count": 12
        }
      ]
    },
    {
      "cell_type": "markdown",
      "metadata": {
        "id": "YmC_b2hKmqiK"
      },
      "source": [
        "## Data pre-processing"
      ]
    },
    {
      "cell_type": "markdown",
      "metadata": {
        "id": "qgV40ZQamvyR"
      },
      "source": [
        "### one hot encoding"
      ]
    },
    {
      "cell_type": "code",
      "metadata": {
        "colab": {
          "base_uri": "https://localhost:8080/"
        },
        "id": "YYBZ8dwwmlWs",
        "outputId": "d3b45b54-bbfa-48f7-fa4f-977e0109d96e"
      },
      "source": [
        "# One hot encoding\n",
        "# haven't done for processing with this in the algorithm yet\n",
        "df['root-genre'] = df['root-genre'].astype('category')\n",
        "root_genre_cat = df['root-genre']\n",
        "root_genre_cat_encoded, root_genre_categories = root_genre_cat.factorize()\n",
        "encoder = OneHotEncoder(categories='auto')\n",
        "root_genre_cat_1hot = encoder.fit_transform(root_genre_cat_encoded.reshape(-1,1))\n",
        "root_genre_cat_1hot.toarray()"
      ],
      "execution_count": 13,
      "outputs": [
        {
          "output_type": "execute_result",
          "data": {
            "text/plain": [
              "array([[1., 0., 0., ..., 0., 0., 0.],\n",
              "       [1., 0., 0., ..., 0., 0., 0.],\n",
              "       [1., 0., 0., ..., 0., 0., 0.],\n",
              "       ...,\n",
              "       [0., 0., 0., ..., 0., 0., 0.],\n",
              "       [0., 0., 0., ..., 0., 0., 0.],\n",
              "       [0., 0., 0., ..., 0., 0., 0.]])"
            ]
          },
          "metadata": {
            "tags": []
          },
          "execution_count": 13
        }
      ]
    },
    {
      "cell_type": "code",
      "metadata": {
        "colab": {
          "base_uri": "https://localhost:8080/",
          "height": 417
        },
        "id": "zCzgBuoNnQOq",
        "outputId": "2f46c510-af34-4550-ba77-4a445b855fa2"
      },
      "source": [
        "genre_dummies = pd.get_dummies(df['root-genre'])\n",
        "genre_dummies"
      ],
      "execution_count": 14,
      "outputs": [
        {
          "output_type": "execute_result",
          "data": {
            "text/html": [
              "<div>\n",
              "<style scoped>\n",
              "    .dataframe tbody tr th:only-of-type {\n",
              "        vertical-align: middle;\n",
              "    }\n",
              "\n",
              "    .dataframe tbody tr th {\n",
              "        vertical-align: top;\n",
              "    }\n",
              "\n",
              "    .dataframe thead th {\n",
              "        text-align: right;\n",
              "    }\n",
              "</style>\n",
              "<table border=\"1\" class=\"dataframe\">\n",
              "  <thead>\n",
              "    <tr style=\"text-align: right;\">\n",
              "      <th></th>\n",
              "      <th>Alternative Rock</th>\n",
              "      <th>Blues</th>\n",
              "      <th>Classical</th>\n",
              "      <th>Country</th>\n",
              "      <th>Dance &amp; Electronic</th>\n",
              "      <th>Folk</th>\n",
              "      <th>Gospel</th>\n",
              "      <th>Jazz</th>\n",
              "      <th>Latin Music</th>\n",
              "      <th>Metal</th>\n",
              "      <th>New Age</th>\n",
              "      <th>Pop</th>\n",
              "      <th>R&amp;B</th>\n",
              "      <th>Rap &amp; Hip-Hop</th>\n",
              "      <th>Reggae</th>\n",
              "      <th>Rock</th>\n",
              "    </tr>\n",
              "  </thead>\n",
              "  <tbody>\n",
              "    <tr>\n",
              "      <th>0</th>\n",
              "      <td>0</td>\n",
              "      <td>0</td>\n",
              "      <td>0</td>\n",
              "      <td>0</td>\n",
              "      <td>0</td>\n",
              "      <td>0</td>\n",
              "      <td>0</td>\n",
              "      <td>0</td>\n",
              "      <td>0</td>\n",
              "      <td>0</td>\n",
              "      <td>1</td>\n",
              "      <td>0</td>\n",
              "      <td>0</td>\n",
              "      <td>0</td>\n",
              "      <td>0</td>\n",
              "      <td>0</td>\n",
              "    </tr>\n",
              "    <tr>\n",
              "      <th>1</th>\n",
              "      <td>0</td>\n",
              "      <td>0</td>\n",
              "      <td>0</td>\n",
              "      <td>0</td>\n",
              "      <td>0</td>\n",
              "      <td>0</td>\n",
              "      <td>0</td>\n",
              "      <td>0</td>\n",
              "      <td>0</td>\n",
              "      <td>0</td>\n",
              "      <td>1</td>\n",
              "      <td>0</td>\n",
              "      <td>0</td>\n",
              "      <td>0</td>\n",
              "      <td>0</td>\n",
              "      <td>0</td>\n",
              "    </tr>\n",
              "    <tr>\n",
              "      <th>2</th>\n",
              "      <td>0</td>\n",
              "      <td>0</td>\n",
              "      <td>0</td>\n",
              "      <td>0</td>\n",
              "      <td>0</td>\n",
              "      <td>0</td>\n",
              "      <td>0</td>\n",
              "      <td>0</td>\n",
              "      <td>0</td>\n",
              "      <td>0</td>\n",
              "      <td>1</td>\n",
              "      <td>0</td>\n",
              "      <td>0</td>\n",
              "      <td>0</td>\n",
              "      <td>0</td>\n",
              "      <td>0</td>\n",
              "    </tr>\n",
              "    <tr>\n",
              "      <th>3</th>\n",
              "      <td>0</td>\n",
              "      <td>0</td>\n",
              "      <td>0</td>\n",
              "      <td>0</td>\n",
              "      <td>0</td>\n",
              "      <td>0</td>\n",
              "      <td>0</td>\n",
              "      <td>0</td>\n",
              "      <td>0</td>\n",
              "      <td>0</td>\n",
              "      <td>1</td>\n",
              "      <td>0</td>\n",
              "      <td>0</td>\n",
              "      <td>0</td>\n",
              "      <td>0</td>\n",
              "      <td>0</td>\n",
              "    </tr>\n",
              "    <tr>\n",
              "      <th>4</th>\n",
              "      <td>0</td>\n",
              "      <td>0</td>\n",
              "      <td>0</td>\n",
              "      <td>0</td>\n",
              "      <td>0</td>\n",
              "      <td>0</td>\n",
              "      <td>0</td>\n",
              "      <td>0</td>\n",
              "      <td>0</td>\n",
              "      <td>0</td>\n",
              "      <td>1</td>\n",
              "      <td>0</td>\n",
              "      <td>0</td>\n",
              "      <td>0</td>\n",
              "      <td>0</td>\n",
              "      <td>0</td>\n",
              "    </tr>\n",
              "    <tr>\n",
              "      <th>...</th>\n",
              "      <td>...</td>\n",
              "      <td>...</td>\n",
              "      <td>...</td>\n",
              "      <td>...</td>\n",
              "      <td>...</td>\n",
              "      <td>...</td>\n",
              "      <td>...</td>\n",
              "      <td>...</td>\n",
              "      <td>...</td>\n",
              "      <td>...</td>\n",
              "      <td>...</td>\n",
              "      <td>...</td>\n",
              "      <td>...</td>\n",
              "      <td>...</td>\n",
              "      <td>...</td>\n",
              "      <td>...</td>\n",
              "    </tr>\n",
              "    <tr>\n",
              "      <th>111093</th>\n",
              "      <td>0</td>\n",
              "      <td>0</td>\n",
              "      <td>0</td>\n",
              "      <td>0</td>\n",
              "      <td>0</td>\n",
              "      <td>0</td>\n",
              "      <td>0</td>\n",
              "      <td>0</td>\n",
              "      <td>0</td>\n",
              "      <td>0</td>\n",
              "      <td>0</td>\n",
              "      <td>1</td>\n",
              "      <td>0</td>\n",
              "      <td>0</td>\n",
              "      <td>0</td>\n",
              "      <td>0</td>\n",
              "    </tr>\n",
              "    <tr>\n",
              "      <th>111094</th>\n",
              "      <td>0</td>\n",
              "      <td>0</td>\n",
              "      <td>0</td>\n",
              "      <td>0</td>\n",
              "      <td>0</td>\n",
              "      <td>0</td>\n",
              "      <td>0</td>\n",
              "      <td>0</td>\n",
              "      <td>0</td>\n",
              "      <td>0</td>\n",
              "      <td>0</td>\n",
              "      <td>1</td>\n",
              "      <td>0</td>\n",
              "      <td>0</td>\n",
              "      <td>0</td>\n",
              "      <td>0</td>\n",
              "    </tr>\n",
              "    <tr>\n",
              "      <th>111095</th>\n",
              "      <td>0</td>\n",
              "      <td>0</td>\n",
              "      <td>0</td>\n",
              "      <td>0</td>\n",
              "      <td>0</td>\n",
              "      <td>0</td>\n",
              "      <td>0</td>\n",
              "      <td>0</td>\n",
              "      <td>0</td>\n",
              "      <td>0</td>\n",
              "      <td>0</td>\n",
              "      <td>1</td>\n",
              "      <td>0</td>\n",
              "      <td>0</td>\n",
              "      <td>0</td>\n",
              "      <td>0</td>\n",
              "    </tr>\n",
              "    <tr>\n",
              "      <th>111096</th>\n",
              "      <td>0</td>\n",
              "      <td>0</td>\n",
              "      <td>0</td>\n",
              "      <td>0</td>\n",
              "      <td>0</td>\n",
              "      <td>0</td>\n",
              "      <td>0</td>\n",
              "      <td>1</td>\n",
              "      <td>0</td>\n",
              "      <td>0</td>\n",
              "      <td>0</td>\n",
              "      <td>0</td>\n",
              "      <td>0</td>\n",
              "      <td>0</td>\n",
              "      <td>0</td>\n",
              "      <td>0</td>\n",
              "    </tr>\n",
              "    <tr>\n",
              "      <th>111097</th>\n",
              "      <td>0</td>\n",
              "      <td>0</td>\n",
              "      <td>0</td>\n",
              "      <td>0</td>\n",
              "      <td>0</td>\n",
              "      <td>0</td>\n",
              "      <td>0</td>\n",
              "      <td>1</td>\n",
              "      <td>0</td>\n",
              "      <td>0</td>\n",
              "      <td>0</td>\n",
              "      <td>0</td>\n",
              "      <td>0</td>\n",
              "      <td>0</td>\n",
              "      <td>0</td>\n",
              "      <td>0</td>\n",
              "    </tr>\n",
              "  </tbody>\n",
              "</table>\n",
              "<p>111098 rows × 16 columns</p>\n",
              "</div>"
            ],
            "text/plain": [
              "        Alternative Rock  Blues  Classical  ...  Rap & Hip-Hop  Reggae  Rock\n",
              "0                      0      0          0  ...              0       0     0\n",
              "1                      0      0          0  ...              0       0     0\n",
              "2                      0      0          0  ...              0       0     0\n",
              "3                      0      0          0  ...              0       0     0\n",
              "4                      0      0          0  ...              0       0     0\n",
              "...                  ...    ...        ...  ...            ...     ...   ...\n",
              "111093                 0      0          0  ...              0       0     0\n",
              "111094                 0      0          0  ...              0       0     0\n",
              "111095                 0      0          0  ...              0       0     0\n",
              "111096                 0      0          0  ...              0       0     0\n",
              "111097                 0      0          0  ...              0       0     0\n",
              "\n",
              "[111098 rows x 16 columns]"
            ]
          },
          "metadata": {
            "tags": []
          },
          "execution_count": 14
        }
      ]
    },
    {
      "cell_type": "markdown",
      "metadata": {
        "id": "x4K2TOkA7g5Z"
      },
      "source": [
        "### Make relevant feature"
      ]
    },
    {
      "cell_type": "code",
      "metadata": {
        "id": "E41R78ob7g5Z"
      },
      "source": [
        "# add total_song length feature\n",
        "df['total_songs'] = df['songs'].apply(lambda x: len(x))\n",
        "df['total_copurchase'] = df['related'].apply(lambda x: len(x))"
      ],
      "execution_count": 15,
      "outputs": []
    },
    {
      "cell_type": "code",
      "metadata": {
        "scrolled": true,
        "colab": {
          "base_uri": "https://localhost:8080/",
          "height": 302
        },
        "id": "OAmUd9MH7g5Z",
        "outputId": "c7068ac6-78a8-4882-a3f9-b4381e8604d8"
      },
      "source": [
        "df.head(2)"
      ],
      "execution_count": 16,
      "outputs": [
        {
          "output_type": "execute_result",
          "data": {
            "text/html": [
              "<div>\n",
              "<style scoped>\n",
              "    .dataframe tbody tr th:only-of-type {\n",
              "        vertical-align: middle;\n",
              "    }\n",
              "\n",
              "    .dataframe tbody tr th {\n",
              "        vertical-align: top;\n",
              "    }\n",
              "\n",
              "    .dataframe thead th {\n",
              "        text-align: right;\n",
              "    }\n",
              "</style>\n",
              "<table border=\"1\" class=\"dataframe\">\n",
              "  <thead>\n",
              "    <tr style=\"text-align: right;\">\n",
              "      <th></th>\n",
              "      <th>reviewerID</th>\n",
              "      <th>amazon-id</th>\n",
              "      <th>helpful</th>\n",
              "      <th>unixReviewTime</th>\n",
              "      <th>reviewText</th>\n",
              "      <th>overall</th>\n",
              "      <th>reviewTime</th>\n",
              "      <th>summary</th>\n",
              "      <th>price</th>\n",
              "      <th>categories</th>\n",
              "      <th>root-genre</th>\n",
              "      <th>title</th>\n",
              "      <th>artist</th>\n",
              "      <th>label</th>\n",
              "      <th>first-release-year</th>\n",
              "      <th>songs</th>\n",
              "      <th>salesRank</th>\n",
              "      <th>related</th>\n",
              "      <th>helpful_transformed</th>\n",
              "      <th>total_songs</th>\n",
              "      <th>total_copurchase</th>\n",
              "    </tr>\n",
              "  </thead>\n",
              "  <tbody>\n",
              "    <tr>\n",
              "      <th>0</th>\n",
              "      <td>-4984057859803657856</td>\n",
              "      <td>1877521326299865484</td>\n",
              "      <td>[2, 2]</td>\n",
              "      <td>1302739200</td>\n",
              "      <td>Very nice music for practicing my Tai Chi. I d...</td>\n",
              "      <td>4</td>\n",
              "      <td>04 14, 2011</td>\n",
              "      <td>Beautiful</td>\n",
              "      <td>16.47</td>\n",
              "      <td>['CDs &amp; Vinyl', 'New Age']</td>\n",
              "      <td>New Age</td>\n",
              "      <td>-3267874170410107454</td>\n",
              "      <td>-7180760356347753735</td>\n",
              "      <td>Cdbaby/Cdbaby</td>\n",
              "      <td>NaN</td>\n",
              "      <td>[7058439142327364074, 6037075874942075284, 852...</td>\n",
              "      <td>27222</td>\n",
              "      <td>{'also_bought': [-404470919165672227, 11968160...</td>\n",
              "      <td>1.0</td>\n",
              "      <td>213</td>\n",
              "      <td>1687</td>\n",
              "    </tr>\n",
              "    <tr>\n",
              "      <th>1</th>\n",
              "      <td>9136764282801708742</td>\n",
              "      <td>1877521326299865484</td>\n",
              "      <td>[11, 11]</td>\n",
              "      <td>1180396800</td>\n",
              "      <td>I recently starting doing Tai Chi which I love...</td>\n",
              "      <td>5</td>\n",
              "      <td>05 29, 2007</td>\n",
              "      <td>Tranquillity In Motion !!!</td>\n",
              "      <td>16.47</td>\n",
              "      <td>['CDs &amp; Vinyl', 'New Age']</td>\n",
              "      <td>New Age</td>\n",
              "      <td>-3267874170410107454</td>\n",
              "      <td>-7180760356347753735</td>\n",
              "      <td>Cdbaby/Cdbaby</td>\n",
              "      <td>NaN</td>\n",
              "      <td>[7058439142327364074, 6037075874942075284, 852...</td>\n",
              "      <td>27222</td>\n",
              "      <td>{'also_bought': [-404470919165672227, 11968160...</td>\n",
              "      <td>1.0</td>\n",
              "      <td>213</td>\n",
              "      <td>1687</td>\n",
              "    </tr>\n",
              "  </tbody>\n",
              "</table>\n",
              "</div>"
            ],
            "text/plain": [
              "            reviewerID            amazon-id  ... total_songs  total_copurchase\n",
              "0 -4984057859803657856  1877521326299865484  ...         213              1687\n",
              "1  9136764282801708742  1877521326299865484  ...         213              1687\n",
              "\n",
              "[2 rows x 21 columns]"
            ]
          },
          "metadata": {
            "tags": []
          },
          "execution_count": 16
        }
      ]
    },
    {
      "cell_type": "markdown",
      "metadata": {
        "id": "zGoz2cVsnis8"
      },
      "source": [
        "### drop NaN data"
      ]
    },
    {
      "cell_type": "code",
      "metadata": {
        "colab": {
          "base_uri": "https://localhost:8080/",
          "height": 0
        },
        "id": "QdOM953fnT7e",
        "scrolled": true,
        "outputId": "f10302cb-9d28-4355-b904-2807d91e1bb7"
      },
      "source": [
        "# drop both\n",
        "df_clean = df.dropna(subset=[\"helpful_transformed\", \"first-release-year\"])\n",
        "df_clean.describe()"
      ],
      "execution_count": 17,
      "outputs": [
        {
          "output_type": "execute_result",
          "data": {
            "text/html": [
              "<div>\n",
              "<style scoped>\n",
              "    .dataframe tbody tr th:only-of-type {\n",
              "        vertical-align: middle;\n",
              "    }\n",
              "\n",
              "    .dataframe tbody tr th {\n",
              "        vertical-align: top;\n",
              "    }\n",
              "\n",
              "    .dataframe thead th {\n",
              "        text-align: right;\n",
              "    }\n",
              "</style>\n",
              "<table border=\"1\" class=\"dataframe\">\n",
              "  <thead>\n",
              "    <tr style=\"text-align: right;\">\n",
              "      <th></th>\n",
              "      <th>reviewerID</th>\n",
              "      <th>amazon-id</th>\n",
              "      <th>unixReviewTime</th>\n",
              "      <th>overall</th>\n",
              "      <th>price</th>\n",
              "      <th>title</th>\n",
              "      <th>artist</th>\n",
              "      <th>first-release-year</th>\n",
              "      <th>salesRank</th>\n",
              "      <th>helpful_transformed</th>\n",
              "      <th>total_songs</th>\n",
              "      <th>total_copurchase</th>\n",
              "    </tr>\n",
              "  </thead>\n",
              "  <tbody>\n",
              "    <tr>\n",
              "      <th>count</th>\n",
              "      <td>6.231400e+04</td>\n",
              "      <td>6.231400e+04</td>\n",
              "      <td>6.231400e+04</td>\n",
              "      <td>62314.000000</td>\n",
              "      <td>62314.000000</td>\n",
              "      <td>6.231400e+04</td>\n",
              "      <td>6.231400e+04</td>\n",
              "      <td>62314.000000</td>\n",
              "      <td>6.231400e+04</td>\n",
              "      <td>62314.000000</td>\n",
              "      <td>62314.000000</td>\n",
              "      <td>62314.000000</td>\n",
              "    </tr>\n",
              "    <tr>\n",
              "      <th>mean</th>\n",
              "      <td>-5.738829e+16</td>\n",
              "      <td>-1.082026e+17</td>\n",
              "      <td>1.189015e+09</td>\n",
              "      <td>4.317409</td>\n",
              "      <td>20.332644</td>\n",
              "      <td>5.170977e+17</td>\n",
              "      <td>3.964111e+17</td>\n",
              "      <td>1998.487595</td>\n",
              "      <td>2.181048e+05</td>\n",
              "      <td>0.704545</td>\n",
              "      <td>295.895577</td>\n",
              "      <td>1499.814376</td>\n",
              "    </tr>\n",
              "    <tr>\n",
              "      <th>std</th>\n",
              "      <td>5.320430e+18</td>\n",
              "      <td>5.459479e+18</td>\n",
              "      <td>1.351383e+08</td>\n",
              "      <td>1.162616</td>\n",
              "      <td>17.024350</td>\n",
              "      <td>5.220645e+18</td>\n",
              "      <td>4.901873e+18</td>\n",
              "      <td>13.578413</td>\n",
              "      <td>3.598565e+05</td>\n",
              "      <td>0.354257</td>\n",
              "      <td>115.138396</td>\n",
              "      <td>885.859548</td>\n",
              "    </tr>\n",
              "    <tr>\n",
              "      <th>min</th>\n",
              "      <td>-9.223209e+18</td>\n",
              "      <td>-9.217724e+18</td>\n",
              "      <td>8.794656e+08</td>\n",
              "      <td>1.000000</td>\n",
              "      <td>0.250000</td>\n",
              "      <td>-9.219330e+18</td>\n",
              "      <td>-9.220220e+18</td>\n",
              "      <td>1890.000000</td>\n",
              "      <td>6.000000e+00</td>\n",
              "      <td>0.000000</td>\n",
              "      <td>2.000000</td>\n",
              "      <td>36.000000</td>\n",
              "    </tr>\n",
              "    <tr>\n",
              "      <th>25%</th>\n",
              "      <td>-4.673797e+18</td>\n",
              "      <td>-5.002316e+18</td>\n",
              "      <td>1.078704e+09</td>\n",
              "      <td>4.000000</td>\n",
              "      <td>9.990000</td>\n",
              "      <td>-3.841314e+18</td>\n",
              "      <td>-3.758738e+18</td>\n",
              "      <td>1994.000000</td>\n",
              "      <td>8.876000e+03</td>\n",
              "      <td>0.500000</td>\n",
              "      <td>235.000000</td>\n",
              "      <td>536.000000</td>\n",
              "    </tr>\n",
              "    <tr>\n",
              "      <th>50%</th>\n",
              "      <td>-7.116225e+16</td>\n",
              "      <td>4.131612e+17</td>\n",
              "      <td>1.193443e+09</td>\n",
              "      <td>5.000000</td>\n",
              "      <td>16.260000</td>\n",
              "      <td>8.119961e+17</td>\n",
              "      <td>7.017061e+17</td>\n",
              "      <td>2003.000000</td>\n",
              "      <td>8.517000e+04</td>\n",
              "      <td>0.866667</td>\n",
              "      <td>277.000000</td>\n",
              "      <td>1956.000000</td>\n",
              "    </tr>\n",
              "    <tr>\n",
              "      <th>75%</th>\n",
              "      <td>4.533849e+18</td>\n",
              "      <td>4.620256e+18</td>\n",
              "      <td>1.308852e+09</td>\n",
              "      <td>5.000000</td>\n",
              "      <td>27.520000</td>\n",
              "      <td>4.742375e+18</td>\n",
              "      <td>4.215883e+18</td>\n",
              "      <td>2009.000000</td>\n",
              "      <td>2.596760e+05</td>\n",
              "      <td>1.000000</td>\n",
              "      <td>344.000000</td>\n",
              "      <td>2313.000000</td>\n",
              "    </tr>\n",
              "    <tr>\n",
              "      <th>max</th>\n",
              "      <td>9.222415e+18</td>\n",
              "      <td>9.222653e+18</td>\n",
              "      <td>1.405901e+09</td>\n",
              "      <td>5.000000</td>\n",
              "      <td>486.730000</td>\n",
              "      <td>9.220934e+18</td>\n",
              "      <td>9.218510e+18</td>\n",
              "      <td>2015.000000</td>\n",
              "      <td>2.453642e+06</td>\n",
              "      <td>1.000000</td>\n",
              "      <td>542.000000</td>\n",
              "      <td>2346.000000</td>\n",
              "    </tr>\n",
              "  </tbody>\n",
              "</table>\n",
              "</div>"
            ],
            "text/plain": [
              "         reviewerID     amazon-id  ...   total_songs  total_copurchase\n",
              "count  6.231400e+04  6.231400e+04  ...  62314.000000      62314.000000\n",
              "mean  -5.738829e+16 -1.082026e+17  ...    295.895577       1499.814376\n",
              "std    5.320430e+18  5.459479e+18  ...    115.138396        885.859548\n",
              "min   -9.223209e+18 -9.217724e+18  ...      2.000000         36.000000\n",
              "25%   -4.673797e+18 -5.002316e+18  ...    235.000000        536.000000\n",
              "50%   -7.116225e+16  4.131612e+17  ...    277.000000       1956.000000\n",
              "75%    4.533849e+18  4.620256e+18  ...    344.000000       2313.000000\n",
              "max    9.222415e+18  9.222653e+18  ...    542.000000       2346.000000\n",
              "\n",
              "[8 rows x 12 columns]"
            ]
          },
          "metadata": {
            "tags": []
          },
          "execution_count": 17
        }
      ]
    },
    {
      "cell_type": "code",
      "metadata": {
        "colab": {
          "base_uri": "https://localhost:8080/",
          "height": 0
        },
        "id": "S5zNp56W7g5a",
        "outputId": "7054afe0-6c55-4d93-a9e1-553494970a77"
      },
      "source": [
        "df_clean.head(3)"
      ],
      "execution_count": 18,
      "outputs": [
        {
          "output_type": "execute_result",
          "data": {
            "text/html": [
              "<div>\n",
              "<style scoped>\n",
              "    .dataframe tbody tr th:only-of-type {\n",
              "        vertical-align: middle;\n",
              "    }\n",
              "\n",
              "    .dataframe tbody tr th {\n",
              "        vertical-align: top;\n",
              "    }\n",
              "\n",
              "    .dataframe thead th {\n",
              "        text-align: right;\n",
              "    }\n",
              "</style>\n",
              "<table border=\"1\" class=\"dataframe\">\n",
              "  <thead>\n",
              "    <tr style=\"text-align: right;\">\n",
              "      <th></th>\n",
              "      <th>reviewerID</th>\n",
              "      <th>amazon-id</th>\n",
              "      <th>helpful</th>\n",
              "      <th>unixReviewTime</th>\n",
              "      <th>reviewText</th>\n",
              "      <th>overall</th>\n",
              "      <th>reviewTime</th>\n",
              "      <th>summary</th>\n",
              "      <th>price</th>\n",
              "      <th>categories</th>\n",
              "      <th>root-genre</th>\n",
              "      <th>title</th>\n",
              "      <th>artist</th>\n",
              "      <th>label</th>\n",
              "      <th>first-release-year</th>\n",
              "      <th>songs</th>\n",
              "      <th>salesRank</th>\n",
              "      <th>related</th>\n",
              "      <th>helpful_transformed</th>\n",
              "      <th>total_songs</th>\n",
              "      <th>total_copurchase</th>\n",
              "    </tr>\n",
              "  </thead>\n",
              "  <tbody>\n",
              "    <tr>\n",
              "      <th>30</th>\n",
              "      <td>-3029154682982670675</td>\n",
              "      <td>2828769427501176858</td>\n",
              "      <td>[13, 13]</td>\n",
              "      <td>1274486400</td>\n",
              "      <td>When I was in Music School at Stetson Universi...</td>\n",
              "      <td>5</td>\n",
              "      <td>05 22, 2010</td>\n",
              "      <td>A Great Teaching tool</td>\n",
              "      <td>15.00</td>\n",
              "      <td>['CDs &amp; Vinyl', 'Classical', 'Sacred &amp; Religio...</td>\n",
              "      <td>Classical</td>\n",
              "      <td>-3686601028207514605</td>\n",
              "      <td>-1412275221690118390</td>\n",
              "      <td>Solesmes</td>\n",
              "      <td>2002.0</td>\n",
              "      <td>[-5278554366520980165, 1031059927497114547, -8...</td>\n",
              "      <td>171890</td>\n",
              "      <td>{'also_bought': [-2564721328448647001, 4039811...</td>\n",
              "      <td>1.0</td>\n",
              "      <td>405</td>\n",
              "      <td>578</td>\n",
              "    </tr>\n",
              "    <tr>\n",
              "      <th>32</th>\n",
              "      <td>-84902388281572817</td>\n",
              "      <td>1683355681609577463</td>\n",
              "      <td>[0, 1]</td>\n",
              "      <td>1395619200</td>\n",
              "      <td>After seeing this selling on line for as much ...</td>\n",
              "      <td>4</td>\n",
              "      <td>03 24, 2014</td>\n",
              "      <td>Metallica - Death Magnetic (Deluxe Coffin Boxset)</td>\n",
              "      <td>99.99</td>\n",
              "      <td>['CDs &amp; Vinyl', 'Rock']</td>\n",
              "      <td>Rock</td>\n",
              "      <td>2278261453371246336</td>\n",
              "      <td>1178076565539150448</td>\n",
              "      <td>Mercury (Universal)</td>\n",
              "      <td>2008.0</td>\n",
              "      <td>[6232524707980398149, 5566973718179316922, -43...</td>\n",
              "      <td>503636</td>\n",
              "      <td>{'also_viewed': [-5109793234044987754, 5931663...</td>\n",
              "      <td>0.0</td>\n",
              "      <td>212</td>\n",
              "      <td>1292</td>\n",
              "    </tr>\n",
              "    <tr>\n",
              "      <th>33</th>\n",
              "      <td>-8209243714021876578</td>\n",
              "      <td>245546254853962888</td>\n",
              "      <td>[1, 1]</td>\n",
              "      <td>1087430400</td>\n",
              "      <td>Let me start by saying that I am not a die-har...</td>\n",
              "      <td>5</td>\n",
              "      <td>06 17, 2004</td>\n",
              "      <td>Best Comedy Recording Ever</td>\n",
              "      <td>36.97</td>\n",
              "      <td>['CDs &amp; Vinyl', 'Dance &amp; Electronic']</td>\n",
              "      <td>Dance &amp; Electronic</td>\n",
              "      <td>-3282866979189163366</td>\n",
              "      <td>8493232817338375900</td>\n",
              "      <td>Enigma</td>\n",
              "      <td>1990.0</td>\n",
              "      <td>[-5143272649889793807, -547543979015767703, -8...</td>\n",
              "      <td>199821</td>\n",
              "      <td>{'also_bought': [5334117667833916410, 27299936...</td>\n",
              "      <td>1.0</td>\n",
              "      <td>259</td>\n",
              "      <td>252</td>\n",
              "    </tr>\n",
              "  </tbody>\n",
              "</table>\n",
              "</div>"
            ],
            "text/plain": [
              "             reviewerID            amazon-id  ... total_songs  total_copurchase\n",
              "30 -3029154682982670675  2828769427501176858  ...         405               578\n",
              "32   -84902388281572817  1683355681609577463  ...         212              1292\n",
              "33 -8209243714021876578   245546254853962888  ...         259               252\n",
              "\n",
              "[3 rows x 21 columns]"
            ]
          },
          "metadata": {
            "tags": []
          },
          "execution_count": 18
        }
      ]
    },
    {
      "cell_type": "code",
      "metadata": {
        "id": "l6jlBiVH7g5a"
      },
      "source": [
        "# Todo \n",
        "# 1. drop na or imputation for na by median for each id ==> fillna\n",
        "# 2. normalization of quantitative values\n",
        "# 3. Hyperparameter change grid search\n",
        "# 4. Cross validation\n",
        "# 5. Weighted F1\n",
        "# 6. Confusion matrix for error checking and what classes have been found to be identified\n",
        "# 7. Other feature like album how many songs? category?\n",
        "# 8. first release year NaN ==> map by the earliest review year\n",
        "# 9. Helpful review NaN ==> fill \n",
        "# 10. pipeline\n",
        "# 11. correlation for aggregated one"
      ],
      "execution_count": 19,
      "outputs": []
    },
    {
      "cell_type": "markdown",
      "metadata": {
        "id": "8csxbqkZoQ0H"
      },
      "source": [
        "### Text and Unnecessary Data Drop"
      ]
    },
    {
      "cell_type": "code",
      "metadata": {
        "colab": {
          "base_uri": "https://localhost:8080/",
          "height": 203
        },
        "id": "ayEDd9cCoIBx",
        "scrolled": true,
        "outputId": "eb38728f-8a66-4908-ed62-a0774b3b0c6a"
      },
      "source": [
        "df_clean.drop(['helpful', 'reviewText', 'summary', 'categories', 'root-genre', 'label', 'reviewTime'], axis=1)\n",
        "\n",
        "# only using data for quant analysis\n",
        "feature_names = [\"amazon-id\", \"unixReviewTime\", \"price\", \"first-release-year\", \"salesRank\", \"helpful_transformed\", \"total_songs\", \"total_copurchase\",  \"overall\"]\n",
        "# candidate later: \"songs\", \"related\", \"title\", \"reviewerID\", \"amazon-id\", \n",
        "\n",
        "quant_data = df_clean[feature_names]\n",
        "#predicted_variable = df_clean['predict_target']\n",
        "\n",
        "quant_data.head()"
      ],
      "execution_count": 20,
      "outputs": [
        {
          "output_type": "execute_result",
          "data": {
            "text/html": [
              "<div>\n",
              "<style scoped>\n",
              "    .dataframe tbody tr th:only-of-type {\n",
              "        vertical-align: middle;\n",
              "    }\n",
              "\n",
              "    .dataframe tbody tr th {\n",
              "        vertical-align: top;\n",
              "    }\n",
              "\n",
              "    .dataframe thead th {\n",
              "        text-align: right;\n",
              "    }\n",
              "</style>\n",
              "<table border=\"1\" class=\"dataframe\">\n",
              "  <thead>\n",
              "    <tr style=\"text-align: right;\">\n",
              "      <th></th>\n",
              "      <th>amazon-id</th>\n",
              "      <th>unixReviewTime</th>\n",
              "      <th>price</th>\n",
              "      <th>first-release-year</th>\n",
              "      <th>salesRank</th>\n",
              "      <th>helpful_transformed</th>\n",
              "      <th>total_songs</th>\n",
              "      <th>total_copurchase</th>\n",
              "      <th>overall</th>\n",
              "    </tr>\n",
              "  </thead>\n",
              "  <tbody>\n",
              "    <tr>\n",
              "      <th>30</th>\n",
              "      <td>2828769427501176858</td>\n",
              "      <td>1274486400</td>\n",
              "      <td>15.00</td>\n",
              "      <td>2002.0</td>\n",
              "      <td>171890</td>\n",
              "      <td>1.0</td>\n",
              "      <td>405</td>\n",
              "      <td>578</td>\n",
              "      <td>5</td>\n",
              "    </tr>\n",
              "    <tr>\n",
              "      <th>32</th>\n",
              "      <td>1683355681609577463</td>\n",
              "      <td>1395619200</td>\n",
              "      <td>99.99</td>\n",
              "      <td>2008.0</td>\n",
              "      <td>503636</td>\n",
              "      <td>0.0</td>\n",
              "      <td>212</td>\n",
              "      <td>1292</td>\n",
              "      <td>4</td>\n",
              "    </tr>\n",
              "    <tr>\n",
              "      <th>33</th>\n",
              "      <td>245546254853962888</td>\n",
              "      <td>1087430400</td>\n",
              "      <td>36.97</td>\n",
              "      <td>1990.0</td>\n",
              "      <td>199821</td>\n",
              "      <td>1.0</td>\n",
              "      <td>259</td>\n",
              "      <td>252</td>\n",
              "      <td>5</td>\n",
              "    </tr>\n",
              "    <tr>\n",
              "      <th>35</th>\n",
              "      <td>245546254853962888</td>\n",
              "      <td>1133395200</td>\n",
              "      <td>36.97</td>\n",
              "      <td>1990.0</td>\n",
              "      <td>199821</td>\n",
              "      <td>1.0</td>\n",
              "      <td>259</td>\n",
              "      <td>252</td>\n",
              "      <td>5</td>\n",
              "    </tr>\n",
              "    <tr>\n",
              "      <th>36</th>\n",
              "      <td>245546254853962888</td>\n",
              "      <td>1283644800</td>\n",
              "      <td>36.97</td>\n",
              "      <td>1990.0</td>\n",
              "      <td>199821</td>\n",
              "      <td>1.0</td>\n",
              "      <td>259</td>\n",
              "      <td>252</td>\n",
              "      <td>4</td>\n",
              "    </tr>\n",
              "  </tbody>\n",
              "</table>\n",
              "</div>"
            ],
            "text/plain": [
              "              amazon-id  unixReviewTime  ...  total_copurchase  overall\n",
              "30  2828769427501176858      1274486400  ...               578        5\n",
              "32  1683355681609577463      1395619200  ...              1292        4\n",
              "33   245546254853962888      1087430400  ...               252        5\n",
              "35   245546254853962888      1133395200  ...               252        5\n",
              "36   245546254853962888      1283644800  ...               252        4\n",
              "\n",
              "[5 rows x 9 columns]"
            ]
          },
          "metadata": {
            "tags": []
          },
          "execution_count": 20
        }
      ]
    },
    {
      "cell_type": "markdown",
      "metadata": {
        "id": "NknTVmUr7g5b"
      },
      "source": [
        "### Aggregation"
      ]
    },
    {
      "cell_type": "code",
      "metadata": {
        "scrolled": true,
        "colab": {
          "base_uri": "https://localhost:8080/",
          "height": 447
        },
        "id": "2TkBtLuN7g5b",
        "outputId": "7016e218-7ca3-4827-f94d-a60f156730e2"
      },
      "source": [
        "product_data = quant_data.groupby('amazon-id').agg({\n",
        "    'unixReviewTime': 'mean',\n",
        "    'price': 'mean',\n",
        "    'overall': 'mean',\n",
        "    'salesRank': 'mean',\n",
        "    'helpful_transformed': 'mean',\n",
        "    'total_songs': 'mean',\n",
        "    'total_copurchase': 'mean'\n",
        "    })\n",
        "product_data['Target'] = np.where(product_data['overall'] >= 4.5, True, False)\n",
        "product_data"
      ],
      "execution_count": 21,
      "outputs": [
        {
          "output_type": "execute_result",
          "data": {
            "text/html": [
              "<div>\n",
              "<style scoped>\n",
              "    .dataframe tbody tr th:only-of-type {\n",
              "        vertical-align: middle;\n",
              "    }\n",
              "\n",
              "    .dataframe tbody tr th {\n",
              "        vertical-align: top;\n",
              "    }\n",
              "\n",
              "    .dataframe thead th {\n",
              "        text-align: right;\n",
              "    }\n",
              "</style>\n",
              "<table border=\"1\" class=\"dataframe\">\n",
              "  <thead>\n",
              "    <tr style=\"text-align: right;\">\n",
              "      <th></th>\n",
              "      <th>unixReviewTime</th>\n",
              "      <th>price</th>\n",
              "      <th>overall</th>\n",
              "      <th>salesRank</th>\n",
              "      <th>helpful_transformed</th>\n",
              "      <th>total_songs</th>\n",
              "      <th>total_copurchase</th>\n",
              "      <th>Target</th>\n",
              "    </tr>\n",
              "    <tr>\n",
              "      <th>amazon-id</th>\n",
              "      <th></th>\n",
              "      <th></th>\n",
              "      <th></th>\n",
              "      <th></th>\n",
              "      <th></th>\n",
              "      <th></th>\n",
              "      <th></th>\n",
              "      <th></th>\n",
              "    </tr>\n",
              "  </thead>\n",
              "  <tbody>\n",
              "    <tr>\n",
              "      <th>-9217723718720870868</th>\n",
              "      <td>1.102771e+09</td>\n",
              "      <td>9.90</td>\n",
              "      <td>4.333333</td>\n",
              "      <td>1310516</td>\n",
              "      <td>0.620370</td>\n",
              "      <td>278</td>\n",
              "      <td>2277</td>\n",
              "      <td>False</td>\n",
              "    </tr>\n",
              "    <tr>\n",
              "      <th>-9215746463819797371</th>\n",
              "      <td>1.256904e+09</td>\n",
              "      <td>48.11</td>\n",
              "      <td>5.000000</td>\n",
              "      <td>309139</td>\n",
              "      <td>1.000000</td>\n",
              "      <td>237</td>\n",
              "      <td>210</td>\n",
              "      <td>True</td>\n",
              "    </tr>\n",
              "    <tr>\n",
              "      <th>-9213978596308513604</th>\n",
              "      <td>1.245283e+09</td>\n",
              "      <td>15.86</td>\n",
              "      <td>3.000000</td>\n",
              "      <td>280309</td>\n",
              "      <td>0.666667</td>\n",
              "      <td>192</td>\n",
              "      <td>422</td>\n",
              "      <td>False</td>\n",
              "    </tr>\n",
              "    <tr>\n",
              "      <th>-9211290576571923870</th>\n",
              "      <td>1.094861e+09</td>\n",
              "      <td>17.37</td>\n",
              "      <td>4.500000</td>\n",
              "      <td>321654</td>\n",
              "      <td>1.000000</td>\n",
              "      <td>536</td>\n",
              "      <td>187</td>\n",
              "      <td>True</td>\n",
              "    </tr>\n",
              "    <tr>\n",
              "      <th>-9208769561690910545</th>\n",
              "      <td>1.035266e+09</td>\n",
              "      <td>12.00</td>\n",
              "      <td>4.250000</td>\n",
              "      <td>17515</td>\n",
              "      <td>0.750000</td>\n",
              "      <td>517</td>\n",
              "      <td>317</td>\n",
              "      <td>False</td>\n",
              "    </tr>\n",
              "    <tr>\n",
              "      <th>...</th>\n",
              "      <td>...</td>\n",
              "      <td>...</td>\n",
              "      <td>...</td>\n",
              "      <td>...</td>\n",
              "      <td>...</td>\n",
              "      <td>...</td>\n",
              "      <td>...</td>\n",
              "      <td>...</td>\n",
              "    </tr>\n",
              "    <tr>\n",
              "      <th>9217670041811029322</th>\n",
              "      <td>1.367064e+09</td>\n",
              "      <td>25.99</td>\n",
              "      <td>4.500000</td>\n",
              "      <td>128980</td>\n",
              "      <td>1.000000</td>\n",
              "      <td>277</td>\n",
              "      <td>250</td>\n",
              "      <td>True</td>\n",
              "    </tr>\n",
              "    <tr>\n",
              "      <th>9218870320655141661</th>\n",
              "      <td>1.219061e+09</td>\n",
              "      <td>8.99</td>\n",
              "      <td>3.500000</td>\n",
              "      <td>1760050</td>\n",
              "      <td>0.500000</td>\n",
              "      <td>213</td>\n",
              "      <td>252</td>\n",
              "      <td>False</td>\n",
              "    </tr>\n",
              "    <tr>\n",
              "      <th>9221578337502519209</th>\n",
              "      <td>1.351181e+09</td>\n",
              "      <td>13.43</td>\n",
              "      <td>5.000000</td>\n",
              "      <td>149220</td>\n",
              "      <td>1.000000</td>\n",
              "      <td>297</td>\n",
              "      <td>802</td>\n",
              "      <td>True</td>\n",
              "    </tr>\n",
              "    <tr>\n",
              "      <th>9221801008952598876</th>\n",
              "      <td>1.156880e+09</td>\n",
              "      <td>16.02</td>\n",
              "      <td>4.363636</td>\n",
              "      <td>271266</td>\n",
              "      <td>0.606061</td>\n",
              "      <td>254</td>\n",
              "      <td>103</td>\n",
              "      <td>False</td>\n",
              "    </tr>\n",
              "    <tr>\n",
              "      <th>9222652928856141170</th>\n",
              "      <td>1.202688e+09</td>\n",
              "      <td>13.26</td>\n",
              "      <td>4.285714</td>\n",
              "      <td>589810</td>\n",
              "      <td>0.770677</td>\n",
              "      <td>298</td>\n",
              "      <td>639</td>\n",
              "      <td>False</td>\n",
              "    </tr>\n",
              "  </tbody>\n",
              "</table>\n",
              "<p>7612 rows × 8 columns</p>\n",
              "</div>"
            ],
            "text/plain": [
              "                      unixReviewTime  price  ...  total_copurchase  Target\n",
              "amazon-id                                    ...                          \n",
              "-9217723718720870868    1.102771e+09   9.90  ...              2277   False\n",
              "-9215746463819797371    1.256904e+09  48.11  ...               210    True\n",
              "-9213978596308513604    1.245283e+09  15.86  ...               422   False\n",
              "-9211290576571923870    1.094861e+09  17.37  ...               187    True\n",
              "-9208769561690910545    1.035266e+09  12.00  ...               317   False\n",
              "...                              ...    ...  ...               ...     ...\n",
              " 9217670041811029322    1.367064e+09  25.99  ...               250    True\n",
              " 9218870320655141661    1.219061e+09   8.99  ...               252   False\n",
              " 9221578337502519209    1.351181e+09  13.43  ...               802    True\n",
              " 9221801008952598876    1.156880e+09  16.02  ...               103   False\n",
              " 9222652928856141170    1.202688e+09  13.26  ...               639   False\n",
              "\n",
              "[7612 rows x 8 columns]"
            ]
          },
          "metadata": {
            "tags": []
          },
          "execution_count": 21
        }
      ]
    },
    {
      "cell_type": "code",
      "metadata": {
        "id": "bLfTWIBUnvlR",
        "scrolled": true
      },
      "source": [
        "# normalization\n",
        "# warning message no problem. ignore\n",
        "for col in product_data.columns[0:len(product_data.columns)-1]: \n",
        "    product_data[col] = normalize_column_data(product_data[col])"
      ],
      "execution_count": 22,
      "outputs": []
    },
    {
      "cell_type": "code",
      "metadata": {
        "colab": {
          "base_uri": "https://localhost:8080/",
          "height": 447
        },
        "id": "Tp9hbqUs7g5b",
        "outputId": "456fd621-4d3f-4e1d-b688-1eaed9c014d3"
      },
      "source": [
        "product_data"
      ],
      "execution_count": 23,
      "outputs": [
        {
          "output_type": "execute_result",
          "data": {
            "text/html": [
              "<div>\n",
              "<style scoped>\n",
              "    .dataframe tbody tr th:only-of-type {\n",
              "        vertical-align: middle;\n",
              "    }\n",
              "\n",
              "    .dataframe tbody tr th {\n",
              "        vertical-align: top;\n",
              "    }\n",
              "\n",
              "    .dataframe thead th {\n",
              "        text-align: right;\n",
              "    }\n",
              "</style>\n",
              "<table border=\"1\" class=\"dataframe\">\n",
              "  <thead>\n",
              "    <tr style=\"text-align: right;\">\n",
              "      <th></th>\n",
              "      <th>unixReviewTime</th>\n",
              "      <th>price</th>\n",
              "      <th>overall</th>\n",
              "      <th>salesRank</th>\n",
              "      <th>helpful_transformed</th>\n",
              "      <th>total_songs</th>\n",
              "      <th>total_copurchase</th>\n",
              "      <th>Target</th>\n",
              "    </tr>\n",
              "    <tr>\n",
              "      <th>amazon-id</th>\n",
              "      <th></th>\n",
              "      <th></th>\n",
              "      <th></th>\n",
              "      <th></th>\n",
              "      <th></th>\n",
              "      <th></th>\n",
              "      <th></th>\n",
              "      <th></th>\n",
              "    </tr>\n",
              "  </thead>\n",
              "  <tbody>\n",
              "    <tr>\n",
              "      <th>-9217723718720870868</th>\n",
              "      <td>0.406076</td>\n",
              "      <td>0.019836</td>\n",
              "      <td>0.833333</td>\n",
              "      <td>0.534109</td>\n",
              "      <td>0.620370</td>\n",
              "      <td>0.511111</td>\n",
              "      <td>0.970130</td>\n",
              "      <td>False</td>\n",
              "    </tr>\n",
              "    <tr>\n",
              "      <th>-9215746463819797371</th>\n",
              "      <td>0.708476</td>\n",
              "      <td>0.098380</td>\n",
              "      <td>1.000000</td>\n",
              "      <td>0.125990</td>\n",
              "      <td>1.000000</td>\n",
              "      <td>0.435185</td>\n",
              "      <td>0.075325</td>\n",
              "      <td>True</td>\n",
              "    </tr>\n",
              "    <tr>\n",
              "      <th>-9213978596308513604</th>\n",
              "      <td>0.685676</td>\n",
              "      <td>0.032088</td>\n",
              "      <td>0.500000</td>\n",
              "      <td>0.114240</td>\n",
              "      <td>0.666667</td>\n",
              "      <td>0.351852</td>\n",
              "      <td>0.167100</td>\n",
              "      <td>False</td>\n",
              "    </tr>\n",
              "    <tr>\n",
              "      <th>-9211290576571923870</th>\n",
              "      <td>0.390556</td>\n",
              "      <td>0.035192</td>\n",
              "      <td>0.875000</td>\n",
              "      <td>0.131090</td>\n",
              "      <td>1.000000</td>\n",
              "      <td>0.988889</td>\n",
              "      <td>0.065368</td>\n",
              "      <td>True</td>\n",
              "    </tr>\n",
              "    <tr>\n",
              "      <th>-9208769561690910545</th>\n",
              "      <td>0.273635</td>\n",
              "      <td>0.024153</td>\n",
              "      <td>0.812500</td>\n",
              "      <td>0.007136</td>\n",
              "      <td>0.750000</td>\n",
              "      <td>0.953704</td>\n",
              "      <td>0.121645</td>\n",
              "      <td>False</td>\n",
              "    </tr>\n",
              "    <tr>\n",
              "      <th>...</th>\n",
              "      <td>...</td>\n",
              "      <td>...</td>\n",
              "      <td>...</td>\n",
              "      <td>...</td>\n",
              "      <td>...</td>\n",
              "      <td>...</td>\n",
              "      <td>...</td>\n",
              "      <td>...</td>\n",
              "    </tr>\n",
              "    <tr>\n",
              "      <th>9217670041811029322</th>\n",
              "      <td>0.924603</td>\n",
              "      <td>0.052911</td>\n",
              "      <td>0.875000</td>\n",
              "      <td>0.052564</td>\n",
              "      <td>1.000000</td>\n",
              "      <td>0.509259</td>\n",
              "      <td>0.092641</td>\n",
              "      <td>True</td>\n",
              "    </tr>\n",
              "    <tr>\n",
              "      <th>9218870320655141661</th>\n",
              "      <td>0.634229</td>\n",
              "      <td>0.017966</td>\n",
              "      <td>0.625000</td>\n",
              "      <td>0.717321</td>\n",
              "      <td>0.500000</td>\n",
              "      <td>0.390741</td>\n",
              "      <td>0.093506</td>\n",
              "      <td>False</td>\n",
              "    </tr>\n",
              "    <tr>\n",
              "      <th>9221578337502519209</th>\n",
              "      <td>0.893441</td>\n",
              "      <td>0.027093</td>\n",
              "      <td>1.000000</td>\n",
              "      <td>0.060813</td>\n",
              "      <td>1.000000</td>\n",
              "      <td>0.546296</td>\n",
              "      <td>0.331602</td>\n",
              "      <td>True</td>\n",
              "    </tr>\n",
              "    <tr>\n",
              "      <th>9221801008952598876</th>\n",
              "      <td>0.512235</td>\n",
              "      <td>0.032417</td>\n",
              "      <td>0.840909</td>\n",
              "      <td>0.110554</td>\n",
              "      <td>0.606061</td>\n",
              "      <td>0.466667</td>\n",
              "      <td>0.029004</td>\n",
              "      <td>False</td>\n",
              "    </tr>\n",
              "    <tr>\n",
              "      <th>9222652928856141170</th>\n",
              "      <td>0.602107</td>\n",
              "      <td>0.026743</td>\n",
              "      <td>0.821429</td>\n",
              "      <td>0.240380</td>\n",
              "      <td>0.770677</td>\n",
              "      <td>0.548148</td>\n",
              "      <td>0.261039</td>\n",
              "      <td>False</td>\n",
              "    </tr>\n",
              "  </tbody>\n",
              "</table>\n",
              "<p>7612 rows × 8 columns</p>\n",
              "</div>"
            ],
            "text/plain": [
              "                      unixReviewTime     price  ...  total_copurchase  Target\n",
              "amazon-id                                       ...                          \n",
              "-9217723718720870868        0.406076  0.019836  ...          0.970130   False\n",
              "-9215746463819797371        0.708476  0.098380  ...          0.075325    True\n",
              "-9213978596308513604        0.685676  0.032088  ...          0.167100   False\n",
              "-9211290576571923870        0.390556  0.035192  ...          0.065368    True\n",
              "-9208769561690910545        0.273635  0.024153  ...          0.121645   False\n",
              "...                              ...       ...  ...               ...     ...\n",
              " 9217670041811029322        0.924603  0.052911  ...          0.092641    True\n",
              " 9218870320655141661        0.634229  0.017966  ...          0.093506   False\n",
              " 9221578337502519209        0.893441  0.027093  ...          0.331602    True\n",
              " 9221801008952598876        0.512235  0.032417  ...          0.029004   False\n",
              " 9222652928856141170        0.602107  0.026743  ...          0.261039   False\n",
              "\n",
              "[7612 rows x 8 columns]"
            ]
          },
          "metadata": {
            "tags": []
          },
          "execution_count": 23
        }
      ]
    },
    {
      "cell_type": "markdown",
      "metadata": {
        "id": "7w59KlWroo40"
      },
      "source": [
        "## Train and Test Models"
      ]
    },
    {
      "cell_type": "code",
      "metadata": {
        "colab": {
          "base_uri": "https://localhost:8080/",
          "height": 447
        },
        "id": "iADmtu0t7g5c",
        "outputId": "ab8ee878-e970-4dee-8ec2-097efce9ddd3"
      },
      "source": [
        "# variable divide for training\n",
        "independent_variable = product_data.iloc[:, :len(product_data.columns)-1]\n",
        "dependent_variable = product_data.iloc[:, -1]\n",
        "independent_variable"
      ],
      "execution_count": 24,
      "outputs": [
        {
          "output_type": "execute_result",
          "data": {
            "text/html": [
              "<div>\n",
              "<style scoped>\n",
              "    .dataframe tbody tr th:only-of-type {\n",
              "        vertical-align: middle;\n",
              "    }\n",
              "\n",
              "    .dataframe tbody tr th {\n",
              "        vertical-align: top;\n",
              "    }\n",
              "\n",
              "    .dataframe thead th {\n",
              "        text-align: right;\n",
              "    }\n",
              "</style>\n",
              "<table border=\"1\" class=\"dataframe\">\n",
              "  <thead>\n",
              "    <tr style=\"text-align: right;\">\n",
              "      <th></th>\n",
              "      <th>unixReviewTime</th>\n",
              "      <th>price</th>\n",
              "      <th>overall</th>\n",
              "      <th>salesRank</th>\n",
              "      <th>helpful_transformed</th>\n",
              "      <th>total_songs</th>\n",
              "      <th>total_copurchase</th>\n",
              "    </tr>\n",
              "    <tr>\n",
              "      <th>amazon-id</th>\n",
              "      <th></th>\n",
              "      <th></th>\n",
              "      <th></th>\n",
              "      <th></th>\n",
              "      <th></th>\n",
              "      <th></th>\n",
              "      <th></th>\n",
              "    </tr>\n",
              "  </thead>\n",
              "  <tbody>\n",
              "    <tr>\n",
              "      <th>-9217723718720870868</th>\n",
              "      <td>0.406076</td>\n",
              "      <td>0.019836</td>\n",
              "      <td>0.833333</td>\n",
              "      <td>0.534109</td>\n",
              "      <td>0.620370</td>\n",
              "      <td>0.511111</td>\n",
              "      <td>0.970130</td>\n",
              "    </tr>\n",
              "    <tr>\n",
              "      <th>-9215746463819797371</th>\n",
              "      <td>0.708476</td>\n",
              "      <td>0.098380</td>\n",
              "      <td>1.000000</td>\n",
              "      <td>0.125990</td>\n",
              "      <td>1.000000</td>\n",
              "      <td>0.435185</td>\n",
              "      <td>0.075325</td>\n",
              "    </tr>\n",
              "    <tr>\n",
              "      <th>-9213978596308513604</th>\n",
              "      <td>0.685676</td>\n",
              "      <td>0.032088</td>\n",
              "      <td>0.500000</td>\n",
              "      <td>0.114240</td>\n",
              "      <td>0.666667</td>\n",
              "      <td>0.351852</td>\n",
              "      <td>0.167100</td>\n",
              "    </tr>\n",
              "    <tr>\n",
              "      <th>-9211290576571923870</th>\n",
              "      <td>0.390556</td>\n",
              "      <td>0.035192</td>\n",
              "      <td>0.875000</td>\n",
              "      <td>0.131090</td>\n",
              "      <td>1.000000</td>\n",
              "      <td>0.988889</td>\n",
              "      <td>0.065368</td>\n",
              "    </tr>\n",
              "    <tr>\n",
              "      <th>-9208769561690910545</th>\n",
              "      <td>0.273635</td>\n",
              "      <td>0.024153</td>\n",
              "      <td>0.812500</td>\n",
              "      <td>0.007136</td>\n",
              "      <td>0.750000</td>\n",
              "      <td>0.953704</td>\n",
              "      <td>0.121645</td>\n",
              "    </tr>\n",
              "    <tr>\n",
              "      <th>...</th>\n",
              "      <td>...</td>\n",
              "      <td>...</td>\n",
              "      <td>...</td>\n",
              "      <td>...</td>\n",
              "      <td>...</td>\n",
              "      <td>...</td>\n",
              "      <td>...</td>\n",
              "    </tr>\n",
              "    <tr>\n",
              "      <th>9217670041811029322</th>\n",
              "      <td>0.924603</td>\n",
              "      <td>0.052911</td>\n",
              "      <td>0.875000</td>\n",
              "      <td>0.052564</td>\n",
              "      <td>1.000000</td>\n",
              "      <td>0.509259</td>\n",
              "      <td>0.092641</td>\n",
              "    </tr>\n",
              "    <tr>\n",
              "      <th>9218870320655141661</th>\n",
              "      <td>0.634229</td>\n",
              "      <td>0.017966</td>\n",
              "      <td>0.625000</td>\n",
              "      <td>0.717321</td>\n",
              "      <td>0.500000</td>\n",
              "      <td>0.390741</td>\n",
              "      <td>0.093506</td>\n",
              "    </tr>\n",
              "    <tr>\n",
              "      <th>9221578337502519209</th>\n",
              "      <td>0.893441</td>\n",
              "      <td>0.027093</td>\n",
              "      <td>1.000000</td>\n",
              "      <td>0.060813</td>\n",
              "      <td>1.000000</td>\n",
              "      <td>0.546296</td>\n",
              "      <td>0.331602</td>\n",
              "    </tr>\n",
              "    <tr>\n",
              "      <th>9221801008952598876</th>\n",
              "      <td>0.512235</td>\n",
              "      <td>0.032417</td>\n",
              "      <td>0.840909</td>\n",
              "      <td>0.110554</td>\n",
              "      <td>0.606061</td>\n",
              "      <td>0.466667</td>\n",
              "      <td>0.029004</td>\n",
              "    </tr>\n",
              "    <tr>\n",
              "      <th>9222652928856141170</th>\n",
              "      <td>0.602107</td>\n",
              "      <td>0.026743</td>\n",
              "      <td>0.821429</td>\n",
              "      <td>0.240380</td>\n",
              "      <td>0.770677</td>\n",
              "      <td>0.548148</td>\n",
              "      <td>0.261039</td>\n",
              "    </tr>\n",
              "  </tbody>\n",
              "</table>\n",
              "<p>7612 rows × 7 columns</p>\n",
              "</div>"
            ],
            "text/plain": [
              "                      unixReviewTime     price  ...  total_songs  total_copurchase\n",
              "amazon-id                                       ...                               \n",
              "-9217723718720870868        0.406076  0.019836  ...     0.511111          0.970130\n",
              "-9215746463819797371        0.708476  0.098380  ...     0.435185          0.075325\n",
              "-9213978596308513604        0.685676  0.032088  ...     0.351852          0.167100\n",
              "-9211290576571923870        0.390556  0.035192  ...     0.988889          0.065368\n",
              "-9208769561690910545        0.273635  0.024153  ...     0.953704          0.121645\n",
              "...                              ...       ...  ...          ...               ...\n",
              " 9217670041811029322        0.924603  0.052911  ...     0.509259          0.092641\n",
              " 9218870320655141661        0.634229  0.017966  ...     0.390741          0.093506\n",
              " 9221578337502519209        0.893441  0.027093  ...     0.546296          0.331602\n",
              " 9221801008952598876        0.512235  0.032417  ...     0.466667          0.029004\n",
              " 9222652928856141170        0.602107  0.026743  ...     0.548148          0.261039\n",
              "\n",
              "[7612 rows x 7 columns]"
            ]
          },
          "metadata": {
            "tags": []
          },
          "execution_count": 24
        }
      ]
    },
    {
      "cell_type": "markdown",
      "metadata": {
        "id": "sTbAL6DR7g5c"
      },
      "source": [
        "### data split by basic split portion"
      ]
    },
    {
      "cell_type": "code",
      "metadata": {
        "id": "YTkNkIaqol9A"
      },
      "source": [
        "# train and test data split\n",
        "X_train, X_test, y_train, y_test = sklearn.model_selection.train_test_split(independent_variable, dependent_variable, test_size=0.3, shuffle=True)"
      ],
      "execution_count": 25,
      "outputs": []
    },
    {
      "cell_type": "code",
      "metadata": {
        "colab": {
          "base_uri": "https://localhost:8080/"
        },
        "id": "Y1jxm7_cotFy",
        "outputId": "4aaa0a3e-727b-4cb3-960f-4905d0c38039"
      },
      "source": [
        "# GNB\n",
        "print(\"Trying gaussian naive bayes\")\n",
        "gnb_clf = sklearn.naive_bayes.GaussianNB()\n",
        "gnb_clf.fit(X_train, y_train)\n",
        "y_pred = gnb_clf.predict(X_test)\n",
        "\n",
        "print(\"F1 score: {}\".format(sklearn.metrics.f1_score(y_test, y_pred)))\n",
        "print(\"accuracy score: {}\".format(sklearn.metrics.accuracy_score(y_test, y_pred)))\n",
        "print(confusion_matrix(y_test,y_pred))\n",
        "print(classification_report(y_test,y_pred))"
      ],
      "execution_count": 26,
      "outputs": [
        {
          "output_type": "stream",
          "text": [
            "Trying gaussian naive bayes\n",
            "F1 score: 0.9735764793449945\n",
            "accuracy score: 0.9689141856392294\n",
            "[[ 905    3]\n",
            " [  68 1308]]\n",
            "              precision    recall  f1-score   support\n",
            "\n",
            "       False       0.93      1.00      0.96       908\n",
            "        True       1.00      0.95      0.97      1376\n",
            "\n",
            "    accuracy                           0.97      2284\n",
            "   macro avg       0.96      0.97      0.97      2284\n",
            "weighted avg       0.97      0.97      0.97      2284\n",
            "\n"
          ],
          "name": "stdout"
        }
      ]
    },
    {
      "cell_type": "code",
      "metadata": {
        "colab": {
          "base_uri": "https://localhost:8080/"
        },
        "id": "qmYG0xmoovxy",
        "outputId": "f0e67e05-bbd0-4147-8ff9-81b28c2de602"
      },
      "source": [
        "# Decision tree\n",
        "print(\"Trying a decision tree\")\n",
        "clf = sklearn.tree.DecisionTreeClassifier(max_depth=4)\n",
        "y_pred = clf.fit(X_train, y_train).predict(X_test)\n",
        "print(\"F1 score: {}\".format(sklearn.metrics.f1_score(y_test, y_pred)))                                                                                                                                                                                                                                                                                                                                                                                                                                                                                                                                                                                        \n",
        "print(\"accuracy score: {}\".format(sklearn.metrics.accuracy_score(y_test, y_pred)))\n",
        "print(confusion_matrix(y_test,y_pred))\n",
        "print(classification_report(y_test,y_pred))"
      ],
      "execution_count": 27,
      "outputs": [
        {
          "output_type": "stream",
          "text": [
            "Trying a decision tree\n",
            "F1 score: 1.0\n",
            "accuracy score: 1.0\n",
            "[[ 908    0]\n",
            " [   0 1376]]\n",
            "              precision    recall  f1-score   support\n",
            "\n",
            "       False       1.00      1.00      1.00       908\n",
            "        True       1.00      1.00      1.00      1376\n",
            "\n",
            "    accuracy                           1.00      2284\n",
            "   macro avg       1.00      1.00      1.00      2284\n",
            "weighted avg       1.00      1.00      1.00      2284\n",
            "\n"
          ],
          "name": "stdout"
        }
      ]
    },
    {
      "cell_type": "code",
      "metadata": {
        "colab": {
          "base_uri": "https://localhost:8080/"
        },
        "id": "Orlp0iy0JtbA",
        "outputId": "6b960f5b-f451-406d-f99d-5f985f9f7e2d"
      },
      "source": [
        "# stochastic\n",
        "print(\"Trying SGD model\")\n",
        "SGD_clf = sklearn.linear_model.SGDClassifier(max_iter=1000, random_state=42)\n",
        "y_pred = SGD_clf.fit(X_train, y_train).predict(X_test)\n",
        "#SGD_clf.score(X_test, y_test)\n",
        "print(\"F1 score: {}\".format(sklearn.metrics.f1_score(y_test, y_pred)))                                                                                                                                                                                                                                                                                                                                                                                                                                                                                                                                                                                         \n",
        "print(\"accuracy score: {}\".format(sklearn.metrics.accuracy_score(y_test, y_pred)))\n",
        "print(confusion_matrix(y_test,y_pred))\n",
        "print(classification_report(y_test,y_pred))"
      ],
      "execution_count": 28,
      "outputs": [
        {
          "output_type": "stream",
          "text": [
            "Trying SGD model\n",
            "F1 score: 0.9934876989869754\n",
            "accuracy score: 0.9921190893169878\n",
            "[[ 893   15]\n",
            " [   3 1373]]\n",
            "              precision    recall  f1-score   support\n",
            "\n",
            "       False       1.00      0.98      0.99       908\n",
            "        True       0.99      1.00      0.99      1376\n",
            "\n",
            "    accuracy                           0.99      2284\n",
            "   macro avg       0.99      0.99      0.99      2284\n",
            "weighted avg       0.99      0.99      0.99      2284\n",
            "\n"
          ],
          "name": "stdout"
        }
      ]
    },
    {
      "cell_type": "code",
      "metadata": {
        "colab": {
          "base_uri": "https://localhost:8080/"
        },
        "id": "fBCCE85-oxWD",
        "outputId": "e505c93c-dbff-495a-e7d7-3472d27f072a"
      },
      "source": [
        "print(\"Trying Support Vector Machine with linear\")\n",
        "svm_clf = SVC(kernel=\"linear\", C=1)\n",
        "y_pred = svm_clf.fit(X_train, y_train).predict(X_test)\n",
        "print(\"F1 score: {}\".format(sklearn.metrics.f1_score(y_test, y_pred)))                                                                                                                                                                                                                                                                                                                                                                                                                                                                                                                                                                                         \n",
        "print(\"accuracy score: {}\".format(sklearn.metrics.accuracy_score(y_test, y_pred)))\n",
        "print(confusion_matrix(y_test,y_pred))\n",
        "print(classification_report(y_test,y_pred))"
      ],
      "execution_count": 29,
      "outputs": [
        {
          "output_type": "stream",
          "text": [
            "Trying Support Vector Machine with linear\n",
            "F1 score: 0.9863701578192252\n",
            "accuracy score: 0.9833625218914186\n",
            "[[ 871   37]\n",
            " [   1 1375]]\n",
            "              precision    recall  f1-score   support\n",
            "\n",
            "       False       1.00      0.96      0.98       908\n",
            "        True       0.97      1.00      0.99      1376\n",
            "\n",
            "    accuracy                           0.98      2284\n",
            "   macro avg       0.99      0.98      0.98      2284\n",
            "weighted avg       0.98      0.98      0.98      2284\n",
            "\n"
          ],
          "name": "stdout"
        }
      ]
    },
    {
      "cell_type": "code",
      "metadata": {
        "colab": {
          "base_uri": "https://localhost:8080/"
        },
        "id": "TD1SGCvTo0wP",
        "outputId": "68532c43-6194-4fc0-c9cf-4a96781f5e65"
      },
      "source": [
        "print(\"Trying Support Vector Machine with poly\")\n",
        "svc_poly_clf = SVC(kernel='poly', degree=2)\n",
        "y_pred = svc_poly_clf.fit(X_train, y_train).predict(X_test)\n",
        "print(\"F1 score: {}\".format(sklearn.metrics.f1_score(y_test, y_pred)))                                                                                                                                                                                                                                                                                                                                                                                                                                                                                                                                                                                         \n",
        "print(\"accuracy score: {}\".format(sklearn.metrics.accuracy_score(y_test, y_pred)))\n",
        "print(confusion_matrix(y_test,y_pred))\n",
        "print(classification_report(y_test,y_pred))"
      ],
      "execution_count": 30,
      "outputs": [
        {
          "output_type": "stream",
          "text": [
            "Trying Support Vector Machine with poly\n",
            "F1 score: 0.9884225759768452\n",
            "accuracy score: 0.9859894921190894\n",
            "[[ 886   22]\n",
            " [  10 1366]]\n",
            "              precision    recall  f1-score   support\n",
            "\n",
            "       False       0.99      0.98      0.98       908\n",
            "        True       0.98      0.99      0.99      1376\n",
            "\n",
            "    accuracy                           0.99      2284\n",
            "   macro avg       0.99      0.98      0.99      2284\n",
            "weighted avg       0.99      0.99      0.99      2284\n",
            "\n"
          ],
          "name": "stdout"
        }
      ]
    },
    {
      "cell_type": "code",
      "metadata": {
        "colab": {
          "base_uri": "https://localhost:8080/"
        },
        "id": "RjeSfHvqYYNe",
        "outputId": "c1aed0cd-074c-4964-b7f5-05daf39584e8"
      },
      "source": [
        "print(\"Trying Support Vector Machine with RBF\")\n",
        "svc_rbf_clf = SVC(kernel='rbf')\n",
        "y_pred = svc_rbf_clf.fit(X_train, y_train).predict(X_test)\n",
        "print(\"F1 score: {}\".format(sklearn.metrics.f1_score(y_test, y_pred)))                                                                                                                                                                                                                                                                                                                                                                                                                                                                                                                                                                                         \n",
        "print(\"accuracy score: {}\".format(sklearn.metrics.accuracy_score(y_test, y_pred)))\n",
        "print(confusion_matrix(y_test,y_pred))\n",
        "print(classification_report(y_test,y_pred))"
      ],
      "execution_count": 31,
      "outputs": [
        {
          "output_type": "stream",
          "text": [
            "Trying Support Vector Machine with RBF\n",
            "F1 score: 0.9860265137943389\n",
            "accuracy score: 0.9829246935201401\n",
            "[[ 869   39]\n",
            " [   0 1376]]\n",
            "              precision    recall  f1-score   support\n",
            "\n",
            "       False       1.00      0.96      0.98       908\n",
            "        True       0.97      1.00      0.99      1376\n",
            "\n",
            "    accuracy                           0.98      2284\n",
            "   macro avg       0.99      0.98      0.98      2284\n",
            "weighted avg       0.98      0.98      0.98      2284\n",
            "\n"
          ],
          "name": "stdout"
        }
      ]
    },
    {
      "cell_type": "code",
      "metadata": {
        "colab": {
          "base_uri": "https://localhost:8080/"
        },
        "id": "QtgeT6tmYer1",
        "outputId": "9abc9abd-6962-43c0-85af-5e31dd7137a2"
      },
      "source": [
        "print(\"Trying Support Vector Machine with sigmoid\")\n",
        "svc_sig_clf = SVC(kernel='sigmoid')\n",
        "y_pred = svc_sig_clf.fit(X_train, y_train).predict(X_test)\n",
        "print(\"F1 score: {}\".format(sklearn.metrics.f1_score(y_test, y_pred)))                                                                                                                                                                                                                                                                                                                                                                                                                                                                                                                                                                                         \n",
        "print(\"accuracy score: {}\".format(sklearn.metrics.accuracy_score(y_test, y_pred)))\n",
        "print(confusion_matrix(y_test,y_pred))\n",
        "print(classification_report(y_test,y_pred))"
      ],
      "execution_count": 32,
      "outputs": [
        {
          "output_type": "stream",
          "text": [
            "Trying Support Vector Machine with sigmoid\n",
            "F1 score: 0.49395017793594304\n",
            "accuracy score: 0.37740805604203154\n",
            "[[168 740]\n",
            " [682 694]]\n",
            "              precision    recall  f1-score   support\n",
            "\n",
            "       False       0.20      0.19      0.19       908\n",
            "        True       0.48      0.50      0.49      1376\n",
            "\n",
            "    accuracy                           0.38      2284\n",
            "   macro avg       0.34      0.34      0.34      2284\n",
            "weighted avg       0.37      0.38      0.37      2284\n",
            "\n"
          ],
          "name": "stdout"
        }
      ]
    },
    {
      "cell_type": "markdown",
      "metadata": {
        "id": "BJ-LrBcIYvoz"
      },
      "source": [
        "### data split by Kfold"
      ]
    },
    {
      "cell_type": "code",
      "metadata": {
        "id": "c1_KRgEg7g5f"
      },
      "source": [
        "# Classifiers\n",
        "# GNB\n",
        "gnb_clf = sklearn.naive_bayes.GaussianNB()\n",
        "# Decision Tree\n",
        "tree_clf = sklearn.tree.DecisionTreeClassifier(max_depth=4)\n",
        "# SGD\n",
        "SGD_clf = sklearn.linear_model.SGDClassifier(max_iter=1000, random_state=42)\n",
        "# SVM linear\n",
        "svm_clf = SVC(kernel=\"linear\", C=1)\n",
        "# SVM poly\n",
        "svm_poly_clf = SVC(kernel='poly', degree=2)\n",
        "# SVM rbf\n",
        "svm_rbf_clf = SVC(kernel='rbf')\n",
        "# SVM sigmoid\n",
        "svm_sig_clf = SVC(kernel='sigmoid')\n",
        "\n",
        "classifiers = [gnb_clf, tree_clf, SGD_clf, svm_clf, svm_poly_clf, svm_rbf_clf, svm_sig_clf]\n",
        "name = [\"Gaussian Naive\", \"Decision Tree\", \"SGD\", \"Support Vector Machine - linear\",\n",
        "        \"Support Vector Machine - poly\", \"Support Vector Machine - RDF\", \"Support Vector Machine - Sigmoid\"]"
      ],
      "execution_count": 33,
      "outputs": []
    },
    {
      "cell_type": "code",
      "metadata": {
        "colab": {
          "base_uri": "https://localhost:8080/"
        },
        "id": "gxAoFQo07g5f",
        "outputId": "e0195da9-81fa-40df-fc18-d08210fe79b0"
      },
      "source": [
        "from sklearn import model_selection\n",
        "\n",
        "for index, model in enumerate(classifiers):    \n",
        "\n",
        "    kfold = model_selection.KFold(n_splits=5, shuffle=True, random_state=42)\n",
        "    cv_results_acc = model_selection.cross_val_score(model, independent_variable, dependent_variable, cv=kfold, scoring='accuracy')\n",
        "    cv_results_f1 = model_selection.cross_val_score(model, independent_variable, dependent_variable, cv=kfold, scoring='f1')\n",
        "        \n",
        "    print(\"============================================\")\n",
        "    print(\"model name: {}\".format(name[index]))\n",
        "    print(\"F1 score: {}\".format(cv_results_f1))                                                                                                                                                                                                                                                                                                                                                                                                                                                                                                                                                                                         \n",
        "    print(\"accuracy score: {}\".format(cv_results_acc))\n",
        "    #print(confusion_matrix(y_test,y_pred))\n",
        "    #print(classification_report(y_test,y_pred))"
      ],
      "execution_count": 34,
      "outputs": [
        {
          "output_type": "stream",
          "text": [
            "============================================\n",
            "model name: Gaussian Naive\n",
            "F1 score: [0.98292011 0.98183819 0.97723487 0.98402204 0.97560976]\n",
            "accuracy score: [0.97964544 0.97833224 0.97306176 0.98094612 0.97109067]\n",
            "============================================\n",
            "model name: Decision Tree\n",
            "F1 score: [1.         1.         1.         0.99945741 1.        ]\n",
            "accuracy score: [1.         1.         1.         0.99934297 1.        ]\n",
            "============================================\n",
            "model name: SGD\n",
            "F1 score: [0.99181669 0.99299946 0.99124726 0.97094972 0.99403794]\n",
            "accuracy score: [0.99015102 0.99146422 0.98948752 0.96583443 0.99277267]\n",
            "============================================\n",
            "model name: Support Vector Machine - linear\n",
            "F1 score: [0.98660953 0.98713826 0.98656636 0.98341359 0.98818475]\n",
            "accuracy score: [0.98358503 0.98424163 0.98357424 0.97963206 0.98554534]\n",
            "============================================\n",
            "model name: Support Vector Machine - poly\n",
            "F1 score: [0.99243243 0.99295393 0.9924406  0.98920086 0.99459459]\n",
            "accuracy score: [0.99080762 0.99146422 0.99080158 0.9868594  0.9934297 ]\n",
            "============================================\n",
            "model name: Support Vector Machine - RDF\n",
            "F1 score: [0.99033298 0.98979044 0.98923574 0.98608137 0.98977945]\n",
            "accuracy score: [0.98818122 0.98752462 0.9868594  0.98291721 0.98751643]\n",
            "============================================\n",
            "model name: Support Vector Machine - Sigmoid\n",
            "F1 score: [0.4941302  0.4811784  0.50080602 0.48160173 0.47417074]\n",
            "accuracy score: [0.37754432 0.37557452 0.38961892 0.37056505 0.36465177]\n"
          ],
          "name": "stdout"
        }
      ]
    },
    {
      "cell_type": "code",
      "metadata": {
        "id": "xpbfhM0r7g5f"
      },
      "source": [
        ""
      ],
      "execution_count": 34,
      "outputs": []
    }
  ]
}