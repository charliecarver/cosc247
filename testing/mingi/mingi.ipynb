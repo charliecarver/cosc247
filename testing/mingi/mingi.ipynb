{
  "nbformat": 4,
  "nbformat_minor": 0,
  "metadata": {
    "colab": {
      "name": "Mingi.ipynb",
      "provenance": []
    },
    "kernelspec": {
      "name": "python3",
      "display_name": "Python 3"
    }
  },
  "cells": [
    {
      "cell_type": "markdown",
      "metadata": {
        "id": "3RURteE_ka9c"
      },
      "source": [
        "## Goal of the project Binary Classification\r\n",
        "\r\n",
        "* only use Binary Classification Problems.\r\n",
        "* Recall that we are using amazon review data to predict album ratings. More specifically, we want to see if a product review is over or under a certain threshold. For this problem, we say that an album is \"awesome\" if its average rating is over 4.5 (not inclusive). Otherwise, the product is \"not awesome\". The data is not given to us with a binary 1(over)/0(under) column.\r\n",
        "Many products in the training file will have more than one review. \r\n",
        "* Thus, we need to find the average overall score for a product.\r\n",
        "Groupby aggregates columns with the same values for you to then perform an operation on the aggregated columns."
      ]
    },
    {
      "cell_type": "code",
      "metadata": {
        "id": "MKwAtfoUlFrm"
      },
      "source": [
        "# Load dataset from Github\r\n",
        "import requests, zipfile, io\r\n",
        "r = requests.get('https://github.com/charliecarver/cosc247/blob/master/datasets.zip?raw=true') \r\n",
        "z = zipfile.ZipFile(io.BytesIO(r.content))\r\n",
        "z.extractall()\r\n",
        "testPath = 'Test.csv'\r\n",
        "trainPath = 'Train.csv'"
      ],
      "execution_count": null,
      "outputs": []
    },
    {
      "cell_type": "code",
      "metadata": {
        "id": "YMTQcR8wk4zf"
      },
      "source": [
        "# import of libraries\r\n",
        "import pandas as pd\r\n",
        "import numpy as np\r\n",
        "import matplotlib.pyplot as plt\r\n",
        "from ast import literal_eval\r\n",
        "from sklearn.preprocessing import OneHotEncoder\r\n",
        "from sklearn import preprocessing\r\n",
        "from sklearn import datasets\r\n",
        "from sklearn.pipeline import Pipeline\r\n",
        "from sklearn.svm import SVC\r\n",
        "import sklearn.model_selection\r\n",
        "import sklearn.metrics\r\n",
        "import sklearn.naive_bayes\r\n",
        "import sklearn.tree\r\n",
        "import sklearn.linear_model\r\n",
        "from sklearn.metrics import classification_report, confusion_matrix\r\n"
      ],
      "execution_count": null,
      "outputs": []
    },
    {
      "cell_type": "markdown",
      "metadata": {
        "id": "CdyPebx7mQdn"
      },
      "source": [
        "## Data load"
      ]
    },
    {
      "cell_type": "code",
      "metadata": {
        "colab": {
          "base_uri": "https://localhost:8080/"
        },
        "id": "oYnXCv93k5eg",
        "outputId": "97ff7d42-0a94-4263-c510-b93392584b9c"
      },
      "source": [
        "# load data and see what data type has\r\n",
        "df = pd.read_csv(trainPath)\r\n",
        "backup_df = df.copy()\r\n",
        "df.dtypes"
      ],
      "execution_count": null,
      "outputs": [
        {
          "output_type": "execute_result",
          "data": {
            "text/plain": [
              "reviewerID              int64\n",
              "amazon-id               int64\n",
              "helpful                object\n",
              "unixReviewTime          int64\n",
              "reviewText             object\n",
              "overall                 int64\n",
              "reviewTime             object\n",
              "summary                object\n",
              "price                 float64\n",
              "categories             object\n",
              "root-genre             object\n",
              "title                   int64\n",
              "artist                  int64\n",
              "label                  object\n",
              "first-release-year    float64\n",
              "songs                  object\n",
              "salesRank               int64\n",
              "related                object\n",
              "dtype: object"
            ]
          },
          "metadata": {
            "tags": []
          },
          "execution_count": 27
        }
      ]
    },
    {
      "cell_type": "code",
      "metadata": {
        "colab": {
          "base_uri": "https://localhost:8080/"
        },
        "id": "6y3eTtU4lzfG",
        "outputId": "8ae850ac-c9dc-4097-850a-783818881e36"
      },
      "source": [
        "df.info()"
      ],
      "execution_count": null,
      "outputs": [
        {
          "output_type": "stream",
          "text": [
            "<class 'pandas.core.frame.DataFrame'>\n",
            "RangeIndex: 111098 entries, 0 to 111097\n",
            "Data columns (total 18 columns):\n",
            " #   Column              Non-Null Count   Dtype  \n",
            "---  ------              --------------   -----  \n",
            " 0   reviewerID          111098 non-null  int64  \n",
            " 1   amazon-id           111098 non-null  int64  \n",
            " 2   helpful             111098 non-null  object \n",
            " 3   unixReviewTime      111098 non-null  int64  \n",
            " 4   reviewText          111093 non-null  object \n",
            " 5   overall             111098 non-null  int64  \n",
            " 6   reviewTime          111098 non-null  object \n",
            " 7   summary             111094 non-null  object \n",
            " 8   price               111098 non-null  float64\n",
            " 9   categories          111098 non-null  object \n",
            " 10  root-genre          111098 non-null  object \n",
            " 11  title               111098 non-null  int64  \n",
            " 12  artist              111098 non-null  int64  \n",
            " 13  label               111062 non-null  object \n",
            " 14  first-release-year  99826 non-null   float64\n",
            " 15  songs               111098 non-null  object \n",
            " 16  salesRank           111098 non-null  int64  \n",
            " 17  related             111098 non-null  object \n",
            "dtypes: float64(2), int64(7), object(9)\n",
            "memory usage: 15.3+ MB\n"
          ],
          "name": "stdout"
        }
      ]
    },
    {
      "cell_type": "code",
      "metadata": {
        "id": "2i3adRoMlb4g"
      },
      "source": [
        "# helpful feature mapped into float number by transforming the fraction\r\n",
        "# this changes denominator 0 case into NaN\r\n",
        "df['helpful_transformed'] = df['helpful'].apply(lambda x: np.nan if literal_eval(x)[1]== 0 else literal_eval(x)[0]/literal_eval(x)[1])"
      ],
      "execution_count": null,
      "outputs": []
    },
    {
      "cell_type": "code",
      "metadata": {
        "colab": {
          "base_uri": "https://localhost:8080/"
        },
        "id": "vDRvR3vBluJc",
        "outputId": "1dcfb0cf-d487-44ca-81d1-7336bae8b93f"
      },
      "source": [
        "# before root-genre encoding\r\n",
        "df['root-genre'].value_counts()"
      ],
      "execution_count": null,
      "outputs": [
        {
          "output_type": "execute_result",
          "data": {
            "text/plain": [
              "Pop                   47313\n",
              "Rock                  21874\n",
              "Classical              6879\n",
              "Latin Music            6867\n",
              "Country                4454\n",
              "Jazz                   4021\n",
              "Dance & Electronic     4020\n",
              "Alternative Rock       2797\n",
              "New Age                2693\n",
              "Rap & Hip-Hop          2423\n",
              "Folk                   2260\n",
              "Metal                  2258\n",
              "R&B                    1709\n",
              "Blues                   630\n",
              "Gospel                  600\n",
              "Reggae                  300\n",
              "Name: root-genre, dtype: int64"
            ]
          },
          "metadata": {
            "tags": []
          },
          "execution_count": 8
        }
      ]
    },
    {
      "cell_type": "markdown",
      "metadata": {
        "id": "9IdHId_wmKDj"
      },
      "source": [
        "## Data distribution found"
      ]
    },
    {
      "cell_type": "code",
      "metadata": {
        "colab": {
          "base_uri": "https://localhost:8080/",
          "height": 1000
        },
        "id": "p2ouaFDzl37U",
        "outputId": "7f2bb525-5f7a-4f5b-d16f-049a040f09ac"
      },
      "source": [
        "# histogram\r\n",
        "df.hist(bins=50,figsize=(20,15))"
      ],
      "execution_count": null,
      "outputs": [
        {
          "output_type": "execute_result",
          "data": {
            "text/plain": [
              "array([[<matplotlib.axes._subplots.AxesSubplot object at 0x7f36263e9b00>,\n",
              "        <matplotlib.axes._subplots.AxesSubplot object at 0x7f3626308d68>,\n",
              "        <matplotlib.axes._subplots.AxesSubplot object at 0x7f3626391fd0>],\n",
              "       [<matplotlib.axes._subplots.AxesSubplot object at 0x7f3626370278>,\n",
              "        <matplotlib.axes._subplots.AxesSubplot object at 0x7f36262e44e0>,\n",
              "        <matplotlib.axes._subplots.AxesSubplot object at 0x7f3626296748>],\n",
              "       [<matplotlib.axes._subplots.AxesSubplot object at 0x7f362624b9b0>,\n",
              "        <matplotlib.axes._subplots.AxesSubplot object at 0x7f362627fbe0>,\n",
              "        <matplotlib.axes._subplots.AxesSubplot object at 0x7f362627fc50>],\n",
              "       [<matplotlib.axes._subplots.AxesSubplot object at 0x7f36261f2128>,\n",
              "        <matplotlib.axes._subplots.AxesSubplot object at 0x7f36261a5390>,\n",
              "        <matplotlib.axes._subplots.AxesSubplot object at 0x7f362615a5f8>]],\n",
              "      dtype=object)"
            ]
          },
          "metadata": {
            "tags": []
          },
          "execution_count": 9
        },
        {
          "output_type": "display_data",
          "data": {
            "image/png": "[encoded data removed]",
            "text/plain": [
              "<Figure size 1440x1080 with 12 Axes>"
            ]
          },
          "metadata": {
            "tags": [],
            "needs_background": "light"
          }
        }
      ]
    },
    {
      "cell_type": "code",
      "metadata": {
        "colab": {
          "base_uri": "https://localhost:8080/"
        },
        "id": "O5M4iQnTmc_N",
        "outputId": "effea4dd-e1e7-4bb9-dedb-ff090fe10e9f"
      },
      "source": [
        "# Pearson correlation for overall and other (entire)\r\n",
        "corr_matrix = df.corr()\r\n",
        "corr_matrix['overall'].sort_values(ascending=False)"
      ],
      "execution_count": null,
      "outputs": [
        {
          "output_type": "execute_result",
          "data": {
            "text/plain": [
              "overall                1.000000\n",
              "helpful_transformed    0.334707\n",
              "unixReviewTime         0.049034\n",
              "amazon-id              0.014093\n",
              "title                  0.009592\n",
              "reviewerID             0.003343\n",
              "price                 -0.013251\n",
              "salesRank             -0.014595\n",
              "first-release-year    -0.019243\n",
              "artist                -0.026578\n",
              "Name: overall, dtype: float64"
            ]
          },
          "metadata": {
            "tags": []
          },
          "execution_count": 10
        }
      ]
    },
    {
      "cell_type": "markdown",
      "metadata": {
        "id": "YmC_b2hKmqiK"
      },
      "source": [
        "## Data pre-processing"
      ]
    },
    {
      "cell_type": "markdown",
      "metadata": {
        "id": "qgV40ZQamvyR"
      },
      "source": [
        "### one hot encoding"
      ]
    },
    {
      "cell_type": "code",
      "metadata": {
        "colab": {
          "base_uri": "https://localhost:8080/"
        },
        "id": "YYBZ8dwwmlWs",
        "outputId": "89284e26-584a-4def-db3f-407229592350"
      },
      "source": [
        "# One hot encoding\r\n",
        "# haven't done for processing with this in the algorithm yet\r\n",
        "df['root-genre'] = df['root-genre'].astype('category')\r\n",
        "root_genre_cat = df['root-genre']\r\n",
        "root_genre_cat_encoded, root_genre_categories = root_genre_cat.factorize()\r\n",
        "encoder = OneHotEncoder(categories='auto')\r\n",
        "root_genre_cat_1hot = encoder.fit_transform(root_genre_cat_encoded.reshape(-1,1))\r\n",
        "root_genre_cat_1hot.toarray()"
      ],
      "execution_count": null,
      "outputs": [
        {
          "output_type": "execute_result",
          "data": {
            "text/plain": [
              "array([[1., 0., 0., ..., 0., 0., 0.],\n",
              "       [1., 0., 0., ..., 0., 0., 0.],\n",
              "       [1., 0., 0., ..., 0., 0., 0.],\n",
              "       ...,\n",
              "       [0., 0., 0., ..., 0., 0., 0.],\n",
              "       [0., 0., 0., ..., 0., 0., 0.],\n",
              "       [0., 0., 0., ..., 0., 0., 0.]])"
            ]
          },
          "metadata": {
            "tags": []
          },
          "execution_count": 11
        }
      ]
    },
    {
      "cell_type": "code",
      "metadata": {
        "colab": {
          "base_uri": "https://localhost:8080/",
          "height": 417
        },
        "id": "zCzgBuoNnQOq",
        "outputId": "2d91f954-73bf-40e0-a8f8-23d8df478d5e"
      },
      "source": [
        "genre_dummies = pd.get_dummies(df['root-genre'])\r\n",
        "genre_dummies"
      ],
      "execution_count": null,
      "outputs": [
        {
          "output_type": "execute_result",
          "data": {
            "text/html": [
              "<div>\n",
              "<style scoped>\n",
              "    .dataframe tbody tr th:only-of-type {\n",
              "        vertical-align: middle;\n",
              "    }\n",
              "\n",
              "    .dataframe tbody tr th {\n",
              "        vertical-align: top;\n",
              "    }\n",
              "\n",
              "    .dataframe thead th {\n",
              "        text-align: right;\n",
              "    }\n",
              "</style>\n",
              "<table border=\"1\" class=\"dataframe\">\n",
              "  <thead>\n",
              "    <tr style=\"text-align: right;\">\n",
              "      <th></th>\n",
              "      <th>Alternative Rock</th>\n",
              "      <th>Blues</th>\n",
              "      <th>Classical</th>\n",
              "      <th>Country</th>\n",
              "      <th>Dance &amp; Electronic</th>\n",
              "      <th>Folk</th>\n",
              "      <th>Gospel</th>\n",
              "      <th>Jazz</th>\n",
              "      <th>Latin Music</th>\n",
              "      <th>Metal</th>\n",
              "      <th>New Age</th>\n",
              "      <th>Pop</th>\n",
              "      <th>R&amp;B</th>\n",
              "      <th>Rap &amp; Hip-Hop</th>\n",
              "      <th>Reggae</th>\n",
              "      <th>Rock</th>\n",
              "    </tr>\n",
              "  </thead>\n",
              "  <tbody>\n",
              "    <tr>\n",
              "      <th>0</th>\n",
              "      <td>0</td>\n",
              "      <td>0</td>\n",
              "      <td>0</td>\n",
              "      <td>0</td>\n",
              "      <td>0</td>\n",
              "      <td>0</td>\n",
              "      <td>0</td>\n",
              "      <td>0</td>\n",
              "      <td>0</td>\n",
              "      <td>0</td>\n",
              "      <td>1</td>\n",
              "      <td>0</td>\n",
              "      <td>0</td>\n",
              "      <td>0</td>\n",
              "      <td>0</td>\n",
              "      <td>0</td>\n",
              "    </tr>\n",
              "    <tr>\n",
              "      <th>1</th>\n",
              "      <td>0</td>\n",
              "      <td>0</td>\n",
              "      <td>0</td>\n",
              "      <td>0</td>\n",
              "      <td>0</td>\n",
              "      <td>0</td>\n",
              "      <td>0</td>\n",
              "      <td>0</td>\n",
              "      <td>0</td>\n",
              "      <td>0</td>\n",
              "      <td>1</td>\n",
              "      <td>0</td>\n",
              "      <td>0</td>\n",
              "      <td>0</td>\n",
              "      <td>0</td>\n",
              "      <td>0</td>\n",
              "    </tr>\n",
              "    <tr>\n",
              "      <th>2</th>\n",
              "      <td>0</td>\n",
              "      <td>0</td>\n",
              "      <td>0</td>\n",
              "      <td>0</td>\n",
              "      <td>0</td>\n",
              "      <td>0</td>\n",
              "      <td>0</td>\n",
              "      <td>0</td>\n",
              "      <td>0</td>\n",
              "      <td>0</td>\n",
              "      <td>1</td>\n",
              "      <td>0</td>\n",
              "      <td>0</td>\n",
              "      <td>0</td>\n",
              "      <td>0</td>\n",
              "      <td>0</td>\n",
              "    </tr>\n",
              "    <tr>\n",
              "      <th>3</th>\n",
              "      <td>0</td>\n",
              "      <td>0</td>\n",
              "      <td>0</td>\n",
              "      <td>0</td>\n",
              "      <td>0</td>\n",
              "      <td>0</td>\n",
              "      <td>0</td>\n",
              "      <td>0</td>\n",
              "      <td>0</td>\n",
              "      <td>0</td>\n",
              "      <td>1</td>\n",
              "      <td>0</td>\n",
              "      <td>0</td>\n",
              "      <td>0</td>\n",
              "      <td>0</td>\n",
              "      <td>0</td>\n",
              "    </tr>\n",
              "    <tr>\n",
              "      <th>4</th>\n",
              "      <td>0</td>\n",
              "      <td>0</td>\n",
              "      <td>0</td>\n",
              "      <td>0</td>\n",
              "      <td>0</td>\n",
              "      <td>0</td>\n",
              "      <td>0</td>\n",
              "      <td>0</td>\n",
              "      <td>0</td>\n",
              "      <td>0</td>\n",
              "      <td>1</td>\n",
              "      <td>0</td>\n",
              "      <td>0</td>\n",
              "      <td>0</td>\n",
              "      <td>0</td>\n",
              "      <td>0</td>\n",
              "    </tr>\n",
              "    <tr>\n",
              "      <th>...</th>\n",
              "      <td>...</td>\n",
              "      <td>...</td>\n",
              "      <td>...</td>\n",
              "      <td>...</td>\n",
              "      <td>...</td>\n",
              "      <td>...</td>\n",
              "      <td>...</td>\n",
              "      <td>...</td>\n",
              "      <td>...</td>\n",
              "      <td>...</td>\n",
              "      <td>...</td>\n",
              "      <td>...</td>\n",
              "      <td>...</td>\n",
              "      <td>...</td>\n",
              "      <td>...</td>\n",
              "      <td>...</td>\n",
              "    </tr>\n",
              "    <tr>\n",
              "      <th>111093</th>\n",
              "      <td>0</td>\n",
              "      <td>0</td>\n",
              "      <td>0</td>\n",
              "      <td>0</td>\n",
              "      <td>0</td>\n",
              "      <td>0</td>\n",
              "      <td>0</td>\n",
              "      <td>0</td>\n",
              "      <td>0</td>\n",
              "      <td>0</td>\n",
              "      <td>0</td>\n",
              "      <td>1</td>\n",
              "      <td>0</td>\n",
              "      <td>0</td>\n",
              "      <td>0</td>\n",
              "      <td>0</td>\n",
              "    </tr>\n",
              "    <tr>\n",
              "      <th>111094</th>\n",
              "      <td>0</td>\n",
              "      <td>0</td>\n",
              "      <td>0</td>\n",
              "      <td>0</td>\n",
              "      <td>0</td>\n",
              "      <td>0</td>\n",
              "      <td>0</td>\n",
              "      <td>0</td>\n",
              "      <td>0</td>\n",
              "      <td>0</td>\n",
              "      <td>0</td>\n",
              "      <td>1</td>\n",
              "      <td>0</td>\n",
              "      <td>0</td>\n",
              "      <td>0</td>\n",
              "      <td>0</td>\n",
              "    </tr>\n",
              "    <tr>\n",
              "      <th>111095</th>\n",
              "      <td>0</td>\n",
              "      <td>0</td>\n",
              "      <td>0</td>\n",
              "      <td>0</td>\n",
              "      <td>0</td>\n",
              "      <td>0</td>\n",
              "      <td>0</td>\n",
              "      <td>0</td>\n",
              "      <td>0</td>\n",
              "      <td>0</td>\n",
              "      <td>0</td>\n",
              "      <td>1</td>\n",
              "      <td>0</td>\n",
              "      <td>0</td>\n",
              "      <td>0</td>\n",
              "      <td>0</td>\n",
              "    </tr>\n",
              "    <tr>\n",
              "      <th>111096</th>\n",
              "      <td>0</td>\n",
              "      <td>0</td>\n",
              "      <td>0</td>\n",
              "      <td>0</td>\n",
              "      <td>0</td>\n",
              "      <td>0</td>\n",
              "      <td>0</td>\n",
              "      <td>1</td>\n",
              "      <td>0</td>\n",
              "      <td>0</td>\n",
              "      <td>0</td>\n",
              "      <td>0</td>\n",
              "      <td>0</td>\n",
              "      <td>0</td>\n",
              "      <td>0</td>\n",
              "      <td>0</td>\n",
              "    </tr>\n",
              "    <tr>\n",
              "      <th>111097</th>\n",
              "      <td>0</td>\n",
              "      <td>0</td>\n",
              "      <td>0</td>\n",
              "      <td>0</td>\n",
              "      <td>0</td>\n",
              "      <td>0</td>\n",
              "      <td>0</td>\n",
              "      <td>1</td>\n",
              "      <td>0</td>\n",
              "      <td>0</td>\n",
              "      <td>0</td>\n",
              "      <td>0</td>\n",
              "      <td>0</td>\n",
              "      <td>0</td>\n",
              "      <td>0</td>\n",
              "      <td>0</td>\n",
              "    </tr>\n",
              "  </tbody>\n",
              "</table>\n",
              "<p>111098 rows × 16 columns</p>\n",
              "</div>"
            ],
            "text/plain": [
              "        Alternative Rock  Blues  Classical  ...  Rap & Hip-Hop  Reggae  Rock\n",
              "0                      0      0          0  ...              0       0     0\n",
              "1                      0      0          0  ...              0       0     0\n",
              "2                      0      0          0  ...              0       0     0\n",
              "3                      0      0          0  ...              0       0     0\n",
              "4                      0      0          0  ...              0       0     0\n",
              "...                  ...    ...        ...  ...            ...     ...   ...\n",
              "111093                 0      0          0  ...              0       0     0\n",
              "111094                 0      0          0  ...              0       0     0\n",
              "111095                 0      0          0  ...              0       0     0\n",
              "111096                 0      0          0  ...              0       0     0\n",
              "111097                 0      0          0  ...              0       0     0\n",
              "\n",
              "[111098 rows x 16 columns]"
            ]
          },
          "metadata": {
            "tags": []
          },
          "execution_count": 12
        }
      ]
    },
    {
      "cell_type": "markdown",
      "metadata": {
        "id": "zGoz2cVsnis8"
      },
      "source": [
        "### drop NaN data"
      ]
    },
    {
      "cell_type": "code",
      "metadata": {
        "colab": {
          "base_uri": "https://localhost:8080/",
          "height": 295
        },
        "id": "QdOM953fnT7e",
        "outputId": "8b7def6d-2877-4dd7-9d76-2fec86757495"
      },
      "source": [
        "# drop both\r\n",
        "df_drop_all = df.dropna(subset=[\"helpful_transformed\", \"first-release-year\"])\r\n",
        "df_drop_all.describe()"
      ],
      "execution_count": null,
      "outputs": [
        {
          "output_type": "execute_result",
          "data": {
            "text/html": [
              "<div>\n",
              "<style scoped>\n",
              "    .dataframe tbody tr th:only-of-type {\n",
              "        vertical-align: middle;\n",
              "    }\n",
              "\n",
              "    .dataframe tbody tr th {\n",
              "        vertical-align: top;\n",
              "    }\n",
              "\n",
              "    .dataframe thead th {\n",
              "        text-align: right;\n",
              "    }\n",
              "</style>\n",
              "<table border=\"1\" class=\"dataframe\">\n",
              "  <thead>\n",
              "    <tr style=\"text-align: right;\">\n",
              "      <th></th>\n",
              "      <th>reviewerID</th>\n",
              "      <th>amazon-id</th>\n",
              "      <th>unixReviewTime</th>\n",
              "      <th>overall</th>\n",
              "      <th>price</th>\n",
              "      <th>title</th>\n",
              "      <th>artist</th>\n",
              "      <th>first-release-year</th>\n",
              "      <th>salesRank</th>\n",
              "      <th>helpful_transformed</th>\n",
              "    </tr>\n",
              "  </thead>\n",
              "  <tbody>\n",
              "    <tr>\n",
              "      <th>count</th>\n",
              "      <td>6.231400e+04</td>\n",
              "      <td>6.231400e+04</td>\n",
              "      <td>6.231400e+04</td>\n",
              "      <td>62314.000000</td>\n",
              "      <td>62314.000000</td>\n",
              "      <td>6.231400e+04</td>\n",
              "      <td>6.231400e+04</td>\n",
              "      <td>62314.000000</td>\n",
              "      <td>6.231400e+04</td>\n",
              "      <td>62314.000000</td>\n",
              "    </tr>\n",
              "    <tr>\n",
              "      <th>mean</th>\n",
              "      <td>-5.738829e+16</td>\n",
              "      <td>-1.082026e+17</td>\n",
              "      <td>1.189015e+09</td>\n",
              "      <td>4.317409</td>\n",
              "      <td>20.332644</td>\n",
              "      <td>5.170977e+17</td>\n",
              "      <td>3.964111e+17</td>\n",
              "      <td>1998.487595</td>\n",
              "      <td>2.181048e+05</td>\n",
              "      <td>0.704545</td>\n",
              "    </tr>\n",
              "    <tr>\n",
              "      <th>std</th>\n",
              "      <td>5.320430e+18</td>\n",
              "      <td>5.459479e+18</td>\n",
              "      <td>1.351383e+08</td>\n",
              "      <td>1.162616</td>\n",
              "      <td>17.024350</td>\n",
              "      <td>5.220645e+18</td>\n",
              "      <td>4.901873e+18</td>\n",
              "      <td>13.578413</td>\n",
              "      <td>3.598565e+05</td>\n",
              "      <td>0.354257</td>\n",
              "    </tr>\n",
              "    <tr>\n",
              "      <th>min</th>\n",
              "      <td>-9.223209e+18</td>\n",
              "      <td>-9.217724e+18</td>\n",
              "      <td>8.794656e+08</td>\n",
              "      <td>1.000000</td>\n",
              "      <td>0.250000</td>\n",
              "      <td>-9.219330e+18</td>\n",
              "      <td>-9.220220e+18</td>\n",
              "      <td>1890.000000</td>\n",
              "      <td>6.000000e+00</td>\n",
              "      <td>0.000000</td>\n",
              "    </tr>\n",
              "    <tr>\n",
              "      <th>25%</th>\n",
              "      <td>-4.673797e+18</td>\n",
              "      <td>-5.002316e+18</td>\n",
              "      <td>1.078704e+09</td>\n",
              "      <td>4.000000</td>\n",
              "      <td>9.990000</td>\n",
              "      <td>-3.841314e+18</td>\n",
              "      <td>-3.758738e+18</td>\n",
              "      <td>1994.000000</td>\n",
              "      <td>8.876000e+03</td>\n",
              "      <td>0.500000</td>\n",
              "    </tr>\n",
              "    <tr>\n",
              "      <th>50%</th>\n",
              "      <td>-7.116225e+16</td>\n",
              "      <td>4.131612e+17</td>\n",
              "      <td>1.193443e+09</td>\n",
              "      <td>5.000000</td>\n",
              "      <td>16.260000</td>\n",
              "      <td>8.119961e+17</td>\n",
              "      <td>7.017061e+17</td>\n",
              "      <td>2003.000000</td>\n",
              "      <td>8.517000e+04</td>\n",
              "      <td>0.866667</td>\n",
              "    </tr>\n",
              "    <tr>\n",
              "      <th>75%</th>\n",
              "      <td>4.533849e+18</td>\n",
              "      <td>4.620256e+18</td>\n",
              "      <td>1.308852e+09</td>\n",
              "      <td>5.000000</td>\n",
              "      <td>27.520000</td>\n",
              "      <td>4.742375e+18</td>\n",
              "      <td>4.215883e+18</td>\n",
              "      <td>2009.000000</td>\n",
              "      <td>2.596760e+05</td>\n",
              "      <td>1.000000</td>\n",
              "    </tr>\n",
              "    <tr>\n",
              "      <th>max</th>\n",
              "      <td>9.222415e+18</td>\n",
              "      <td>9.222653e+18</td>\n",
              "      <td>1.405901e+09</td>\n",
              "      <td>5.000000</td>\n",
              "      <td>486.730000</td>\n",
              "      <td>9.220934e+18</td>\n",
              "      <td>9.218510e+18</td>\n",
              "      <td>2015.000000</td>\n",
              "      <td>2.453642e+06</td>\n",
              "      <td>1.000000</td>\n",
              "    </tr>\n",
              "  </tbody>\n",
              "</table>\n",
              "</div>"
            ],
            "text/plain": [
              "         reviewerID     amazon-id  ...     salesRank  helpful_transformed\n",
              "count  6.231400e+04  6.231400e+04  ...  6.231400e+04         62314.000000\n",
              "mean  -5.738829e+16 -1.082026e+17  ...  2.181048e+05             0.704545\n",
              "std    5.320430e+18  5.459479e+18  ...  3.598565e+05             0.354257\n",
              "min   -9.223209e+18 -9.217724e+18  ...  6.000000e+00             0.000000\n",
              "25%   -4.673797e+18 -5.002316e+18  ...  8.876000e+03             0.500000\n",
              "50%   -7.116225e+16  4.131612e+17  ...  8.517000e+04             0.866667\n",
              "75%    4.533849e+18  4.620256e+18  ...  2.596760e+05             1.000000\n",
              "max    9.222415e+18  9.222653e+18  ...  2.453642e+06             1.000000\n",
              "\n",
              "[8 rows x 10 columns]"
            ]
          },
          "metadata": {
            "tags": []
          },
          "execution_count": 13
        }
      ]
    },
    {
      "cell_type": "code",
      "metadata": {
        "id": "ddL7u2Tcnkc7"
      },
      "source": [
        "# function define for normalization and standardization\r\n",
        "def normalize_column_data(column):\r\n",
        "    return (column-column.min())/(column.max()-column.min())\r\n",
        "\r\n",
        "def standardize_column_data(column):\r\n",
        "    return (column-column.mean())/column.std()"
      ],
      "execution_count": null,
      "outputs": []
    },
    {
      "cell_type": "code",
      "metadata": {
        "colab": {
          "base_uri": "https://localhost:8080/"
        },
        "id": "bLfTWIBUnvlR",
        "outputId": "e1b90183-e1f3-4f8e-ae4c-a02f4362ed4e"
      },
      "source": [
        "# normalization\r\n",
        "# warning message no problem. ignore\r\n",
        "df_drop_all['price'] = normalize_column_data(df_drop_all['price'])\r\n",
        "df_drop_all['salesRank'] = normalize_column_data(df_drop_all['salesRank'])\r\n",
        "df_drop_all['first-release-year'] = normalize_column_data(df_drop_all['first-release-year'])\r\n",
        "df_drop_all['unixReviewTime'] = normalize_column_data(df_drop_all['unixReviewTime'])"
      ],
      "execution_count": null,
      "outputs": [
        {
          "output_type": "stream",
          "text": [
            "/usr/local/lib/python3.6/dist-packages/ipykernel_launcher.py:3: SettingWithCopyWarning: \n",
            "A value is trying to be set on a copy of a slice from a DataFrame.\n",
            "Try using .loc[row_indexer,col_indexer] = value instead\n",
            "\n",
            "See the caveats in the documentation: https://pandas.pydata.org/pandas-docs/stable/user_guide/indexing.html#returning-a-view-versus-a-copy\n",
            "  This is separate from the ipykernel package so we can avoid doing imports until\n",
            "/usr/local/lib/python3.6/dist-packages/ipykernel_launcher.py:4: SettingWithCopyWarning: \n",
            "A value is trying to be set on a copy of a slice from a DataFrame.\n",
            "Try using .loc[row_indexer,col_indexer] = value instead\n",
            "\n",
            "See the caveats in the documentation: https://pandas.pydata.org/pandas-docs/stable/user_guide/indexing.html#returning-a-view-versus-a-copy\n",
            "  after removing the cwd from sys.path.\n",
            "/usr/local/lib/python3.6/dist-packages/ipykernel_launcher.py:5: SettingWithCopyWarning: \n",
            "A value is trying to be set on a copy of a slice from a DataFrame.\n",
            "Try using .loc[row_indexer,col_indexer] = value instead\n",
            "\n",
            "See the caveats in the documentation: https://pandas.pydata.org/pandas-docs/stable/user_guide/indexing.html#returning-a-view-versus-a-copy\n",
            "  \"\"\"\n",
            "/usr/local/lib/python3.6/dist-packages/ipykernel_launcher.py:6: SettingWithCopyWarning: \n",
            "A value is trying to be set on a copy of a slice from a DataFrame.\n",
            "Try using .loc[row_indexer,col_indexer] = value instead\n",
            "\n",
            "See the caveats in the documentation: https://pandas.pydata.org/pandas-docs/stable/user_guide/indexing.html#returning-a-view-versus-a-copy\n",
            "  \n"
          ],
          "name": "stderr"
        }
      ]
    },
    {
      "cell_type": "markdown",
      "metadata": {
        "id": "3mUC_P-poCmO"
      },
      "source": [
        "### predict target column make"
      ]
    },
    {
      "cell_type": "code",
      "metadata": {
        "colab": {
          "base_uri": "https://localhost:8080/"
        },
        "id": "NDLAPdtJn5ku",
        "outputId": "acaa375e-6fe2-4001-f29f-69ba6c134cf6"
      },
      "source": [
        "df_drop_all['predict_target'] = 0\r\n",
        "df_drop_all['predict_target'][df_drop_all['overall'] >= 4] = 1"
      ],
      "execution_count": null,
      "outputs": [
        {
          "output_type": "stream",
          "text": [
            "/usr/local/lib/python3.6/dist-packages/ipykernel_launcher.py:1: SettingWithCopyWarning: \n",
            "A value is trying to be set on a copy of a slice from a DataFrame.\n",
            "Try using .loc[row_indexer,col_indexer] = value instead\n",
            "\n",
            "See the caveats in the documentation: https://pandas.pydata.org/pandas-docs/stable/user_guide/indexing.html#returning-a-view-versus-a-copy\n",
            "  \"\"\"Entry point for launching an IPython kernel.\n",
            "/usr/local/lib/python3.6/dist-packages/ipykernel_launcher.py:2: SettingWithCopyWarning: \n",
            "A value is trying to be set on a copy of a slice from a DataFrame\n",
            "\n",
            "See the caveats in the documentation: https://pandas.pydata.org/pandas-docs/stable/user_guide/indexing.html#returning-a-view-versus-a-copy\n",
            "  \n",
            "/usr/local/lib/python3.6/dist-packages/pandas/core/series.py:1021: SettingWithCopyWarning: \n",
            "A value is trying to be set on a copy of a slice from a DataFrame\n",
            "\n",
            "See the caveats in the documentation: https://pandas.pydata.org/pandas-docs/stable/user_guide/indexing.html#returning-a-view-versus-a-copy\n",
            "  self._where(~key, value, inplace=True)\n"
          ],
          "name": "stderr"
        }
      ]
    },
    {
      "cell_type": "code",
      "metadata": {
        "colab": {
          "base_uri": "https://localhost:8080/",
          "height": 567
        },
        "id": "_OMdGWYonz2d",
        "outputId": "d1207f6d-bdb5-4e63-f528-f4792a7f47e1"
      },
      "source": [
        "# see the data\r\n",
        "df_drop_all.head()"
      ],
      "execution_count": null,
      "outputs": [
        {
          "output_type": "execute_result",
          "data": {
            "text/html": [
              "<div>\n",
              "<style scoped>\n",
              "    .dataframe tbody tr th:only-of-type {\n",
              "        vertical-align: middle;\n",
              "    }\n",
              "\n",
              "    .dataframe tbody tr th {\n",
              "        vertical-align: top;\n",
              "    }\n",
              "\n",
              "    .dataframe thead th {\n",
              "        text-align: right;\n",
              "    }\n",
              "</style>\n",
              "<table border=\"1\" class=\"dataframe\">\n",
              "  <thead>\n",
              "    <tr style=\"text-align: right;\">\n",
              "      <th></th>\n",
              "      <th>reviewerID</th>\n",
              "      <th>amazon-id</th>\n",
              "      <th>helpful</th>\n",
              "      <th>unixReviewTime</th>\n",
              "      <th>reviewText</th>\n",
              "      <th>overall</th>\n",
              "      <th>reviewTime</th>\n",
              "      <th>summary</th>\n",
              "      <th>price</th>\n",
              "      <th>categories</th>\n",
              "      <th>root-genre</th>\n",
              "      <th>title</th>\n",
              "      <th>artist</th>\n",
              "      <th>label</th>\n",
              "      <th>first-release-year</th>\n",
              "      <th>songs</th>\n",
              "      <th>salesRank</th>\n",
              "      <th>related</th>\n",
              "      <th>helpful_transformed</th>\n",
              "      <th>predict_target</th>\n",
              "    </tr>\n",
              "  </thead>\n",
              "  <tbody>\n",
              "    <tr>\n",
              "      <th>30</th>\n",
              "      <td>-3029154682982670675</td>\n",
              "      <td>2828769427501176858</td>\n",
              "      <td>[13, 13]</td>\n",
              "      <td>0.750369</td>\n",
              "      <td>When I was in Music School at Stetson Universi...</td>\n",
              "      <td>5</td>\n",
              "      <td>05 22, 2010</td>\n",
              "      <td>A Great Teaching tool</td>\n",
              "      <td>0.030320</td>\n",
              "      <td>['CDs &amp; Vinyl', 'Classical', 'Sacred &amp; Religio...</td>\n",
              "      <td>Classical</td>\n",
              "      <td>-3686601028207514605</td>\n",
              "      <td>-1412275221690118390</td>\n",
              "      <td>Solesmes</td>\n",
              "      <td>0.896</td>\n",
              "      <td>[-5278554366520980165, 1031059927497114547, -8...</td>\n",
              "      <td>0.070053</td>\n",
              "      <td>{'also_bought': [-2564721328448647001, 4039811...</td>\n",
              "      <td>1.0</td>\n",
              "      <td>1</td>\n",
              "    </tr>\n",
              "    <tr>\n",
              "      <th>32</th>\n",
              "      <td>-84902388281572817</td>\n",
              "      <td>1683355681609577463</td>\n",
              "      <td>[0, 1]</td>\n",
              "      <td>0.980469</td>\n",
              "      <td>After seeing this selling on line for as much ...</td>\n",
              "      <td>4</td>\n",
              "      <td>03 24, 2014</td>\n",
              "      <td>Metallica - Death Magnetic (Deluxe Coffin Boxset)</td>\n",
              "      <td>0.205024</td>\n",
              "      <td>['CDs &amp; Vinyl', 'Rock']</td>\n",
              "      <td>Rock</td>\n",
              "      <td>2278261453371246336</td>\n",
              "      <td>1178076565539150448</td>\n",
              "      <td>Mercury (Universal)</td>\n",
              "      <td>0.944</td>\n",
              "      <td>[6232524707980398149, 5566973718179316922, -43...</td>\n",
              "      <td>0.205259</td>\n",
              "      <td>{'also_viewed': [-5109793234044987754, 5931663...</td>\n",
              "      <td>0.0</td>\n",
              "      <td>1</td>\n",
              "    </tr>\n",
              "    <tr>\n",
              "      <th>33</th>\n",
              "      <td>-8209243714021876578</td>\n",
              "      <td>245546254853962888</td>\n",
              "      <td>[1, 1]</td>\n",
              "      <td>0.395043</td>\n",
              "      <td>Let me start by saying that I am not a die-har...</td>\n",
              "      <td>5</td>\n",
              "      <td>06 17, 2004</td>\n",
              "      <td>Best Comedy Recording Ever</td>\n",
              "      <td>0.075481</td>\n",
              "      <td>['CDs &amp; Vinyl', 'Dance &amp; Electronic']</td>\n",
              "      <td>Dance &amp; Electronic</td>\n",
              "      <td>-3282866979189163366</td>\n",
              "      <td>8493232817338375900</td>\n",
              "      <td>Enigma</td>\n",
              "      <td>0.800</td>\n",
              "      <td>[-5143272649889793807, -547543979015767703, -8...</td>\n",
              "      <td>0.081436</td>\n",
              "      <td>{'also_bought': [5334117667833916410, 27299936...</td>\n",
              "      <td>1.0</td>\n",
              "      <td>1</td>\n",
              "    </tr>\n",
              "    <tr>\n",
              "      <th>35</th>\n",
              "      <td>-7466026974335812302</td>\n",
              "      <td>245546254853962888</td>\n",
              "      <td>[10, 10]</td>\n",
              "      <td>0.482357</td>\n",
              "      <td>If you've got a taste for Sandra, it never got...</td>\n",
              "      <td>5</td>\n",
              "      <td>12 1, 2005</td>\n",
              "      <td>CLASSIC PERFORMANCE</td>\n",
              "      <td>0.075481</td>\n",
              "      <td>['CDs &amp; Vinyl', 'Dance &amp; Electronic']</td>\n",
              "      <td>Dance &amp; Electronic</td>\n",
              "      <td>-3282866979189163366</td>\n",
              "      <td>8493232817338375900</td>\n",
              "      <td>Enigma</td>\n",
              "      <td>0.800</td>\n",
              "      <td>[-5143272649889793807, -547543979015767703, -8...</td>\n",
              "      <td>0.081436</td>\n",
              "      <td>{'also_bought': [5334117667833916410, 27299936...</td>\n",
              "      <td>1.0</td>\n",
              "      <td>1</td>\n",
              "    </tr>\n",
              "    <tr>\n",
              "      <th>36</th>\n",
              "      <td>-4626832404357630738</td>\n",
              "      <td>245546254853962888</td>\n",
              "      <td>[2, 2]</td>\n",
              "      <td>0.767766</td>\n",
              "      <td>As audio needs to deliver imagery and laughs t...</td>\n",
              "      <td>4</td>\n",
              "      <td>09 5, 2010</td>\n",
              "      <td>\"Oh mi GOSH... there must've been dust, on tho...</td>\n",
              "      <td>0.075481</td>\n",
              "      <td>['CDs &amp; Vinyl', 'Dance &amp; Electronic']</td>\n",
              "      <td>Dance &amp; Electronic</td>\n",
              "      <td>-3282866979189163366</td>\n",
              "      <td>8493232817338375900</td>\n",
              "      <td>Enigma</td>\n",
              "      <td>0.800</td>\n",
              "      <td>[-5143272649889793807, -547543979015767703, -8...</td>\n",
              "      <td>0.081436</td>\n",
              "      <td>{'also_bought': [5334117667833916410, 27299936...</td>\n",
              "      <td>1.0</td>\n",
              "      <td>1</td>\n",
              "    </tr>\n",
              "  </tbody>\n",
              "</table>\n",
              "</div>"
            ],
            "text/plain": [
              "             reviewerID  ...  predict_target\n",
              "30 -3029154682982670675  ...               1\n",
              "32   -84902388281572817  ...               1\n",
              "33 -8209243714021876578  ...               1\n",
              "35 -7466026974335812302  ...               1\n",
              "36 -4626832404357630738  ...               1\n",
              "\n",
              "[5 rows x 20 columns]"
            ]
          },
          "metadata": {
            "tags": []
          },
          "execution_count": 17
        }
      ]
    },
    {
      "cell_type": "markdown",
      "metadata": {
        "id": "8csxbqkZoQ0H"
      },
      "source": [
        "### Text and Unnecessary Data Drop"
      ]
    },
    {
      "cell_type": "code",
      "metadata": {
        "colab": {
          "base_uri": "https://localhost:8080/",
          "height": 203
        },
        "id": "ayEDd9cCoIBx",
        "outputId": "276a9ae9-9706-44f1-e9ef-916d3ad53b8c"
      },
      "source": [
        "df_drop_all.drop(['helpful', 'reviewText', 'overall', 'summary', 'categories', 'root-genre', 'label', 'reviewTime'], axis=1)\r\n",
        "\r\n",
        "# only using data for quant analysis\r\n",
        "feature_names = [\"unixReviewTime\", \"price\", \"first-release-year\", \"salesRank\", \"helpful_transformed\"]\r\n",
        "# candidate later: \"songs\", \"related\", \"title\", \"reviewerID\", \"amazon-id\", \r\n",
        "quant_data = df_drop_all[feature_names]\r\n",
        "predicted_variable = df_drop_all['predict_target']\r\n",
        "\r\n",
        "quant_data.head()"
      ],
      "execution_count": null,
      "outputs": [
        {
          "output_type": "execute_result",
          "data": {
            "text/html": [
              "<div>\n",
              "<style scoped>\n",
              "    .dataframe tbody tr th:only-of-type {\n",
              "        vertical-align: middle;\n",
              "    }\n",
              "\n",
              "    .dataframe tbody tr th {\n",
              "        vertical-align: top;\n",
              "    }\n",
              "\n",
              "    .dataframe thead th {\n",
              "        text-align: right;\n",
              "    }\n",
              "</style>\n",
              "<table border=\"1\" class=\"dataframe\">\n",
              "  <thead>\n",
              "    <tr style=\"text-align: right;\">\n",
              "      <th></th>\n",
              "      <th>unixReviewTime</th>\n",
              "      <th>price</th>\n",
              "      <th>first-release-year</th>\n",
              "      <th>salesRank</th>\n",
              "      <th>helpful_transformed</th>\n",
              "    </tr>\n",
              "  </thead>\n",
              "  <tbody>\n",
              "    <tr>\n",
              "      <th>30</th>\n",
              "      <td>0.750369</td>\n",
              "      <td>0.030320</td>\n",
              "      <td>0.896</td>\n",
              "      <td>0.070053</td>\n",
              "      <td>1.0</td>\n",
              "    </tr>\n",
              "    <tr>\n",
              "      <th>32</th>\n",
              "      <td>0.980469</td>\n",
              "      <td>0.205024</td>\n",
              "      <td>0.944</td>\n",
              "      <td>0.205259</td>\n",
              "      <td>0.0</td>\n",
              "    </tr>\n",
              "    <tr>\n",
              "      <th>33</th>\n",
              "      <td>0.395043</td>\n",
              "      <td>0.075481</td>\n",
              "      <td>0.800</td>\n",
              "      <td>0.081436</td>\n",
              "      <td>1.0</td>\n",
              "    </tr>\n",
              "    <tr>\n",
              "      <th>35</th>\n",
              "      <td>0.482357</td>\n",
              "      <td>0.075481</td>\n",
              "      <td>0.800</td>\n",
              "      <td>0.081436</td>\n",
              "      <td>1.0</td>\n",
              "    </tr>\n",
              "    <tr>\n",
              "      <th>36</th>\n",
              "      <td>0.767766</td>\n",
              "      <td>0.075481</td>\n",
              "      <td>0.800</td>\n",
              "      <td>0.081436</td>\n",
              "      <td>1.0</td>\n",
              "    </tr>\n",
              "  </tbody>\n",
              "</table>\n",
              "</div>"
            ],
            "text/plain": [
              "    unixReviewTime     price  ...  salesRank  helpful_transformed\n",
              "30        0.750369  0.030320  ...   0.070053                  1.0\n",
              "32        0.980469  0.205024  ...   0.205259                  0.0\n",
              "33        0.395043  0.075481  ...   0.081436                  1.0\n",
              "35        0.482357  0.075481  ...   0.081436                  1.0\n",
              "36        0.767766  0.075481  ...   0.081436                  1.0\n",
              "\n",
              "[5 rows x 5 columns]"
            ]
          },
          "metadata": {
            "tags": []
          },
          "execution_count": 18
        }
      ]
    },
    {
      "cell_type": "markdown",
      "metadata": {
        "id": "7w59KlWroo40"
      },
      "source": [
        "## Train and Test Models"
      ]
    },
    {
      "cell_type": "code",
      "metadata": {
        "id": "YTkNkIaqol9A"
      },
      "source": [
        "# train and test data split\r\n",
        "X_train, X_test, y_train, y_test = sklearn.model_selection.train_test_split(quant_data, predicted_variable, test_size=0.4)"
      ],
      "execution_count": null,
      "outputs": []
    },
    {
      "cell_type": "code",
      "metadata": {
        "colab": {
          "base_uri": "https://localhost:8080/"
        },
        "id": "Y1jxm7_cotFy",
        "outputId": "625af2f5-11dd-4cb3-a30d-c805944e7cb8"
      },
      "source": [
        "# GNB\r\n",
        "print(\"Trying gaussian naive bayes\")\r\n",
        "gnb = sklearn.naive_bayes.GaussianNB()\r\n",
        "y_pred = gnb.fit(X_train, y_train).predict(X_test)\r\n",
        "print(\"F1 score: {}\".format(sklearn.metrics.f1_score(y_test, y_pred)))\r\n",
        "print(\"accuracy score: {}\".format(sklearn.metrics.accuracy_score(y_test, y_pred)))\r\n",
        "print(confusion_matrix(y_test,y_pred))\r\n",
        "print(classification_report(y_test,y_pred))"
      ],
      "execution_count": null,
      "outputs": [
        {
          "output_type": "stream",
          "text": [
            "Trying gaussian naive bayes\n",
            "F1 score: 0.8719679392533222\n",
            "accuracy score: 0.7808312605311722\n",
            "[[  860  3577]\n",
            " [ 1886 18603]]\n",
            "              precision    recall  f1-score   support\n",
            "\n",
            "           0       0.31      0.19      0.24      4437\n",
            "           1       0.84      0.91      0.87     20489\n",
            "\n",
            "    accuracy                           0.78     24926\n",
            "   macro avg       0.58      0.55      0.56     24926\n",
            "weighted avg       0.75      0.78      0.76     24926\n",
            "\n"
          ],
          "name": "stdout"
        }
      ]
    },
    {
      "cell_type": "code",
      "metadata": {
        "colab": {
          "base_uri": "https://localhost:8080/"
        },
        "id": "qmYG0xmoovxy",
        "outputId": "186be8be-7eff-4682-d01e-ebafe1484ef5"
      },
      "source": [
        "# Decision tree\r\n",
        "print(\"Trying a decision tree\")\r\n",
        "clf = sklearn.tree.DecisionTreeClassifier(max_depth=4)\r\n",
        "y_pred = clf.fit(X_train, y_train).predict(X_test)\r\n",
        "print(\"F1 score: {}\".format(sklearn.metrics.f1_score(y_test, y_pred)))                                                                                                                                                                                                                                                                                                                                                                                                                                                                                                                                                                                        \r\n",
        "print(\"accuracy score: {}\".format(sklearn.metrics.accuracy_score(y_test, y_pred)))\r\n",
        "print(confusion_matrix(y_test,y_pred))\r\n",
        "print(classification_report(y_test,y_pred))"
      ],
      "execution_count": null,
      "outputs": [
        {
          "output_type": "stream",
          "text": [
            "Trying a decision tree\n",
            "F1 score: 0.9093806819457226\n",
            "accuracy score: 0.8380406001765225\n",
            "[[  633  3804]\n",
            " [  233 20256]]\n",
            "              precision    recall  f1-score   support\n",
            "\n",
            "           0       0.73      0.14      0.24      4437\n",
            "           1       0.84      0.99      0.91     20489\n",
            "\n",
            "    accuracy                           0.84     24926\n",
            "   macro avg       0.79      0.57      0.57     24926\n",
            "weighted avg       0.82      0.84      0.79     24926\n",
            "\n"
          ],
          "name": "stdout"
        }
      ]
    },
    {
      "cell_type": "code",
      "metadata": {
        "colab": {
          "base_uri": "https://localhost:8080/"
        },
        "id": "Orlp0iy0JtbA",
        "outputId": "2320a7fc-e36e-47b5-831b-329bb0d959a7"
      },
      "source": [
        "# stochastic\r\n",
        "print(\"Trying SGD model\")\r\n",
        "SGD_clf = sklearn.linear_model.SGDClassifier(max_iter=1000, random_state=42)\r\n",
        "y_pred = SGD_clf.fit(X_train, y_train).predict(X_test)\r\n",
        "#SGD_clf.score(X_test, y_test)\r\n",
        "print(\"F1 score: {}\".format(sklearn.metrics.f1_score(y_test, y_pred)))                                                                                                                                                                                                                                                                                                                                                                                                                                                                                                                                                                                         \r\n",
        "print(\"accuracy score: {}\".format(sklearn.metrics.accuracy_score(y_test, y_pred)))\r\n",
        "print(confusion_matrix(y_test,y_pred))\r\n",
        "print(classification_report(y_test,y_pred))"
      ],
      "execution_count": null,
      "outputs": [
        {
          "output_type": "stream",
          "text": [
            "Trying SGD model\n",
            "F1 score: 0.9023010018716282\n",
            "accuracy score: 0.8219930995747412\n",
            "[[    0  4437]\n",
            " [    0 20489]]\n",
            "              precision    recall  f1-score   support\n",
            "\n",
            "           0       0.00      0.00      0.00      4437\n",
            "           1       0.82      1.00      0.90     20489\n",
            "\n",
            "    accuracy                           0.82     24926\n",
            "   macro avg       0.41      0.50      0.45     24926\n",
            "weighted avg       0.68      0.82      0.74     24926\n",
            "\n"
          ],
          "name": "stdout"
        },
        {
          "output_type": "stream",
          "text": [
            "/usr/local/lib/python3.6/dist-packages/sklearn/metrics/_classification.py:1272: UndefinedMetricWarning: Precision and F-score are ill-defined and being set to 0.0 in labels with no predicted samples. Use `zero_division` parameter to control this behavior.\n",
            "  _warn_prf(average, modifier, msg_start, len(result))\n"
          ],
          "name": "stderr"
        }
      ]
    },
    {
      "cell_type": "code",
      "metadata": {
        "colab": {
          "base_uri": "https://localhost:8080/"
        },
        "id": "fBCCE85-oxWD",
        "outputId": "93a68d27-e84c-4bf0-8839-75a877b4f54e"
      },
      "source": [
        "print(\"Trying Support Vector Machine with linear\")\r\n",
        "svm_clf = SVC(kernel=\"linear\", C=1)\r\n",
        "y_pred = svm_clf.fit(X_train, y_train).predict(X_test)\r\n",
        "print(\"F1 score: {}\".format(sklearn.metrics.f1_score(y_test, y_pred)))                                                                                                                                                                                                                                                                                                                                                                                                                                                                                                                                                                                         \r\n",
        "print(\"accuracy score: {}\".format(sklearn.metrics.accuracy_score(y_test, y_pred)))\r\n",
        "print(confusion_matrix(y_test,y_pred))\r\n",
        "print(classification_report(y_test,y_pred))"
      ],
      "execution_count": null,
      "outputs": [
        {
          "output_type": "stream",
          "text": [
            "Trying Support Vector Machine with linear\n",
            "F1 score: 0.9023010018716282\n",
            "accuracy score: 0.8219930995747412\n",
            "[[    0  4437]\n",
            " [    0 20489]]\n",
            "              precision    recall  f1-score   support\n",
            "\n",
            "           0       0.00      0.00      0.00      4437\n",
            "           1       0.82      1.00      0.90     20489\n",
            "\n",
            "    accuracy                           0.82     24926\n",
            "   macro avg       0.41      0.50      0.45     24926\n",
            "weighted avg       0.68      0.82      0.74     24926\n",
            "\n"
          ],
          "name": "stdout"
        },
        {
          "output_type": "stream",
          "text": [
            "/usr/local/lib/python3.6/dist-packages/sklearn/metrics/_classification.py:1272: UndefinedMetricWarning: Precision and F-score are ill-defined and being set to 0.0 in labels with no predicted samples. Use `zero_division` parameter to control this behavior.\n",
            "  _warn_prf(average, modifier, msg_start, len(result))\n"
          ],
          "name": "stderr"
        }
      ]
    },
    {
      "cell_type": "code",
      "metadata": {
        "id": "TD1SGCvTo0wP"
      },
      "source": [
        ""
      ],
      "execution_count": null,
      "outputs": []
    }
  ]
}