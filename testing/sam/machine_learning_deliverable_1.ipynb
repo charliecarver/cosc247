{
 "nbformat": 4,
 "nbformat_minor": 0,
 "metadata": {
  "colab": {
   "name": "Machine learning deliverable 1",
   "provenance": [],
   "collapsed_sections": [
    "PqTt62AFUQFp",
    "bWTO6xGnUBNN"
   ]
  },
  "kernelspec": {
   "name": "python3",
   "language": "python",
   "display_name": "Python 3"
  }
 },
 "cells": [
  {
   "cell_type": "markdown",
   "metadata": {
    "id": "PqTt62AFUQFp"
   },
   "source": [
    "# Prerequisites"
   ]
  },
  {
   "cell_type": "code",
   "metadata": {
    "id": "6oO8YRJnNpk5"
   },
   "source": [
    "# Load dataset from Github\n",
    "import requests, zipfile, io\n",
    "r = requests.get('https://github.com/charliecarver/cosc247/blob/master/datasets.zip?raw=true') \n",
    "z = zipfile.ZipFile(io.BytesIO(r.content))\n",
    "z.extractall()\n",
    "testPath = 'Test.csv'\n",
    "trainPath = 'Train.csv'"
   ],
   "execution_count": null,
   "outputs": []
  },
  {
   "cell_type": "code",
   "metadata": {
    "colab": {
     "base_uri": "https://localhost:8080/"
    },
    "id": "a1XomPFOUaWZ",
    "outputId": "03cd241f-73a6-46ac-c834-f5f9a21e1c1d"
   },
   "source": [
    "# Import required libraries\n",
    "import pandas as pd\n",
    "import numpy as np\n",
    "import nltk\n",
    "import nltk.tokenize\n",
    "import math\n",
    "from nltk.corpus import stopwords\n",
    "from collections import defaultdict\n",
    "import sklearn.model_selection\n",
    "import sklearn.metrics\n",
    "import sklearn.naive_bayes\n",
    "import sklearn.tree\n",
    "nltk.download('stopwords')\n",
    "nltk.download('punkt')"
   ],
   "execution_count": null,
   "outputs": [
    {
     "output_type": "stream",
     "text": [
      "[nltk_data] Downloading package stopwords to /root/nltk_data...\n",
      "[nltk_data]   Package stopwords is already up-to-date!\n",
      "[nltk_data] Downloading package punkt to /root/nltk_data...\n",
      "[nltk_data]   Package punkt is already up-to-date!\n"
     ],
     "name": "stdout"
    },
    {
     "output_type": "execute_result",
     "data": {
      "text/plain": [
       "True"
      ]
     },
     "metadata": {
      "tags": []
     },
     "execution_count": 22
    }
   ]
  },
  {
   "cell_type": "markdown",
   "metadata": {
    "id": "Y_NdLgnWUngL"
   },
   "source": [
    "# Preprocessing"
   ]
  },
  {
   "cell_type": "code",
   "metadata": {
    "colab": {
     "base_uri": "https://localhost:8080/"
    },
    "id": "cMX-GeK0EKhH",
    "outputId": "ec811cbd-e68b-47f6-b2dc-e7e9865766b7"
   },
   "source": [
    "def tokenize_without_stopwords(review, stop_words):\n",
    "    if type(review) == str:\n",
    "        tokenized = nltk.tokenize.word_tokenize(review)\n",
    "\n",
    "        return [word for word in tokenized if word not in stop_words]\n",
    "    else:\n",
    "        return []\n",
    "\n",
    "# a product is awesome if the average of its reviews is awesome\n",
    "# lets try and find whether a review is awesome\n",
    "# so that looks like... what?\n",
    "\n",
    "# get a list of all unique non-stop words and the frequency count in this database for that\n",
    "# and a list of all unique non-stop 2-grams\n",
    "training_data = pd.read_csv(trainPath)\n",
    "print(training_data.columns)\n",
    "print(training_data.iloc[0]['overall'])\n",
    "\n",
    "# get all words in all of the reviews\n",
    "print(\"Mapping reviews to lower case\")\n",
    "training_data['reviewText'] = training_data['reviewText'].apply(lambda x: x.lower() if not type(x) == float else x)\n",
    "\n",
    "# load a numpy array with each word being a feature w/ a frequency in the whole setup\n",
    "# get the count of each unique word then order them in a list then make a matrix with rows being the data points and columns being\n",
    "# the words. So first step is a list of all words\n",
    "\n",
    "word_frequency = defaultdict(lambda: 0)\n",
    "\n",
    "stop_words_set = set(stopwords.words('english'))\n",
    "\n",
    "print(\"Building word frequency dictionary...\")\n",
    "for review in training_data['reviewText']:\n",
    "    review_words = tokenize_without_stopwords(review, stop_words_set)\n",
    "\n",
    "    for word in review_words:\n",
    "        word_frequency[word] = word_frequency[word] + 1\n",
    "\n",
    "filter_count = 400\n",
    "common_words = [word for word, freq in word_frequency.items() if freq > filter_count]\n",
    "common_words.sort(key=lambda word: word_frequency[word], reverse=True)\n",
    "\n",
    "print(common_words)\n",
    "\n",
    "print(\"Number of unique words\", len(word_frequency))\n",
    "print(\"Number words that appear more than {} times\".format(filter_count), len(\n",
    "    common_words\n",
    "))\n",
    "\n",
    "print(\"Getting unique id for each word...\")\n",
    "index_by_word = {}\n",
    "\n",
    "for index, word in enumerate(common_words):\n",
    "    index_by_word[word] = index\n",
    "\n",
    "predicted_variable = np.zeros(len(training_data), dtype=np.int8)\n",
    "\n",
    "print(\"Creating traning matrix\")\n",
    "data = np.zeros((len(training_data), len(common_words)), dtype=float)\n",
    "for row_idx, data_row in training_data.iterrows():\n",
    "    review_words = tokenize_without_stopwords(data_row['reviewText'], stop_words_set)\n",
    "    if data_row['overall'] >= 4:\n",
    "        predicted_variable[row_idx] = 1\n",
    "\n",
    "    for word in review_words:\n",
    "        if word in index_by_word:\n",
    "            word_idx = index_by_word[word]\n",
    "            data[row_idx][word_idx] = data[row_idx][word_idx] + 1\n",
    "print(\"Done!\")"
   ],
   "execution_count": null,
   "outputs": [
    {
     "output_type": "stream",
     "text": [
      "Index(['reviewerID', 'amazon-id', 'helpful', 'unixReviewTime', 'reviewText',\n",
      "       'overall', 'reviewTime', 'summary', 'price', 'categories', 'root-genre',\n",
      "       'title', 'artist', 'label', 'first-release-year', 'songs', 'salesRank',\n",
      "       'related'],\n",
      "      dtype='object')\n",
      "4\n",
      "Mapping reviews to lower case\n",
      "Building word frequency dictionary...\n",
      "[',', '.', \"'s\", ';', '&', \"''\", '``', '!', 'album', ')', 'cd', 'music', 'quot', '(', 'one', \"n't\", 'songs', 'like', 'song', 'great', 'love', '...', 'good', '-', 'best', \"'\", 'would', 'time', 'first', 'really', ':', 'sound', 'get', 'well', '?', 'much', '#', 'listen', 'even', 'new', 'also', 'beatles', 'voice', 'track', 'still', 'many', \"'m\", 'heard', 'better', 'think', 'albums', 'tracks', 'band', 'way', 'two', 'could', \"'ve\", 'back', 'years', 'never', 'ever', 'movie', 'every', 'know', 'work', '--', 'fan', 'say', 'recording', '34', 'listening', 'favorite', 'buy', 'hear', 'sounds', 'rock', 'version', 'beautiful', 'original', 'another', 'lyrics', 'little', 'soundtrack', 'make', 'got', 'christmas', 'find', 'see', 'want', 'go', 'always', 'ca', 'people', 'old', 'collection', 'since', 'something', 'long', 'wonderful', \"'ll\", 'made', 'guitar', 'musical', 'last', 'different', \"'re\", 'though', 'bought', 'score', 'feel', 'enjoy', 'live', 'set', 'let', 'us', 'come', 'amazing', 'day', 'life', 'makes', 'must', 'record', 'world', 'pop', 'recommend', 'singing', 'john', 'classic', 'excellent', 'quality', 'lot', 'release', 'worth', 'vocals', 'may', 'fans', 'right', 'film', 'give', 'show', 'nice', 'play', 'playing', 'yet', 'without', 'put', 'de', 'bit', 'quite', 'times', 'however', '2', 'disc', 'released', 'end', 'style', 'take', 'bad', 'almost', 'hard', 'sing', 'thing', 'going', 'far', 'part', 'done', 'recorded', 'big', 'man', 'found', 'especially', 'anyone', 'single', 'fun', 'played', 'probably', 'perfect', 'real', 'loved', 'recordings', 'second', 'year', 'three', 'along', 'whole', 'said', 'enough', 'together', 'came', 'performance', 'sure', 'actually', 'true', 'listened', 'highly', 'away', 'heart', 'group', 'pretty', 'early', 'thought', 'definitely', 'although', 'need', 'la', 'used', 'stars', 'truly', 'theme', 'nothing', 'title', 'next', 'solo', 'awesome', 'piano', 'comes', 'around', 'god', \"'d\", 'top', '3', 'paul', 'cds', 'full', 'others', 'seems', 'dance', 'greatest', 'piece', 'floyd', '5', 'fact', 'yes', 'anything', 'side', 'looking', 'soul', 'might', 'hit', '1', 'george', 'works', 'simply', 'artist', 'cover', 'wish', '4', 'things', 'least', 'written', 'rest', 'singer', 'review', 'kind', 'high', 'hope', 'vocal', 'britney', 'orchestra', 'night', 'already', 'believe', 'course', 'tunes', 'mind', 'story', 'later', 'today', 'several', 'production', 'days', 'artists', 'everything', 'stuff', 'jazz', 'amazon', 'words', 'pink', 'enjoyed', 'country', 'saw', 'road', 'everyone', 'rather', 'material', 'happy', 'shows', 'look', 'less', 'mix', 'talent', 'absolutely', 'four', 'fine', 'hits', 'disappointed', 'young', 'maybe', 'radio', 'fantastic', 'keep', 'bass', 'point', 'catchy', 'wo', 'star', 'metal', 'start', 'seen', 'liked', 'money', 'place', 'ago', 'sings', 'tell', 'getting', 'dark', 'gets', 'opinion', 'interesting', 'hearing', 'past', 'often', 'studio', 'overall', 'que', 'beat', 'price', 'versions', 'else', 'dvd', 'purchase', 'entire', 'vinyl', 'home', 'number', 'records', 'favorites', 'girl', 'reason', 'someone', 'making', 'takes', 'lp', 'tune', 'use', 'please', 'wanted', 'certainly', 'job', 'short', 'strong', 'previous', 'powerful', 'unique', 'perhaps', 'remember', 'christian', 'couple', 'help', 'concert', 'white', 'performances', 'wall', 'stereo', 'car', 'purchased', 'name', 'bands', 'complete', 'experience', 'pieces', 'guys', 'incredible', 'voices', 'american', 'notes', 'loves', 'el', 'final', 'able', 'finally', 'reviews', 'try', 'cut', 'wrong', 'seem', 'lennon', 'wait', 'late', 'goes', 'available', 'either', 'included', 'cool', 'brilliant', 'singers', 'feeling', 'box', 'buying', 'instead', 'become', 'glad', 'known', 'ones', 'sung', 'special', 'sense', 'went', 'slow', 'left', 'copy', ']', 'kids', '[', 'modern', 'blues', 'chorus', 'musicians', 'personal', 'power', 'throughout', 'lost', 'close', 'gift', 'background', 'note', 'including', 'understand', 'brings', 'case', 'ballad', 'minutes', 'heavy', 'classical', 'huge', 'lead', 'given', 'five', 'clay', 'called', 'half', 'line', 'player', 'trying', 'sometimes', 'melody', 'easy', 'career', 'gives', '10', 'beginning', 'plays', 'produced', 'baby', 'roll', 'waters', 'took', 'thank', 'opening', 'mean', 'read', 'alone', 'arrangements', 'david', 'clear', 'add', 'boys', 'composer', 'instrumental', 'check', 'melodies', 'age', 'death', 'features', 'woman', 'recommended', 'writing', 'gave', 'matter', 'black', 'art', 'earlier', 'popular', 'son', 'talented', 'funny', 'pure', 'guy', 'stand', 'simple', 'en', 'michael', 'totally', 'debut', 'light', 'completely', 'series', 'among', 'mood', 'knew', 'traditional', 'word', 'order', 'children', 'enjoyable', 'masterpiece', 'listener', 'na', 'contains', 'themes', 'bring', 'sweet', 'coming', 'family', 'opera', 'head', 'expect', 'punk', 'instruments', 'deep', 'friends', 'fast', 'familiar', 'change', 'symphony', 'performed', 'sounding', 'example', 'include', 'house', 'moments', 'eacute', 'cast', 'upbeat', 'friend', 'range', 'abbey', 'superb', 'susan', 'wrote', 'main', 'call', 'perfectly', 'b', 'amp', 'drums', 'ballads', 'knows', 'worship', 'dream', 'oh', '$', 'king', 'etc', 'mccartney', 'appreciate', 'thanks', 'mr.', 'started', 'similar', 'parts', 'beats', 'particular', 'effort', 'history', 'stop', 'bonus', 'miss', 'book', 'lovely', 'chance', 'eyes', 'video', 'forward', '/', 'moving', 'era', 'celtic', 'type', 'scene', 'releases', 'form', 'solid', 'plus', 'blue', 'tone', 'outstanding', 'beauty', 'addition', 'tour', 'person', 'fresh', 'acoustic', 'es', 'write', 'pick', 'soon', 'touch', 'easily', 'strings', 'turn', 'felt', 'run', 'third', 'melodic', 'message', 'somewhat', 'scores', 'joy', 'salsa', 'famous', 'classics', 'emotional', 'across', 'guess', 'williams', 'broadway', 'starts', 'doubt', 'n', 'mostly', 'genre', 'memories', 'particularly', 'beautifully', 'movement', 'exactly', 'los', 'missing', 'compilation', 'except', 'sad', 'revolver', 'gone', 'period', 'energy', 'variety', 'anyway', 'roger', 'taken', 'harrison', 'attention', 'hand', '6', 'mono', 'saying', 'clearly', 'list', 'rich', 'emotion', 'includes', 'singles', 'u', 'problem', 'wonder', 'boy', 'idea', 'haunting', 'major', 'brought', 'reading', 'beyond', 'martin', 'school', 'ok', 'usually', 'remastered', 'daughter', 'passion', 'received', 'james', 'moment', 'stage', 'forever', 'became', 'care', 'future', 'product', 'fire', 'label', 'guitars', 'behind', 'r', 'genius', 'dylan', 'disco', 'sounded', 'giving', 'recently', 'hold', 'crazy', 'soundtracks', 'beethoven', 'sort', 'face', 'indeed', 'decided', 'ringo', 'english', 'within', 'moon', 'finest', 'choice', 'romantic', 'originally', 'pepper', 'child', 'needs', 'spirit', 'jesus', 'agree', 'surprised', 'kiss', 'present', 'orchestral', 'lord', 'extremely', '80', 'reminds', 'expected', 'despite', 'upon', 'nearly', 'hey', 'tv', 'rap', 'middle', 'styles', 'wow', 'movies', 'audience', 'musically', 'level', 'says', 'tape', 'seeing', 'mother', 'important', 'mine', 'un', 'imagine', 'recent', 'fit', 'bob', 'follow', 'added', 'covers', 'contemporary', 'based', 'slightly', 'rhythm', 'project', 'compared', 'older', 'holiday', 'likes', 'due', 'ears', '8', 'whether', '9', 'rare', 'sgt', 'rubber', 'admit', 'fall', 'none', '20', 'small', 'creative', 'game', 'french', '7', 'taking', 'ordered', 'selection', 'usual', 'daft', 'leave', 'watch', 'boring', 'beatle', 'longer', 'unfortunately', 'shine', 'thinking', 'audio', 'mozart', 'violin', 'success', 'personally', 'consider', 'certain', 'master', 'smooth', 'taste', 'free', 'prefer', 'party', 'unlike', 'room', 'war', 'memorable', 'deal', 'various', 'means', 'al', 'sorry', 'girls', 'tired', 'surprise', 'quickly', 'volume', 'hot', 'created', 'magic', 'dont', 'solos', 'featuring', '12', 'epic', 'move', 'immediately', 'feels', 'character', 'waiting', 'mixed', 'praise', 'harmonies', 'cry', 'open', 'minute', 'string', 'act', 'create', 'journey', 'lots', 'role', 'compositions', 'latin', 'spanish', 'serious', 'sets', 'watching', 'edition', 'gorgeous', 'return', 'folk', 'driving', 'inspired', '70', 'obviously', 'sun', 'bill', 'mark', 'loud', 'magical', 'hands', 'josh', 'lucky', 'songwriting', 'concerto', 'straight', 'deserves', 'needed', 'musician', 'whatever', 'boyle', 'living', 'listeners', 'female', '8217', 'worst', 'electronic', 'soft', 'standard', 'hate', 'reviewer', 'cuts', 'hell', 'using', 'lines', 'bach', 'tempo', 'section', 'discs', 'changed', 'talking', 'oacute', 'members', 'exciting', 'turned', 'duet', 'ability', 'low', 'stands', 'season', 'decent', 'con', 'picture', 'featured', 'exception', 'wife', 'okay', 'difficult', 'concept', 'lo', 'following', 'forget', 'rendition', 'approach', 'possible', 'relaxing', 'lyrical', 'composed', 'choir', 'impressed', 'green', 'club', 'dancing', 'double', 'arrived', 'sang', 'century', 'terrific', 'date', 'warm', 'action', 'compare', 'general', 'followed', 'depth', 'ends', 'ways', 'america', 'break', 'booklet', 'mention', 'working', 'nature', 'typical', 'flow', 'lack', 'direction', 'wants', 'seemed', 'week', 'changes', 'percussion', 'skip', 'months', 'reviewers', 'grew', 'rate', 'impressive', 'summer', 'shame', 'phil', 'result', 'gilmour', 'eric', 'talk', 'welcome', 'soothing', 'kid', 'church', 'fabulous', 'aacute', 'continues', 'mystery', '60', 'filled', 'spears', 'digital', 'numbers', 'drive', 'speak', 'ten', 'minor', 'condition', 'puts', 'faith', 'composers', 'meaning', 'hip', 'eminem', 'remains', 'keeps', 'electric', 'earth', 'stay', 'drum', 'absolute', 'favourite', 'extra', 'latest', 'near', 'effect', 'husband', 'fell', '50', 'front', 'arrangement', 'space', 'uk', 'dead', 'weak', 'raw', 'obvious', 'selections', 'este', 'basically', 'interpretation', 'gon', 'blend', 'remix', 'liner', 'pleasure', 'producer', 'stunning', 'tears', 'dramatic', '30', 'elements', 'animals', 'pleased', 'british', 'maiden', 'whose', 'tribute', 'considered', 'difference', 'standards', 'fly', 'instrument', 'lady', 'clean', 'alot', 'drama', 'wan', 'suggest', 'continue', 'lover', 'possibly', 'rating', 'six', 'grace', 'honestly', 'steve', 'influence', 'interested', 'red', 'women', 'otherwise', 'iacute', 'se', 'enya', 'father', 'honest', 'una', 'essential', '15', 'individual', 'gem', '40', 'chris', 'riffs', 'city', 'machine', 'dave', 'perform', 'groups', 'grow', 'everybody', 'mentioned', 'lives', 'human', 'highlights', 'company', 'elton', 'ask', 'organ', 'die', 'composition', 'rocks', 'realize', 'actual', 'uplifting', 'wild', 'effects', 'mature', 'poor', 'adds', 'combination', 'yellow', 'magnificent', 'peter', 'cassette', 'worthy', 'timeless', 'strange', 'spector', 'inside', 'current', 'generation', 'listens', 'expecting', 'como', 'men', 'progressive', 'starting', 'hours', 'missed', 'told', 'biggest', 'pleasant', 'describe', 'richard', 'las', 'born', \"'the\", 'players', 'happened', 'worked', 'sessions', 'alive', 'total', 'begins', 'excited', 'download', 'ride', 'yeah', 'incredibly', 'edge', 'fully', 'ending', 'regret', '11', 'previously', 'emotions', 'kept', 'mp3', 'del', 'ahead', 'finish', 'barbra', 'pass', 'tried', '2nd', 'humor', 'joe', 'pay', 'roots', 'heaven', 'funky', 'sleep', 'masters', 'delivery', 'hop', 'air', 'vocalist', 'dig', 'funk', 'weeks', 'quartet', 'submarine', 'ready', 'frank', 'uses', 'comedy', 'likely', 'store', 'annoying', 'robert', 'london', 'somehow', 'fits', 'noise', 'guitarist', 'enjoying', '13', 'feature', 'truth', 'offer', 'lovers', 'question', 'quiet', 'introduction', 'copies', 'respect', 'plenty', 'sit', 'step', 'somewhere', 'putting', 'item', 'appeal', 'discovered', 'delivers', 'leaves', 'captures', 'save', 'led', 'intro', 'begin', 'disney', 'dear', 'idol', 'ii', 'wonderfully', 'industry', 'johnny', 'christ', 'mellow', 'terms', '%', 'considering', 'zimmer', 'treat', 'key', 'films', 'keyboard', 'places', 'filler', 'remarkable', 'karajan', 'cold', 'sonic', 'grown', 'seriously', 'growing', 'packaging', 'super', 'horn', 'class', 'complex', 'share', 'ray', 'harmony', '100', 'wide', 'beach', 'hoping', 'drummer', 'stronger', 'por', 'large', 'meant', 'language', 'began', 'looks', '..', 'ms.', 'running', 'york', 'characters', 'atmosphere', 'equally', 'comparison', 'becomes', 'emi', 'conductor', 'brian', 'average', 'bridge', 'jeff', 'laugh', 'tight', 'learn', 'angel', 'content', 'appears', 'apart', 'originals', 'william', 'groove', 'problems', 'trip', 'carry', 'unless', 'interest', 'control', 'mixes', 'morning', 'successful', 'scenes', 'grand', 'howard', 'twice', 'sold', 'watched', 'soulful', 'rod', 'nicely', 'bunch', 'supposed', 'trio', '.i', 'smile', 'ensemble', 'peace', 'onto', 'tony', 'picked', 'proves', 'talents', 'provides', 'aside', 'notice', 'superior', 'package', 'latter', 'inspiring', 'irish', 'closer', 'gospel', 'turns', 'revolution', 'slower', 'weird', 'disk', 'public', 'symphonies', 'intense', 'efforts', 'jack', 'rhythms', 'charts', 'towards', 'jessica', 'view', 'walk', 'state', 'positive', '.the', 'hall', 'outside', 'brass', 'commercial', 'generally', 'purchasing', 'ring', 'finale', 'format', 'legendary', 'tells', 'value', '14', 'wind', 'shore', 'highlight', 'anymore', 'shines', 'attempt', 'folks', 'amy', 'water', 'worse', 'feelings', 'im', 'match', 'oops', 'repeat', 'system', 'presence', 'street', 'moved', 'kinda', 'glass', 'lyrically', 'subtle', 'samples', 'stories', 'ya', 'refreshing', 'birthday', 'younger', 'winter', 'jon', 'town', 'west', 'reasons', 'greater', 'duran', 'nobody', 'streisand', 'su', 'issue', 'holy', 'happen', 'harry', 'sexy', 'keyboards', 'local', 'brothers', 'davis', 'disappointment', 'loving', 'backing', 'hearts', '8220', 'terrible', 'universe', '8221', 'para', 'plain', 'support', 'jimmy', 'rolling', 'gold', 'natural', 'aiken', 'wilson', 'musicianship', 'bird', 'cause', 'former', 'entertaining', 'wanting', 'mi', 'lindsay', 'produce', 'parents', 'waste', 'disappoint', 'lonely', 'ep', 'fairly', 'critics', 'odd', 'mom', 'inspiration', 'opens', 'titles', 'producers', 'performers', 'tenor', 'credit', 'jones', 'looked', 'sea', 'sale', 'hardly', 'fair', 'points', 'instrumentation', 'page', 'sadly', 'decades', 'naked', 'rain', 'broken', 'sister', 'appear', 'hour', 'member', 'helps', 'lush', 'sarah', 'balance', 'anywhere', 'apparently', 'amount', 'intended', 'surely', 'besides', 'mainly', 'exceptional', 'ai', 'hooked', 'jerry', 'favor', 'reminiscent', 'legacy', 'higher', 'helped', '1st', 'expectations', 'dynamic', 'glory', 'rocker', 'goodbye', 'touching', 'suite', 'golden', 'buddy', 'body', 'dogs', 'japanese', 'issues', 'dreams', 'nowhere', 'spent', 'definately', 'yesterday', 'stones', 'choral', 'vibe', 'brother', 'ear', 'clarity', 'technical', 'gentle', 'riff', 'computer', 'standout', 'prince', 'anybody', 'rocking', 'psychedelic', 'german', 'stuck', 'thus', 'disappointing', 'ntilde', 'gotten', 'italian', 'telling', 'force', 'mary', 'theater', 'remastering', 'silly', 'tom', 'capitol', 'stewart', 'business', 'self', 'mainstream', 'knowing', 'memory', 'spectacular', 'performing', 'service', 'underrated', 'jam', 'session', 'thats', 'measure', 'lacks', '90', 'culture', 'repeated', 'perfection', 'blown', 'twilight', 'gems', 'catalog', 'stone', 'orchestration', 'print', 'introduced', 'creating', 'rarely', 'jackson', 'ideas', 'choose', 'glorious', 'lose', 'diamond', 'spiritual', 'offers', 'stick', '1970', 'hilarious', 'entirely', 'everywhere', 'anderson', 'fame', 'reissue', 'hopefully', 'leads', 'owned', 'pull', 'lyric', 'focus', 'lee', 'u.s.', 'eventually', 'verse', 'finding', 'soprano', 'celine', 'seven', 'limited', 'tapes', 'leon', 'bright', 'closing', 'river', 'winding', 'sheer', 'rose', 'sell', 'lacking', 'showing', 'opportunity', 'presented', 'impossible', 'breath', 'influences', 'treasure', 'tomorrow', 'smith', '80s', 'credits', 'artistic', 'reach', 'pianist', 'trumpet', 'c', 'decade', 'ta', 'hip-hop', 'pigs', 'groban', 'library', 'seconds', 'complaint', 'concertos', 'perry', 'abba', 'caught', 'offering', 'horrible', 'brown', 'monster', 'awful', 'quick', 'moves', 'heartfelt', 'remaster', 'eight', 'common', 'scott', 'sinatra', 'becoming', 'deeply', 'cant', 'length', 'movements', 'drumming', 'clever', 'asked', 'penny', 'honey', 'appeared', 'ended', 'titled', 'comments', 'queen', 'le', 'te', 'sky', 'march', 'e', 'strongly', 'standing', 'appropriate', 'selling', 'sitting', 'cute', 'provide', 'flat', 'listed', 'passionate', 'medley', 'tend', 'setting', 'holds', 'thoroughly', 'strength', 'horner', 'synth', 'twist', 'billy', 'all-time', 'follows', 'remind', 'influenced', 'signature', 'neither', 'falling', 'teen', 'energetic', 'hans', 'relate', 'states', 'delightful', 'month', 'literally', 'afraid', 'stupid', 'eye', 'adding', '~', 'passages', '2009', 'pace', 'speed', 'blood', 'winner', 'fab', '16', 'jazzy', 'learned', 'lets', 'hung', 'tradition', 'trance', 'ages', 'majority', 'legend', 'pain', 'songwriter', 'silver', 'anthology', 'instantly', 'adult', 'proud', '25', 'thrilled', 'miles', 'noticed', 'horns', 'performer', 'choices', 'market', 'team', 'bringing', 'brand', 'paid', 'ambient', 'meet', 'hendrix', 'forgotten', 'mistake', 'realized', 'keeping', 'duets', 'speaking', 'image', 'named', 'van', 'prior', 'justice', 'brief', 'flute', 'chicago', 'remixes', 'relax', 'arranged', 'variations', 'enjoys', 'crap', 'bottom', 'impact', 'fourth', 'delight', 'shot', 'combined', 'catch', 'swing', 'techno', 'negative', 'chose', '10/10', 'alternative', 'dad', 'taylor', 'hill', '70s', 'surprisingly', 'touches', 'genres', 'repetitive', 'grant', 'contain', 'potential', 'flavor', 'amazon.com', 'duo', 'stellar', 'seller', 'experimental', 'gun', 'bells', 'relationship', 'delivered', 'equal', 'involved', 'interpretations', 'sent', 'sonatas', 'everyday', 'diverse', 'speakers', 'falls', 'aware', 'killer', 'iron', 'center', 'slave', 'battle', 'concerts', 'managed', 'garden', 'ground', 'amazed', 'male', 'canciones', 'hymns', 'intensity', 'deeper', 'baroque', 'mas', 'regular', 'therefore', 'faster', 'captured', 'loss', 'itunes', 'theatre', 'marvelous', 'inspirational', 'broke', 'trust', 'uacute', 'maria', 'figure', 'round', 'esta', 'guest', 'chords', 'unusual', 'instrumentals', 'flawless', 'ultimate', 'sax', 'searching', 'leading', 'runs', 'damn', 'impression', 'sondheim', 'rick', 'process', 'capture', 'cheesy', '5/5', 'technique', 'subject', 'deliver', '3rd', 'kick', 'door', 'extended', 'dj', 'comment', 'alan', 'collector', 'cello', 'manages', 'gently', 'bear', 'barry', 'remain', '17', 'spend', 'danny', 'anthem', 'sample', 'creativity', 'showed', 'stated', 'childhood', 'evident', 'whenever', 'passed', 'wright', '18', 'writer', 'send', 'books', 'philharmonic', 'fill', 'western', 'elfman', 'covered', 'peak', 'speaks', 'rings', 'spot', 'deserve', 'cheap', 'syd', 'breaking', 'website', 'fields', 'contrast', 'pictures', 'college', 'gifted', 'mike', 'brahms', 'thrown', 'bobby', 'merengue', 'videos', 'met', 'nick', 'nevertheless', 'elvis', 'beck', 'constantly', 'station', 'thunder', 'renditions', 'yo', 'midnight', 'blessed', 'pressing', 'lps', 'leaving', 'casting', 'notch', 'multiple', 'effective', 'described', \"'i\", 'lived', 'opened', 'happens', 'rough', 'prog', 'symphonic', 'remembered', 'search', 'extraordinary', 'mediocre', 'clapton', 'amor', 'program', 'till', 'melancholy', 'creates', 'bits', 'barely', 'manner', 'simon', '2.', 'jim', 'crowd', 'throw', 'skills', 'satisfying', 'si', 'highest', 'bar', 'cross', 'youth', 'bernstein', 'strongest', 'phenomenal', 'phantom', 'additional', 'died', 'simpson', 'meaningful', 'da', 'fool', '*', 'grab', '2000', 'somebody', 'lane', 'context', 'accompaniment', 'chord', 'collections', 'tommy', 'detail', 'information', 'requiem', 'improvement', 'angels', 'nine', 'vision', 'remake', 'regardless', 'hide', 'must-have', 'promise', 'artwork', 'issued', 'capable', 'import', 'merry', 'south', 'cycle', 'appreciated', 'island', 'listing', 'chosen', 'gifts', 'biggie', 'secret', 'arguably', 'count', 'mixing', 'dated', 'greatly', 'sections', 'unknown', 'replaced', 'land', 'c.d', 'turning', 'genuine', 'hammer', 'tu', 'moore', 'statement', 'reminded', 'bruce', 'bless', 'verses', 'sublime', 'vocalists', 'feet', 'social', 'answer', 'flying', 'hidden', 'television', 'toward', 'finds', 'mid', 'rca', 'shipping', 'held', 'sides', 'billboard', 'tremendous', 'win', 'showcase', 'mahler', 'fusion', 'thomas', 'muy', 'evil', 'berlin', 'paris', 'tones', 'thoughts', 'reality', 'sick', 'poetry', 'hello', 'headphones', 'newer', 'results', 'hardcore', 'fight', 'political', 'million', 'nonetheless', 'fear', 'suppose', '1980', 'structure', 'hook', 'charm', 'santa', 'relatively', 'innovative', 'silent', 'park', 'crisp', 'floor', 'carter', 'harder', 'brilliance', 'consistent', 'sacd', 'hair', 'religious', 'improved', 'thin', 'recognize', 'professional', 'tree', 'polished', 'youtube', 'definitive', 'color', 'blake', 'perspective', 'nicki', 'shape', 'masterpieces', 'soaring', 'lively', 'conducting', 'dean', 'buble', 'amazingly', 'site', 'christina', 'max', 'poignant', 'calling', 'slight', 'par', 'collaboration', 'essence', 'showcases', 'compelling', 'sleeping', 'allow', 'varied', 'technology', 'tonight', 'sin', 'elsewhere', 'exquisite', 'g', 'lohan', 'masterful', 'cost', '60s', 'sir', 'tim', 'greatness', 'soloists', 'hooks', 'batman', '1987', 'goldsmith', 'dog', 'trouble', 'numerous', 'phrasing', 'normal', 'mad', 'kings', 'kevin', 'surprising', 'represents', 'allows', 'infectious', 'discover', 'provided', 'storm', 'orchestrations', 'driven', 'holidays', 'news', 'flows', 'and/or', 'heavily', 'acts', 'presents', 'dialogue', 'pero', 'channel', 'sonata', 'slowly', 'lower', 'wood', 'understanding', 'pie', 'et', 'charlie', 'director', 'marc', 'atmospheric', 'screaming', 'plan', 'changing', 'potter', 'rhythmic', 'calm', 'definite', 'basic', 'screen', 'intimate', 'lewis', 'details', 'weight', 'naturally', 'chamber', 'talks', 'mixture', 'attack', 'award', 'opener', 'instance', 'proof', 'prove', 'agnetha', 'remasters', 'excitement', 'lullaby', 'rigby', 'acting', 'contained', 'brilliantly', 'ultimately', 'imagination', 'concerned', 'rush', 'op', 'unreleased', 'dull', 'currently', 'core', 'kicks', 'hype', 'crafted', 'les', 'laughing', 'planet', '20th', 'anthrax', 'contributions', 'bell', 'producing', 'instant', 'emotionally', 'occasionally', 'loose', 'display', 'wondering', 'ladies', 'express', '1.', 'normally', 'distinct', 'prime', 'builds', 'frankly', 'personality', 'joke', 'musica', 'names', 'test', 'sheep', 'neil', 'inner', 'sex', '.this', 'compilations', 'gene', 'disagree', 'russell', 'noted', 'ipod', 'finished', 'messages', 'experienced', 'darker', 'lesser', 'train', 'overture', 'blow', 'entertainment', 'attitude', 'fantasy', 'historical', 'miller', 'repertoire', 'dreamed', 'peaceful', 'per', 'safe', 'rocky', 'alternate', 'correct', 'explain', 'laid', 'allowed', 'plant', 'overlooked', 'fascinating', 'tender', 'entitled', 'photos', 'reached', 'carefully', 'shout', 'pbs', 'notable', 'jay', 'hollywood', 'accompanied', 'images', 'cases', 'crystal', 'revival']\n",
      "Number of unique words 256092\n",
      "Number words that appear more than 400 times 2301\n",
      "Getting unique id for each word...\n",
      "Creating traning matrix\n"
     ],
     "name": "stdout"
    }
   ]
  },
  {
   "cell_type": "markdown",
   "metadata": {
    "id": "bWTO6xGnUBNN"
   },
   "source": [
    "# Training + Modals"
   ]
  },
  {
   "cell_type": "code",
   "metadata": {
    "colab": {
     "base_uri": "https://localhost:8080/"
    },
    "id": "lZSejBQzU3TE",
    "outputId": "50a81331-eaa1-4bc4-9435-a90d6f8a6d83"
   },
   "source": [
    "# Train data\n",
    "print(\"Doing some machine learning...\")\n",
    "X_train, X_test, y_train, y_test = sklearn.model_selection.train_test_split(data, predicted_variable, test_size=0.4)"
   ],
   "execution_count": null,
   "outputs": [
    {
     "output_type": "stream",
     "text": [
      "Doing some machine learning...\n"
     ],
     "name": "stdout"
    }
   ]
  },
  {
   "cell_type": "code",
   "metadata": {
    "colab": {
     "base_uri": "https://localhost:8080/"
    },
    "id": "QabgbHUwT9Iv",
    "outputId": "170c2468-2d43-44b0-ccc1-6daefe9b9a6f"
   },
   "source": [
    "# GNB\n",
    "print(\"Trying gaussian naive bayes\")\n",
    "gnb = sklearn.naive_bayes.GaussianNB()\n",
    "y_pred = gnb.fit(X_train, y_train).predict(X_test)\n",
    "print(\"F1 score: {}\".format(sklearn.metrics.f1_score(y_test, y_pred)))\n",
    "print(\"accuracy score: {}\".format(sklearn.metrics.accuracy_score(y_test, y_pred)))"
   ],
   "execution_count": null,
   "outputs": [
    {
     "output_type": "stream",
     "text": [
      "Trying gaussian naive bayes\n",
      "F1 score: 0.8743999446634848\n",
      "accuracy score: 0.7957020702070207\n"
     ],
     "name": "stdout"
    }
   ]
  },
  {
   "cell_type": "code",
   "metadata": {
    "colab": {
     "base_uri": "https://localhost:8080/"
    },
    "id": "Su3GntrDT00q",
    "outputId": "ae2438df-1c87-48c2-da63-eccef10b399f"
   },
   "source": [
    "# Decision tree\n",
    "print(\"Trying a decision tree\")\n",
    "clf = sklearn.tree.DecisionTreeClassifier(max_depth=4)\n",
    "y_pred = clf.fit(X_train, y_train).predict(X_test)\n",
    "print(\"F1 score: {}\".format(sklearn.metrics.f1_score(y_test, y_pred)))                                                                                                                                                                                                                                                                                                                                                                                                                                                                                                                                                                                         \n",
    "print(\"accuracy score: {}\".format(sklearn.metrics.accuracy_score(y_test, y_pred)))"
   ],
   "execution_count": null,
   "outputs": [
    {
     "output_type": "stream",
     "text": [
      "Trying a decision tree\n",
      "F1 score: 0.9296372165185877\n",
      "accuracy score: 0.8693744374437443\n"
     ],
     "name": "stdout"
    }
   ]
  }
 ]
}